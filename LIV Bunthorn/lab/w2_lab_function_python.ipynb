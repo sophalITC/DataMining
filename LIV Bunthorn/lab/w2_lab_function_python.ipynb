{
 "cells": [
  {
   "cell_type": "markdown",
   "id": "e2744a19",
   "metadata": {},
   "source": [
    "Author: Bunthorn LIV\n",
    "\n",
    "# 1 Function\n",
    "Generally, Python programming is divided the function into three types: 1. Built-in function 2. User-defined   function 3. Lambda function\n",
    "\n",
    "## 1.1 Built-in Function\n",
    "In python or many programming languages has defined the built-in function as the function that already defined in the program such as : 1. abs() Returns the absolute value of a number 2. chr() Returns a character from the specified Unicode code. 3. dir() Returns a list of the specified object’s properties and methods 4. help() Executes the built-in help system 5. hex() Converts a number into a hexadecimal value 6. id() Returns the id of an object 7. input() Allowing user input 8. len() Returns the length of an object 9. list() Returns a list 10. map() Returns the specified iterator with the specified function applied to each item 11. max() Returns the largest item in an iterable and so on\n",
    "\n",
    "## 1.2  User-defined function\n",
    "In general term of python function, it can be separated that user-defined can be divided ito (i) non-return function and (ii) return -function\n",
    "\n",
    "### 1.2.1 Non-return function (void function)"
   ]
  },
  {
   "cell_type": "code",
   "execution_count": 1,
   "id": "333dca71",
   "metadata": {},
   "outputs": [
    {
     "name": "stdout",
     "output_type": "stream",
     "text": [
      "I like coding\n",
      "The world is beautiful with coding\n",
      "Python is eating data science\n"
     ]
    }
   ],
   "source": [
    "# non-return function\n",
    "def test():\n",
    "    print(\"I like coding\")\n",
    "    print(\"The world is beautiful with coding\")\n",
    "    print(\"Python is eating data science\")\n",
    "test()"
   ]
  },
  {
   "cell_type": "code",
   "execution_count": 2,
   "id": "82bdb18f",
   "metadata": {},
   "outputs": [
    {
     "name": "stdout",
     "output_type": "stream",
     "text": [
      "90\n"
     ]
    }
   ],
   "source": [
    "def test1():\n",
    "    a=40\n",
    "    b=50\n",
    "    print(a+b)\n",
    "test1()"
   ]
  },
  {
   "cell_type": "code",
   "execution_count": 4,
   "id": "85f4a7b2",
   "metadata": {},
   "outputs": [
    {
     "name": "stdout",
     "output_type": "stream",
     "text": [
      "Enter weight:12\n",
      "Enter height:15\n",
      "The area of triangle is:  90.0\n",
      "The area of triangle is: 90.0\n"
     ]
    }
   ],
   "source": [
    "#all function must be non-return\n",
    "#function triangle_area_cal()\n",
    "#function circle_area_cal()\n",
    "#function rectangle_area_cal()\n",
    "#func1\n",
    "#i++ (increment: i=i+1), i-- (decrement: i=i-1)\n",
    "\n",
    "def tri_area_cal():\n",
    "    b=float(input(\"Enter weight:\"))\n",
    "    h=float(input(\"Enter height:\"))\n",
    "    area=0.5*b*h\n",
    "    print(\"The area of triangle is: \", area)\n",
    "    print(f\"The area of triangle is: {area}\")\n",
    "\n",
    "def cir_area_cal():\n",
    "    r=float(input(\"Enter R: \"))\n",
    "    area=3.14*r*r\n",
    "    print(f\"The area of circle is: {area}\")\n",
    "    \n",
    "def rec_area_cal():\n",
    "    b=float(input(\"Enter weight:\")) \n",
    "    h=float(input(\"Enter height:\")) \n",
    "    area=b*h\n",
    "    print(\"The area of triangle is : \",area)\n",
    "\n",
    "tri_area_cal()"
   ]
  },
  {
   "cell_type": "markdown",
   "id": "8eba304f",
   "metadata": {},
   "source": [
    "Write the following program in Python: #welcome to area calculation and temperature coversion 1. Rectangle area 2. Circle area 3. Triangle area 4. Celcius to fahrenheit 5. Fahrenheit to celcius select your choice: 1 "
   ]
  },
  {
   "cell_type": "code",
   "execution_count": 9,
   "id": "e0dde3b5",
   "metadata": {},
   "outputs": [
    {
     "name": "stdout",
     "output_type": "stream",
     "text": [
      "welcome to area calculation and temperature coversion :\n",
      "1. Rectangle area \n",
      "2. Circle area \n",
      "3. Triangle area \n",
      "4. Celcius to fahrenheit\n",
      "5. Fahrenheit to celciu\n",
      "select your choice: 4\n",
      "Enter tem_cel:23\n",
      "Temperature as fahranheit is: 73.4\n"
     ]
    }
   ],
   "source": [
    "def tri_area_cal():\n",
    "    b=float(input(\"Enter weight: \"))\n",
    "    h=float(input(\"Enter height: \"))\n",
    "    area=0.5*b*h\n",
    "    print(\"The area of triangle is: \", area)\n",
    "    print(f\"The area of triangle is: {area}\")\n",
    "    \n",
    "def cir_area_cal():\n",
    "    r=float(input(\"Enter R:\"))\n",
    "    area=3.14*r*r\n",
    "    print(f\"The area of circle is: {area}\")#f string format(3.6)\n",
    "def rec_area_cal():\n",
    "    b=float(input(\"Enter weight: \"))\n",
    "    h=float(input(\"Enter height: \"))\n",
    "    area=b*h\n",
    "    print(\"The area of triangle is: \",area)\n",
    "\n",
    "def cel_to_far():\n",
    "    b=float(input(\"Enter tem_cel:\"))\n",
    "    far=(b*9/5)+32\n",
    "    print(f\"Temperature as fahranheit is: {far}\") #f string\n",
    "    #print(\"Temperature as fahranheit is:{}\",.format('far')#string format #def)\n",
    "    \n",
    "print(\"welcome to area calculation and temperature coversion :\")\n",
    "print(\"1. Rectangle area \")\n",
    "print(\"2. Circle area \")\n",
    "print(\"3. Triangle area \")\n",
    "print(\"4. Celcius to fahrenheit\") \n",
    "print(\"5. Fahrenheit to celciu\") \n",
    "n=int(input(\"select your choice: \"))\n",
    "\n",
    "if n==1:\n",
    "    rec_area_cal()\n",
    "elif n==2:\n",
    "    cir_area_cal() \n",
    "elif n==3:\n",
    "    tri_area_cal()\n",
    "elif n==4:\n",
    "    cel_to_far()\n"
   ]
  },
  {
   "cell_type": "markdown",
   "id": "44e6d833",
   "metadata": {},
   "source": [
    "### 1.2.2 Return function"
   ]
  },
  {
   "cell_type": "code",
   "execution_count": 13,
   "id": "7dd03b8c",
   "metadata": {},
   "outputs": [
    {
     "name": "stdout",
     "output_type": "stream",
     "text": [
      "Enter Farenheit temperature: 67\n",
      "67.0 degree farenheit = 19.44 degree celius\n",
      "67.0  degree farenheit =  19.444  degree celius\n"
     ]
    }
   ],
   "source": [
    " #return function have keyword return #paramednter vs argument\n",
    "def sum_3_num(a, b, c):\n",
    "    return a+b+c\n",
    "#print(sum_3_num(45,6,7))\n",
    "def triangle_area(a,b):\n",
    "    area=0.5 *a*b\n",
    "    return area\n",
    "a = triangle_area(6,9) #print(a)\n",
    "def far_to_cel(far):\n",
    "    return (far-32)*(5/9)\n",
    "\n",
    "a=float(input(\"Enter Farenheit temperature: \"))\n",
    "temp_cel=far_to_cel(a)\n",
    "print(f\"{a} degree farenheit = {temp_cel:.2f} degree celius\")\n",
    "print(a,\" degree farenheit = \",round(temp_cel,3), \" degree celius\")"
   ]
  },
  {
   "cell_type": "code",
   "execution_count": 14,
   "id": "d5a18d83",
   "metadata": {},
   "outputs": [
    {
     "name": "stdout",
     "output_type": "stream",
     "text": [
      "Welcome to temperature coversion program\n",
      "1. Celious to farenheit\n",
      "2. farenheit to celious\n",
      "Choice: 1\n",
      "Enter celious degree: 54\n",
      "The farenheit degree at 54.0 celious degree is: 129.2\n"
     ]
    }
   ],
   "source": [
    "def far_to_cel(far):\n",
    "    return (far-32)*(5/9)\n",
    "def cel_to_far(cel):\n",
    "    return (cel*9/5)+32\n",
    "print(\"Welcome to temperature coversion program\")\n",
    "print(\"1. Celious to farenheit\")\n",
    "print(\"2. farenheit to celious\")\n",
    "n=int(input(\"Choice: \"))\n",
    "if(n==1):\n",
    "    a=float(input(\"Enter celious degree: \"))\n",
    "    b=cel_to_far(a)\n",
    "    print(f\"The farenheit degree at {a} celious degree is: {b}\")\n",
    "elif (n==2):\n",
    "    x=float(input(\"Enter farenheit degree:\"))\n",
    "    y=far_to_cel(x)\n",
    "    print(f\"The farenheit degree at {x} celious degree is: {y}\")"
   ]
  },
  {
   "cell_type": "code",
   "execution_count": 15,
   "id": "b819f841",
   "metadata": {},
   "outputs": [
    {
     "name": "stdout",
     "output_type": "stream",
     "text": [
      "Enter your money $: 2000\n",
      "Enter a yearly rate: 4\n",
      "Enter number of years: 10\n",
      "year 1 : $2080.00\n",
      "year 2 : $2163.20\n",
      "year 3 : $2249.73\n",
      "year 4 : $2339.72\n",
      "year 5 : $2433.31\n",
      "year 6 : $2530.64\n",
      "year 7 : $2631.86\n",
      "year 8 : $2737.14\n",
      "year 9 : $2846.62\n",
      "year 10 : $2960.49\n"
     ]
    }
   ],
   "source": [
    "def invest_fv(pv,rate,years):\n",
    "    for i in range(1,years+1):\n",
    "        pv=pv*(1+rate/100)\n",
    "        print(f\"year {i} : ${pv:.2f}\")\n",
    "pv=int(input(\"Enter your money $: \"))\n",
    "rate=float(input(\"Enter a yearly rate: \"))\n",
    "years=int(input(\"Enter number of years: \"))\n",
    "\n",
    "invest_fv(pv,rate,years)"
   ]
  },
  {
   "cell_type": "code",
   "execution_count": 17,
   "id": "bc26ff53",
   "metadata": {},
   "outputs": [
    {
     "name": "stdout",
     "output_type": "stream",
     "text": [
      "24\n"
     ]
    }
   ],
   "source": [
    "#Recusive function\n",
    "#4!=4*3*2*1 #f(n)=f(n-1)*f(n-2)*f(n-3)*...*f(1)\n",
    "def factory(n):\n",
    "    if n<0:\n",
    "        return \"Error: only possitive accepted\"\n",
    "    elif n==0:\n",
    "        return 1\n",
    "    else:\n",
    "        return n * factory(n-1)\n",
    "# 4*f(3)=4*3*f(2)=4*3*2*f(1)=4*3*2*1*f(0)=4*3*2*1*\n",
    "print(factory(4))"
   ]
  },
  {
   "cell_type": "code",
   "execution_count": 18,
   "id": "e447084f",
   "metadata": {},
   "outputs": [
    {
     "name": "stdout",
     "output_type": "stream",
     "text": [
      "Enter number: 5\n",
      "5\n",
      "4\n",
      "3\n",
      "2\n",
      "1\n",
      "0\n"
     ]
    }
   ],
   "source": [
    "def countdown_num(n):\n",
    "    if n==0:\n",
    "        return 0\n",
    "    elif n<0: #-10+1 print(n)\n",
    "        return countdown_num(n+1)\n",
    "    else:\n",
    "        print(n)\n",
    "        return countdown_num(n-1)\n",
    "num=int(input(\"Enter number: \"))\n",
    "print(countdown_num(num))"
   ]
  },
  {
   "cell_type": "code",
   "execution_count": 19,
   "id": "f1225286",
   "metadata": {},
   "outputs": [
    {
     "name": "stdout",
     "output_type": "stream",
     "text": [
      "125\n"
     ]
    }
   ],
   "source": [
    "# exp_num(5,2): 50= 5* 5**2\n",
    "def exp_num(n,m):\n",
    "    if m==0:\n",
    "        return n\n",
    "    else:\n",
    "        return n*exp_num(n,m-1)\n",
    "print(exp_num(5,2))\n",
    "#5*exp(5,1)=5*5*exp(5,0)=5*5*5=125"
   ]
  },
  {
   "cell_type": "markdown",
   "id": "3d70b83a",
   "metadata": {},
   "source": [
    "## 1.3 Lambda function"
   ]
  },
  {
   "cell_type": "code",
   "execution_count": 20,
   "id": "a7f38ca6",
   "metadata": {},
   "outputs": [
    {
     "name": "stdout",
     "output_type": "stream",
     "text": [
      "900\n",
      "900\n",
      "15.0\n",
      "93.2\n"
     ]
    }
   ],
   "source": [
    "# lambda argument: expression\n",
    "def area_rec(w,h):\n",
    "    return w*h\n",
    "\n",
    "x = lambda w , h : w*h\n",
    "far_to_cel = lambda far: ((far-32)*(5/9))\n",
    "cel_to_far = lambda cel: ((cel * 9/5) + 32)\n",
    "print(area_rec(20,45))\n",
    "print(x(20,45))\n",
    "print(far_to_cel(59))\n",
    "print(cel_to_far(34))"
   ]
  },
  {
   "cell_type": "code",
   "execution_count": 21,
   "id": "efaa1ba0",
   "metadata": {},
   "outputs": [
    {
     "name": "stdout",
     "output_type": "stream",
     "text": [
      "Welcome to temperature coversion program\n",
      "1. Celious to farenheit\n",
      "2. farenheit to celious\n",
      "Choice: 1\n",
      "Enter celious degree: 58\n",
      "The farenheit degree at 58.0 celious degree is: 14.444 \n"
     ]
    }
   ],
   "source": [
    "#def far_to_cel(far):\n",
    "# return (far-32)*(5/9)\n",
    "x=lambda far:(far-32)*(5/9)\n",
    "#def cel_to_far(cel):\n",
    "# return (cel*9/5)+32\n",
    "y=lambda cel:(cel*9/5)+32\n",
    "print(\"Welcome to temperature coversion program\")\n",
    "print(\"1. Celious to farenheit\")\n",
    "print(\"2. farenheit to celious\")\n",
    "n=int(input(\"Choice: \"))\n",
    "if(n==1):\n",
    "    a=float(input(\"Enter celious degree: \"))\n",
    "    b=x(a)\n",
    "    print(f\"The farenheit degree at {a} celious degree is: {b:.3f} \")\n",
    "#elif (n==2):v"
   ]
  },
  {
   "cell_type": "code",
   "execution_count": null,
   "id": "a67f0058",
   "metadata": {},
   "outputs": [],
   "source": []
  }
 ],
 "metadata": {
  "kernelspec": {
   "display_name": "Python 3 (ipykernel)",
   "language": "python",
   "name": "python3"
  },
  "language_info": {
   "codemirror_mode": {
    "name": "ipython",
    "version": 3
   },
   "file_extension": ".py",
   "mimetype": "text/x-python",
   "name": "python",
   "nbconvert_exporter": "python",
   "pygments_lexer": "ipython3",
   "version": "3.9.10"
  }
 },
 "nbformat": 4,
 "nbformat_minor": 5
}
