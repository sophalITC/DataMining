{
 "cells": [
  {
   "cell_type": "markdown",
   "id": "0615f6eb",
   "metadata": {},
   "source": [
    "# 1 Function"
   ]
  },
  {
   "cell_type": "markdown",
   "id": "c1f9a297",
   "metadata": {},
   "source": [
    "Generally, Python programming is divided the function into three types: \n",
    "1. Built-in function \n",
    "2. User-defined function 3. Lambda function"
   ]
  },
  {
   "cell_type": "markdown",
   "id": "ba4b002a",
   "metadata": {},
   "source": [
    "# 1.1 Built-in function"
   ]
  },
  {
   "cell_type": "markdown",
   "id": "b3c9af84",
   "metadata": {},
   "source": [
    "In python or many programming languages has defined the built-in function as the function that\n",
    "already defined in the program such as : 1. abs() Returns the absolute value of a number 2. chr()\n",
    "Returns a character from the specified Unicode code. 3. dir() Returns a list of the specified object’s\n",
    "properties and methods 4. help() Executes the built-in help system 5. hex() Converts a number\n",
    "into a hexadecimal value 6. id() Returns the id of an object 7. input() Allowing user input 8. len()\n",
    "Returns the length of an object 9. list() Returns a list 10. map() Returns the specified iterator\n",
    "with the specified function applied to each item 11. max() Returns the largest item in an iterable\n",
    "and so on"
   ]
  },
  {
   "cell_type": "markdown",
   "id": "4a29743d",
   "metadata": {},
   "source": [
    "# 1.2 User-defined function"
   ]
  },
  {
   "cell_type": "markdown",
   "id": "128b9b78",
   "metadata": {},
   "source": [
    "In general term of python function, it can be separated that user-defined can be divided ito (i)\n",
    "non-return function and (ii) return -function"
   ]
  },
  {
   "cell_type": "markdown",
   "id": "bb6e55ed",
   "metadata": {},
   "source": [
    "\n",
    "# 1.2.1 Non-return function (void function)\n"
   ]
  },
  {
   "cell_type": "code",
   "execution_count": 1,
   "id": "b6a32492",
   "metadata": {},
   "outputs": [
    {
     "ename": "IndentationError",
     "evalue": "expected an indented block (Temp/ipykernel_11580/776479627.py, line 2)",
     "output_type": "error",
     "traceback": [
      "\u001b[1;36m  File \u001b[1;32m\"C:\\Users\\CHHOEM~1\\AppData\\Local\\Temp/ipykernel_11580/776479627.py\"\u001b[1;36m, line \u001b[1;32m2\u001b[0m\n\u001b[1;33m    print(\"I like coding\")\u001b[0m\n\u001b[1;37m    ^\u001b[0m\n\u001b[1;31mIndentationError\u001b[0m\u001b[1;31m:\u001b[0m expected an indented block\n"
     ]
    }
   ],
   "source": [
    "def test():\n",
    "print(\"I like coding\")\n",
    "print(\"The world is beautiful with coding\")\n",
    "print(\"Python is eating data science\")\n",
    "test()\n"
   ]
  },
  {
   "cell_type": "code",
   "execution_count": 2,
   "id": "4c8e347f",
   "metadata": {},
   "outputs": [
    {
     "ename": "IndentationError",
     "evalue": "expected an indented block (Temp/ipykernel_11580/1972211741.py, line 2)",
     "output_type": "error",
     "traceback": [
      "\u001b[1;36m  File \u001b[1;32m\"C:\\Users\\CHHOEM~1\\AppData\\Local\\Temp/ipykernel_11580/1972211741.py\"\u001b[1;36m, line \u001b[1;32m2\u001b[0m\n\u001b[1;33m    a=40\u001b[0m\n\u001b[1;37m    ^\u001b[0m\n\u001b[1;31mIndentationError\u001b[0m\u001b[1;31m:\u001b[0m expected an indented block\n"
     ]
    }
   ],
   "source": [
    "def test1():\n",
    "    a=40\n",
    "    b=50\n",
    "    print(a+b)\n",
    "test1()"
   ]
  },
  {
   "cell_type": "code",
   "execution_count": 7,
   "id": "6ca0dc3e",
   "metadata": {},
   "outputs": [
    {
     "name": "stdout",
     "output_type": "stream",
     "text": [
      "Enter weight:1\n",
      "Enter height:1\n",
      "The area of triangle is :  0.5\n",
      "The area of triangle is : 0.5\n"
     ]
    }
   ],
   "source": [
    "#all function must be non-return\n",
    "#function triangle_area_cal()\n",
    "#function circle_area_cal()\n",
    "#function rectangle_area_cal()\n",
    "#func1\n",
    "# i++ (increment : i=i+1), i-- (decrement: i=i-1)\n",
    "\n",
    "def tri_area_cal():\n",
    "    b=float(input(\"Enter weight:\"))\n",
    "    h=float(input(\"Enter height:\"))\n",
    "    area=0.5*b*h\n",
    "    print(\"The area of triangle is : \",area)\n",
    "    print(f\"The area of triangle is : {area}\")\n",
    "def cir_area_cal():\n",
    "    r=float(input(\" Enter R: \"))\n",
    "    area= 3.14*r*r\n",
    "    print(f\"The area of circle is : {area}\")\n",
    "def rec_area_cal():\n",
    "    b=float(input(\"Enter weight:\"))\n",
    "    h=float(input(\"Enter height:\"))\n",
    "    area=b*h\n",
    "    print(\"The area of triangle is : \",area)\n",
    "tri_area_cal()"
   ]
  },
  {
   "cell_type": "markdown",
   "id": "36899afc",
   "metadata": {},
   "source": [
    "Write the following program in Python: #welcome to area calculation and temperature coversion\n",
    "1. Rectangle area 2. Circle area 3. Triangle area 4. Celcius to fahrenheit 5. Fahrenheit to celcius\n",
    "select your choice: 1"
   ]
  },
  {
   "cell_type": "code",
   "execution_count": 10,
   "id": "907836d7",
   "metadata": {},
   "outputs": [
    {
     "name": "stdout",
     "output_type": "stream",
     "text": [
      "welcome to area calculation and temperature coversion :\n",
      "1. Rectangle area \n",
      "2. Circle area \n",
      "3. Triangle area \n",
      "4. Celcius to fahrenheit\n",
      "5. Fahrenheit to celciu\n",
      "select your choice: 1\n",
      "Enter weight:1\n",
      "Enter height:1\n",
      "The area of triangle is :  1.0\n"
     ]
    }
   ],
   "source": [
    "def tri_area_cal():\n",
    "    b=float(input(\"Enter weight:\"))\n",
    "    h=float(input(\"Enter height:\"))\n",
    "    area=0.5*b*h\n",
    "    print(\"The area of triangle is : \",area)\n",
    "    print(f\"The area of triangle is : {area}\")\n",
    "def cir_area_cal():\n",
    "    r=float(input(\" Enter R: \"))\n",
    "    area= 3.14*r*r\n",
    "    print(f\"The area of circle is : {area}\")#f string format (3.6 )\n",
    "def rec_area_cal():\n",
    "    b=float(input(\"Enter weight:\"))\n",
    "    h=float(input(\"Enter height:\"))\n",
    "    area=b*h\n",
    "    print(\"The area of triangle is : \",area)\n",
    "def cel_to_far():\n",
    "    b=float(input(\"Enter tem_cel:\"))\n",
    "    far=(b * 9/5) + 32\n",
    "    print(f\"Temperature as fahranheit is : {far}\")#f string\n",
    "    #print(\"Temperature as fahranheit is : {}\",.format('far')#string format\n",
    "#def\n",
    "print(\"welcome to area calculation and temperature coversion :\")\n",
    "print(\"1. Rectangle area \")\n",
    "print(\"2. Circle area \")\n",
    "print(\"3. Triangle area \")\n",
    "print(\"4. Celcius to fahrenheit\")\n",
    "print(\"5. Fahrenheit to celciu\")\n",
    "n=int(input(\"select your choice: \"))\n",
    "if n==1:\n",
    "    rec_area_cal()\n",
    "elif n==2:\n",
    "    cir_area_cal()\n",
    "elif n==3:\n",
    "    tri_area_cal()\n"
   ]
  },
  {
   "cell_type": "markdown",
   "id": "c9c4ad72",
   "metadata": {},
   "source": [
    "# 1.2.2 Return function"
   ]
  },
  {
   "cell_type": "code",
   "execution_count": 11,
   "id": "710e300d",
   "metadata": {},
   "outputs": [
    {
     "name": "stdout",
     "output_type": "stream",
     "text": [
      "Enter Farenheit temperature: 1\n",
      "1.0 degree farenheit = -17.22 degree celius\n",
      "1.0  degree farenheit =  -17.222  degree celius\n"
     ]
    }
   ],
   "source": [
    "#return function have keyword return\n",
    "#paramednter vs argument\n",
    "def sum_3_num(a, b, c):\n",
    "    return a+b+c\n",
    "#print(sum_3_num(45,6,7))\n",
    "def triangle_area(a,b):\n",
    "    area=0.5 *a*b\n",
    "    return area\n",
    "a =triangle_area(6,9)\n",
    "#print(a)\n",
    "def far_to_cel(far):\n",
    "    return (far-32)*(5/9)\n",
    "a=float(input(\"Enter Farenheit temperature: \"))\n",
    "temp_cel=far_to_cel(a)\n",
    "print(f\"{a} degree farenheit = {temp_cel:.2f} degree celius\")\n",
    "print(a,\" degree farenheit = \",round(temp_cel,3), \" degree celius\")\n",
    "#3 return function : circle area, Multiple of 3 number, Fahrenheit to celcius"
   ]
  },
  {
   "cell_type": "code",
   "execution_count": 12,
   "id": "fa88c706",
   "metadata": {},
   "outputs": [
    {
     "name": "stdout",
     "output_type": "stream",
     "text": [
      "Welcome to temperature coversion program\n",
      "1. Celious to farenheit\n",
      "2. farenheit to celious\n",
      "Choise: 2\n",
      "Enter farenheit degree:2\n",
      "The farenheit degree at 2.0 celious degree is: -16.666666666666668\n"
     ]
    }
   ],
   "source": [
    "def far_to_cel(far):\n",
    "    return (far-32)*(5/9)\n",
    "def cel_to_far(cel):\n",
    "    return (cel*9/5)+32\n",
    "print(\"Welcome to temperature coversion program\")\n",
    "print(\"1. Celious to farenheit\")\n",
    "print(\"2. farenheit to celious\")\n",
    "n=int(input(\"Choise: \"))\n",
    "if(n==1):\n",
    "    a=float(input(\"Enter celious degree: \"))\n",
    "    b=cel_to_far(a)\n",
    "    print(f\"The farenheit degree at {a} celious degree is: {b}\")\n",
    "elif (n==2):\n",
    "    x=float(input(\"Enter farenheit degree:\"))\n",
    "    y=far_to_cel(x)\n",
    "    print(f\"The farenheit degree at {x} celious degree is: {y}\")\n"
   ]
  },
  {
   "cell_type": "code",
   "execution_count": 13,
   "id": "94cd3591",
   "metadata": {},
   "outputs": [
    {
     "name": "stdout",
     "output_type": "stream",
     "text": [
      "Enter your money $: 12\n",
      "Enter a yearly rate: 2\n",
      "Enter number of yearts: 2\n",
      "year 1 : $12.24\n",
      "year 2 : $12.48\n"
     ]
    }
   ],
   "source": [
    "def invest_fv(pv,rate,years):\n",
    "    for i in range(1,years+1):\n",
    "        pv=pv*(1+rate/100)\n",
    "        print(f\"year {i} : ${pv:.2f}\")\n",
    "pv=int(input(\"Enter your money $: \"))\n",
    "rate=float(input(\"Enter a yearly rate: \"))\n",
    "years=int(input(\"Enter number of yearts: \"))\n",
    "invest_fv(pv,rate,years)"
   ]
  },
  {
   "cell_type": "code",
   "execution_count": 14,
   "id": "d112f073",
   "metadata": {},
   "outputs": [
    {
     "name": "stdout",
     "output_type": "stream",
     "text": [
      "24\n"
     ]
    }
   ],
   "source": [
    "#Recusive function\n",
    "#4!=4*3*2*1\n",
    "#f(n)=f(n-1)*f(n-2)*f(n-3)*...*f(1)\n",
    "def factory(n):\n",
    "    if n<0:\n",
    "        return \"Error: only possitive accepted\"\n",
    "    elif n==0:\n",
    "        return 1\n",
    "    else:\n",
    "        return n *factory(n-1)\n",
    "#4*f(3)=4*3*f(2)=4*3*2*f(1)=4*3*2*1*f(0)=4*3*2*1*1\n",
    "print(factory(4))\n"
   ]
  },
  {
   "cell_type": "code",
   "execution_count": 15,
   "id": "e9ca5757",
   "metadata": {},
   "outputs": [
    {
     "name": "stdout",
     "output_type": "stream",
     "text": [
      "Enter number: 3\n",
      "3\n",
      "2\n",
      "1\n",
      "0\n"
     ]
    }
   ],
   "source": [
    "def countdown_num(n):\n",
    "    if n==0:\n",
    "        return 0\n",
    "    elif n<0: #-10+1\n",
    "        print(n)\n",
    "        return countdown_num(n+1)\n",
    "    else:\n",
    "        print(n)\n",
    "        return countdown_num(n-1)\n",
    "num=int(input(\"Enter number: \"))\n",
    "print(countdown_num(num))\n"
   ]
  },
  {
   "cell_type": "code",
   "execution_count": 16,
   "id": "ac59538c",
   "metadata": {},
   "outputs": [
    {
     "name": "stdout",
     "output_type": "stream",
     "text": [
      "125\n"
     ]
    }
   ],
   "source": [
    "# exp_num(5,2): 50= 5* 5**2\n",
    "def exp_num(n,m):\n",
    "    if m==0:\n",
    "        return n\n",
    "    else:\n",
    "        return n*exp_num(n,m-1)\n",
    "print(exp_num(5,2))\n",
    "#5*exp(5,1)=5*5*exp(5,0)=5*5*5=125"
   ]
  },
  {
   "cell_type": "markdown",
   "id": "c98a7f0e",
   "metadata": {},
   "source": [
    "# 1.3 Lambda function"
   ]
  },
  {
   "cell_type": "code",
   "execution_count": 17,
   "id": "cc1e4098",
   "metadata": {},
   "outputs": [
    {
     "name": "stdout",
     "output_type": "stream",
     "text": [
      "900\n",
      "900\n",
      "15.0\n",
      "93.2\n"
     ]
    }
   ],
   "source": [
    "# lambda argument: expression\n",
    "def area_rec(w,h):\n",
    "    return w*h\n",
    "x = lambda w , h : w*h\n",
    "far_to_cel = lambda far: ((far-32)*(5/9))\n",
    "cel_to_far = lambda cel: ((cel * 9/5) + 32)\n",
    "print(area_rec(20,45))\n",
    "print(x(20,45))\n",
    "print(far_to_cel(59))\n",
    "print(cel_to_far(34))"
   ]
  },
  {
   "cell_type": "code",
   "execution_count": 18,
   "id": "ebc81cfb",
   "metadata": {},
   "outputs": [
    {
     "name": "stdout",
     "output_type": "stream",
     "text": [
      "Welcome to temperature coversion program\n",
      "1. Celious to farenheit\n",
      "2. farenheit to celious\n",
      "Choise: 2\n"
     ]
    }
   ],
   "source": [
    "#def far_to_cel(far):\n",
    "# return (far-32)*(5/9)\n",
    "x=lambda far:(far-32)*(5/9)\n",
    "#def cel_to_far(cel):\n",
    "# return (cel*9/5)+32\n",
    "y=lambda cel:(cel*9/5)+32\n",
    "print(\"Welcome to temperature coversion program\")\n",
    "print(\"1. Celious to farenheit\")\n",
    "print(\"2. farenheit to celious\")\n",
    "n=int(input(\"Choise: \"))\n",
    "if(n==1):\n",
    "    a=float(input(\"Enter celious degree: \"))\n",
    "    b=x(a)\n",
    "    print(f\"The farenheit degree at {a} celious degree is: {b:.3f} \")\n",
    "#elif (n==2):v"
   ]
  },
  {
   "cell_type": "markdown",
   "id": "5238f620",
   "metadata": {},
   "source": [
    "# Thank You! "
   ]
  },
  {
   "cell_type": "code",
   "execution_count": null,
   "id": "891f3d9f",
   "metadata": {},
   "outputs": [],
   "source": []
  }
 ],
 "metadata": {
  "kernelspec": {
   "display_name": "Python 3 (ipykernel)",
   "language": "python",
   "name": "python3"
  },
  "language_info": {
   "codemirror_mode": {
    "name": "ipython",
    "version": 3
   },
   "file_extension": ".py",
   "mimetype": "text/x-python",
   "name": "python",
   "nbconvert_exporter": "python",
   "pygments_lexer": "ipython3",
   "version": "3.9.7"
  }
 },
 "nbformat": 4,
 "nbformat_minor": 5
}
