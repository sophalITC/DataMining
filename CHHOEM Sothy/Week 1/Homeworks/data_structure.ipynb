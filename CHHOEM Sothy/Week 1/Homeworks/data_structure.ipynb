{
 "cells": [
  {
   "cell_type": "markdown",
   "id": "b5154e48",
   "metadata": {},
   "source": [
    "# 0.0.1 Data Structure"
   ]
  },
  {
   "cell_type": "markdown",
   "id": "74cda47a",
   "metadata": {},
   "source": [
    "1. list [ …..],(contained diferent data types), order, changable, allow duplicate value\n",
    "2. tuple (……), (contained different tada type), order, Unchange, allow duplicate valu # index (start 0)\n",
    "3. set {…..}, (contained different tada type), unorder, Unchange,unidex\n",
    "4. Dictionary in {key:value} pairs, ordered, changeable and do not allow duplicates"
   ]
  },
  {
   "cell_type": "markdown",
   "id": "112416e7",
   "metadata": {},
   "source": [
    "# List"
   ]
  },
  {
   "cell_type": "code",
   "execution_count": 1,
   "id": "a9301c9e",
   "metadata": {},
   "outputs": [
    {
     "name": "stdout",
     "output_type": "stream",
     "text": [
      "['Cambodia', ' Thailand', ' Vieatnam', ' Laos', ' Malaysia', ' Japan']\n"
     ]
    }
   ],
   "source": [
    "country= ['Cambodia', \" Thailand\", \" Vieatnam\", \" Laos\", \" Malaysia\", \" Japan\"]\n",
    "print(country)"
   ]
  },
  {
   "cell_type": "code",
   "execution_count": 2,
   "id": "1911d046",
   "metadata": {},
   "outputs": [
    {
     "name": "stdout",
     "output_type": "stream",
     "text": [
      "[' Thailand', ' Vieatnam', ' Laos']\n"
     ]
    }
   ],
   "source": [
    "print(country[1:4])  # 4 not count\n"
   ]
  },
  {
   "cell_type": "code",
   "execution_count": 3,
   "id": "ba948af5",
   "metadata": {},
   "outputs": [
    {
     "name": "stdout",
     "output_type": "stream",
     "text": [
      "6\n"
     ]
    }
   ],
   "source": [
    "print(len(country))\n"
   ]
  },
  {
   "cell_type": "code",
   "execution_count": 4,
   "id": "a7880d64",
   "metadata": {},
   "outputs": [
    {
     "name": "stdout",
     "output_type": "stream",
     "text": [
      " Japan\n"
     ]
    }
   ],
   "source": [
    "print(country[-1])\n"
   ]
  },
  {
   "cell_type": "code",
   "execution_count": 5,
   "id": "43ebf818",
   "metadata": {},
   "outputs": [
    {
     "name": "stdout",
     "output_type": "stream",
     "text": [
      " Thailand\n"
     ]
    }
   ],
   "source": [
    "print(country[-5])\n"
   ]
  },
  {
   "cell_type": "code",
   "execution_count": 6,
   "id": "7b169173",
   "metadata": {},
   "outputs": [
    {
     "name": "stdout",
     "output_type": "stream",
     "text": [
      "[' Laos', ' Malaysia', ' Japan']\n"
     ]
    }
   ],
   "source": [
    "print(country[3:])"
   ]
  },
  {
   "cell_type": "code",
   "execution_count": 7,
   "id": "689bb12b",
   "metadata": {},
   "outputs": [
    {
     "name": "stdout",
     "output_type": "stream",
     "text": [
      "['Cambodia', 'French', ' England', ' Laos', ' Malaysia', ' Japan']\n"
     ]
    }
   ],
   "source": [
    "country[1:3]=[\"French\", \" England\"]\n",
    "print(country)\n"
   ]
  },
  {
   "cell_type": "code",
   "execution_count": 8,
   "id": "9a18dcea",
   "metadata": {},
   "outputs": [
    {
     "name": "stdout",
     "output_type": "stream",
     "text": [
      "['Cambodia', 'French', ' England', ' Laos', 'Cambodia', ' Japan']\n"
     ]
    }
   ],
   "source": [
    " country[4]=\"Cambodia\"\n",
    "print(country)"
   ]
  },
  {
   "cell_type": "code",
   "execution_count": 9,
   "id": "a1f96480",
   "metadata": {},
   "outputs": [
    {
     "name": "stdout",
     "output_type": "stream",
     "text": [
      "['Cambodia', 'French', ' England', ' Laos', 'Cambodia', ' Japan', 'Russia']\n"
     ]
    }
   ],
   "source": [
    "country.append(\"Russia\")\n",
    "print(country)\n"
   ]
  },
  {
   "cell_type": "code",
   "execution_count": 10,
   "id": "8cc7a36a",
   "metadata": {},
   "outputs": [
    {
     "name": "stdout",
     "output_type": "stream",
     "text": [
      "['Cambodia', 'French', 'Swiss', ' England', ' Laos', 'Cambodia', ' Japan', 'Russia']\n"
     ]
    }
   ],
   "source": [
    "country.insert(2, \"Swiss\")\n",
    "print(country)\n"
   ]
  },
  {
   "cell_type": "code",
   "execution_count": 13,
   "id": "aa764992",
   "metadata": {},
   "outputs": [
    {
     "name": "stdout",
     "output_type": "stream",
     "text": [
      "['Cambodia', 'French', 'Swiss', 'Swiss', ' England', ' Laos', 'Cambodia', ' Japan', 'Russia', 'Mango', ' Cherry', 'potato']\n"
     ]
    }
   ],
   "source": [
    "#extend concate two list (conbine 2 lists)\n",
    "fruit=[\"Mango\", \" Cherry\", \"potato\"]\n",
    "country.extend(fruit)\n",
    "print(country)\n"
   ]
  },
  {
   "cell_type": "code",
   "execution_count": 14,
   "id": "e7e74be3",
   "metadata": {},
   "outputs": [
    {
     "name": "stdout",
     "output_type": "stream",
     "text": [
      "['Cambodia', 'French', 'Swiss', 'Swiss', ' England', 'Cambodia', 'Cambodia', ' Japan', 'Russia', 'Mango', ' Cherry', 'potato']\n"
     ]
    }
   ],
   "source": [
    "country[5]= \"Cambodia\"\n",
    "print(country)"
   ]
  },
  {
   "cell_type": "code",
   "execution_count": 15,
   "id": "cd58c247",
   "metadata": {},
   "outputs": [
    {
     "name": "stdout",
     "output_type": "stream",
     "text": [
      "['Cambodia', 'French', 'Swiss', 'Swiss', ' England', 'Cambodia', 'Cambodia', ' Japan', 'Russia', ' Cherry', 'potato']\n"
     ]
    }
   ],
   "source": [
    "#removed item from list: remove, pop(), del()\n",
    "country.remove(\"Mango\")\n",
    "print(country)\n"
   ]
  },
  {
   "cell_type": "code",
   "execution_count": 16,
   "id": "1abf9857",
   "metadata": {},
   "outputs": [
    {
     "name": "stdout",
     "output_type": "stream",
     "text": [
      "['Cambodia', 'French', 'Swiss', 'Swiss', ' England', 'Cambodia', ' Japan', 'Russia', ' Cherry', 'potato']\n"
     ]
    }
   ],
   "source": [
    "country.pop(5)#index\n",
    "print(country)"
   ]
  },
  {
   "cell_type": "code",
   "execution_count": 17,
   "id": "76927025",
   "metadata": {},
   "outputs": [
    {
     "name": "stdout",
     "output_type": "stream",
     "text": [
      "['Cambodia', 'French', 'Swiss', 'Swiss', ' England', 'Cambodia', ' Japan', 'Russia', 'potato']\n"
     ]
    }
   ],
   "source": [
    "del country[8]\n",
    "print(country)\n"
   ]
  },
  {
   "cell_type": "code",
   "execution_count": 19,
   "id": "e93b6f4a",
   "metadata": {},
   "outputs": [
    {
     "name": "stdout",
     "output_type": "stream",
     "text": [
      "['Cambodia', ' England', 'Cambodia', ' Japan', 'Russia', 'potato']\n"
     ]
    }
   ],
   "source": [
    "newlist=[]\n",
    "for x in country:\n",
    "    if \"a\" in x:\n",
    "        newlist.append(x)\n",
    "print(newlist)\n"
   ]
  },
  {
   "cell_type": "code",
   "execution_count": 20,
   "id": "8e6ab182",
   "metadata": {},
   "outputs": [
    {
     "name": "stdout",
     "output_type": "stream",
     "text": [
      "[' England', ' Japan', 'Cambodia', 'Cambodia', 'French', 'Russia', 'Swiss', 'Swiss', 'potato']\n"
     ]
    }
   ],
   "source": [
    " # sort\n",
    "country.sort()\n",
    "print(country)\n"
   ]
  },
  {
   "cell_type": "code",
   "execution_count": 21,
   "id": "de455c15",
   "metadata": {},
   "outputs": [
    {
     "name": "stdout",
     "output_type": "stream",
     "text": [
      "[45, 78, 1, 45, 67, 9, 3]\n",
      "[1, 3, 9, 45, 45, 67, 78]\n"
     ]
    }
   ],
   "source": [
    "num=[45,78,1,45,67,9,3]\n",
    "print(num)\n",
    "num.sort()\n",
    "print(num)\n"
   ]
  },
  {
   "cell_type": "code",
   "execution_count": 22,
   "id": "ce81765d",
   "metadata": {},
   "outputs": [
    {
     "name": "stdout",
     "output_type": "stream",
     "text": [
      "red Apple\n",
      "red Banana\n",
      "red Dorian\n",
      "big Apple\n",
      "big Banana\n",
      "big Dorian\n",
      "tasty Apple\n",
      "tasty Banana\n",
      "tasty Dorian\n"
     ]
    }
   ],
   "source": [
    "adj=[\"red\",\"big\", \"tasty\"]\n",
    "fruit= [ \"Apple\", \"Banana\", \"Dorian\"]\n",
    "for i in adj: #red #big #tasty\n",
    "    for j in fruit:\n",
    "        print(i,j)#red Apple, red Banana, red Durian #Big Apple, big Banaana,Big Durian\n",
    "def nested_loop():\n",
    "    for i in range (2, 4):\n",
    "        for j in range(1,11):\n",
    "            print(\" {} x {} = {} \".format(i,j,i*j))\n",
    "        print(\"_\"*30)\n"
   ]
  },
  {
   "cell_type": "code",
   "execution_count": 23,
   "id": "397a0927",
   "metadata": {},
   "outputs": [
    {
     "name": "stdout",
     "output_type": "stream",
     "text": [
      "red Apple\n",
      "red Banana\n",
      "red Dorian\n",
      "big Apple\n",
      "big Banana\n",
      "big Dorian\n",
      "tasty Apple\n",
      "tasty Banana\n",
      "tasty Dorian\n"
     ]
    }
   ],
   "source": [
    "adj=[\"red\",\"big\", \"tasty\"]\n",
    "fruit= [ \"Apple\", \"Banana\", \"Dorian\"]\n",
    "for i in adj: #red #big #tasty\n",
    "    for j in fruit:\n",
    "        print(i,j)#red Apple, red Banana, red Durian #Big Apple, big Banaana,Big Durian\n",
    "def nested_loop():\n",
    "    for i in range (2, 4):\n",
    "        for j in range(1,11):\n",
    "            print(f\"{i}x{j:6}\")\n",
    "        print(\"_\"*30)"
   ]
  },
  {
   "cell_type": "code",
   "execution_count": 25,
   "id": "60f14418",
   "metadata": {},
   "outputs": [
    {
     "name": "stdout",
     "output_type": "stream",
     "text": [
      "[1, 2, 3, 4, 5]\n",
      "[1, 2, 3, 4, 5]\n",
      "[3, 1, 4, 2, 5]\n"
     ]
    }
   ],
   "source": [
    "li = [3, 1, 4, 2, 5]\n",
    "li.sort()\n",
    "print (li) # [1, 2, 3, 4, 5]\n",
    "li = [3, 1, 4, 2, 5]\n",
    "print (sorted(li)) # [1, 2, 3, 4, 5]\n",
    "print (li) # [3, 1, 4, 2, 5]"
   ]
  },
  {
   "cell_type": "markdown",
   "id": "4c72df48",
   "metadata": {},
   "source": [
    "# 0.0.2 Set"
   ]
  },
  {
   "cell_type": "markdown",
   "id": "0b72e4a9",
   "metadata": {},
   "source": [
    "tuple (…),contain differrent tatype, order, unchangeable, allow dublicated item"
   ]
  },
  {
   "cell_type": "code",
   "execution_count": 26,
   "id": "606801c8",
   "metadata": {},
   "outputs": [
    {
     "name": "stdout",
     "output_type": "stream",
     "text": [
      "Cambodia\n",
      "Brunei\n",
      "Brunei\n"
     ]
    }
   ],
   "source": [
    " cou=(\"Cambodia\",\"Thailand\",\"Brunei\",34,67.901,\"Brunei\")\n",
    "print(cou[0])\n",
    "print(cou[2])\n",
    "print(cou[5])"
   ]
  },
  {
   "cell_type": "code",
   "execution_count": 27,
   "id": "c2c437d5",
   "metadata": {},
   "outputs": [
    {
     "name": "stdout",
     "output_type": "stream",
     "text": [
      "('Cambodia', 'Thailand', 'Brunei', 23, 67.901, 'Brunei')\n"
     ]
    }
   ],
   "source": [
    "#update tuple\n",
    "count1=list(cou)#convert from tuple to list\n",
    "count1[3]=23 #change value\n",
    "cou=tuple(count1)\n",
    "print(cou)"
   ]
  },
  {
   "cell_type": "code",
   "execution_count": 28,
   "id": "73fb8096",
   "metadata": {},
   "outputs": [
    {
     "name": "stdout",
     "output_type": "stream",
     "text": [
      "('Brunei', 'Cambodia', 'Japan', 'Lao')\n"
     ]
    }
   ],
   "source": [
    "x=('Brunei', 'Cambodia', 'Japan', 'Lao')\n",
    "print(x)\n"
   ]
  },
  {
   "cell_type": "code",
   "execution_count": 29,
   "id": "8dad2897",
   "metadata": {},
   "outputs": [],
   "source": [
    "#unpack\n",
    "(Lotus,Romdul,Sakura,Champa) = x"
   ]
  },
  {
   "cell_type": "code",
   "execution_count": 30,
   "id": "1dfc395c",
   "metadata": {},
   "outputs": [
    {
     "name": "stdout",
     "output_type": "stream",
     "text": [
      "Brunei\n"
     ]
    }
   ],
   "source": [
    "print(Lotus)\n"
   ]
  },
  {
   "cell_type": "code",
   "execution_count": 31,
   "id": "d9608551",
   "metadata": {},
   "outputs": [
    {
     "name": "stdout",
     "output_type": "stream",
     "text": [
      "('y', 's', 't', 1, 5, 8)\n"
     ]
    }
   ],
   "source": [
    "a=(\"y\",\"s\",\"t\")\n",
    "b=(1,5,8)\n",
    "c=a+b\n",
    "print(c)"
   ]
  },
  {
   "cell_type": "code",
   "execution_count": 32,
   "id": "67b45aab",
   "metadata": {},
   "outputs": [
    {
     "name": "stdout",
     "output_type": "stream",
     "text": [
      "('Brunei', 'Cambodia', 'Japan', 'Lao', 'Brunei', 'Cambodia', 'Japan', 'Lao')\n"
     ]
    }
   ],
   "source": [
    "x=('Brunei', 'Cambodia', 'Japan', 'Lao')\n",
    "y=x*2\n",
    "print(y)\n"
   ]
  },
  {
   "cell_type": "code",
   "execution_count": 33,
   "id": "f688d5b6",
   "metadata": {},
   "outputs": [
    {
     "name": "stdout",
     "output_type": "stream",
     "text": [
      "(3, 6, 8, 3, 6, 8)\n"
     ]
    }
   ],
   "source": [
    "d=(3,6,8)\n",
    "f=d*2\n",
    "print(f)\n"
   ]
  },
  {
   "cell_type": "markdown",
   "id": "b6f8790d",
   "metadata": {},
   "source": [
    "# 0.0.4 Dictionary {key:value}"
   ]
  },
  {
   "cell_type": "markdown",
   "id": "2a0db6ab",
   "metadata": {},
   "source": [
    "dictionary {ky:value}, order, changable , and do not allow for dublicated key\n"
   ]
  },
  {
   "cell_type": "code",
   "execution_count": 47,
   "id": "86337cde",
   "metadata": {},
   "outputs": [],
   "source": [
    "dict={\n",
    "    \"Hi\":\"...\",\n",
    "    \"Cambodia\":\"...\",\n",
    "    \"Love\":\"...\",\n",
    "    \"Age\":28}"
   ]
  },
  {
   "cell_type": "code",
   "execution_count": 44,
   "id": "48770dbe",
   "metadata": {},
   "outputs": [
    {
     "name": "stdout",
     "output_type": "stream",
     "text": [
      "...\n"
     ]
    }
   ],
   "source": [
    "print(dict[\"Hi\"])"
   ]
  },
  {
   "cell_type": "code",
   "execution_count": 45,
   "id": "dd45c4ee",
   "metadata": {},
   "outputs": [
    {
     "name": "stdout",
     "output_type": "stream",
     "text": [
      "Hi\n",
      "Cambodia\n",
      "Love\n",
      "Ang\n"
     ]
    }
   ],
   "source": [
    "for x in dict:\n",
    "    print(x)"
   ]
  },
  {
   "cell_type": "code",
   "execution_count": 48,
   "id": "57ab69e7",
   "metadata": {},
   "outputs": [
    {
     "name": "stdout",
     "output_type": "stream",
     "text": [
      "28\n"
     ]
    }
   ],
   "source": [
    "print(dict[\"Age\"])"
   ]
  },
  {
   "cell_type": "code",
   "execution_count": 49,
   "id": "49cf170b",
   "metadata": {},
   "outputs": [
    {
     "name": "stdout",
     "output_type": "stream",
     "text": [
      "dict_keys(['Hi', 'Cambodia', 'Love', 'Age'])\n"
     ]
    }
   ],
   "source": [
    "l=dict.keys()\n",
    "print(l)\n"
   ]
  },
  {
   "cell_type": "code",
   "execution_count": 50,
   "id": "422a3448",
   "metadata": {},
   "outputs": [
    {
     "data": {
      "text/plain": [
       "{'Hi': '...', 'Cambodia': '...', 'Love': '...', 'Age': 38}"
      ]
     },
     "execution_count": 50,
     "metadata": {},
     "output_type": "execute_result"
    }
   ],
   "source": [
    "dict[\"Age\"]=38\n",
    "dict "
   ]
  },
  {
   "cell_type": "code",
   "execution_count": 51,
   "id": "1534aeb6",
   "metadata": {},
   "outputs": [],
   "source": [
    "dict.update({\"age\" : 48})"
   ]
  },
  {
   "cell_type": "code",
   "execution_count": 52,
   "id": "a5588a10",
   "metadata": {},
   "outputs": [
    {
     "data": {
      "text/plain": [
       "{'Hi': '...', 'Cambodia': '...', 'Love': '...', 'Age': 38, 'age': 48}"
      ]
     },
     "execution_count": 52,
     "metadata": {},
     "output_type": "execute_result"
    }
   ],
   "source": [
    "dict"
   ]
  },
  {
   "cell_type": "code",
   "execution_count": 60,
   "id": "d6f61995",
   "metadata": {},
   "outputs": [
    {
     "data": {
      "text/plain": [
       "{'Hi': '...',\n",
       " 'Cambodia': '...',\n",
       " 'Love': '...',\n",
       " 'Age': 38,\n",
       " 'Job': 'Data Scientist'}"
      ]
     },
     "execution_count": 60,
     "metadata": {},
     "output_type": "execute_result"
    }
   ],
   "source": [
    "dict[\"Job\"]=\"Data Scientist\"\n",
    "dict\n"
   ]
  },
  {
   "cell_type": "code",
   "execution_count": 62,
   "id": "64cbdcb8",
   "metadata": {},
   "outputs": [
    {
     "data": {
      "text/plain": [
       "{'Hi': '...', 'Cambodia': '...', 'Love': '...', 'Job': 'Data Scientist'}"
      ]
     },
     "execution_count": 62,
     "metadata": {},
     "output_type": "execute_result"
    }
   ],
   "source": [
    "dict.pop(\"Age\")\n",
    "dict"
   ]
  },
  {
   "cell_type": "code",
   "execution_count": 63,
   "id": "615782fa",
   "metadata": {},
   "outputs": [
    {
     "name": "stdout",
     "output_type": "stream",
     "text": [
      "You have earned green color, you will get 100\n"
     ]
    }
   ],
   "source": [
    "score={'color':'green','point':100}\n",
    "print('You have earned '+str(score['color'])+\" color, you will get \"+str(score['point']))\n"
   ]
  },
  {
   "cell_type": "code",
   "execution_count": 57,
   "id": "4563c2c0",
   "metadata": {},
   "outputs": [],
   "source": [
    "#nested dictionaary\n",
    "#a={key: {key1:vlue1, key2:value2}}\n",
    "family={\n",
    "    \"kid1\":{\n",
    "        'name':'Dara' ,\n",
    "        'sex': 'M',\n",
    "        'year':1990\n",
    "    },\n",
    "        \"Kid2\":{\n",
    "        'name': 'Dary',\n",
    "        \"Sex\" : 'M',\n",
    "        'year':1995\n",
    "    }\n",
    "}\n"
   ]
  },
  {
   "cell_type": "code",
   "execution_count": 58,
   "id": "830dc8eb",
   "metadata": {},
   "outputs": [
    {
     "name": "stdout",
     "output_type": "stream",
     "text": [
      "{'name': 'Dara', 'sex': 'M', 'year': 1990}\n"
     ]
    }
   ],
   "source": [
    "print(family[\"kid1\"])\n"
   ]
  },
  {
   "cell_type": "markdown",
   "id": "e875f539",
   "metadata": {},
   "source": [
    "# Thank You!"
   ]
  },
  {
   "cell_type": "code",
   "execution_count": null,
   "id": "28ab6253",
   "metadata": {},
   "outputs": [],
   "source": []
  }
 ],
 "metadata": {
  "kernelspec": {
   "display_name": "Python 3 (ipykernel)",
   "language": "python",
   "name": "python3"
  },
  "language_info": {
   "codemirror_mode": {
    "name": "ipython",
    "version": 3
   },
   "file_extension": ".py",
   "mimetype": "text/x-python",
   "name": "python",
   "nbconvert_exporter": "python",
   "pygments_lexer": "ipython3",
   "version": "3.9.7"
  }
 },
 "nbformat": 4,
 "nbformat_minor": 5
}
