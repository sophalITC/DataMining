{
 "cells": [
  {
   "cell_type": "code",
   "execution_count": 2,
   "id": "26dd0f14",
   "metadata": {},
   "outputs": [],
   "source": [
    "#import Libraries\n",
    "import pandas as pd\n",
    "import glob\n",
    "# visualization\n",
    "import seaborn as sns\n",
    "import matplotlib.pyplot as plt\n",
    "# machine learning\n",
    "import numpy as np"
   ]
  },
  {
   "cell_type": "markdown",
   "id": "e40fe9b2",
   "metadata": {},
   "source": [
    "# read data "
   ]
  },
  {
   "cell_type": "code",
   "execution_count": 3,
   "id": "78062b07",
   "metadata": {},
   "outputs": [],
   "source": [
    "data=pd.read_csv(\"data.csv\")\n",
    "data=data.drop(data.columns[[0]], axis=1)"
   ]
  },
  {
   "cell_type": "code",
   "execution_count": 4,
   "id": "29606ddd",
   "metadata": {},
   "outputs": [
    {
     "data": {
      "text/html": [
       "<div>\n",
       "<style scoped>\n",
       "    .dataframe tbody tr th:only-of-type {\n",
       "        vertical-align: middle;\n",
       "    }\n",
       "\n",
       "    .dataframe tbody tr th {\n",
       "        vertical-align: top;\n",
       "    }\n",
       "\n",
       "    .dataframe thead th {\n",
       "        text-align: right;\n",
       "    }\n",
       "</style>\n",
       "<table border=\"1\" class=\"dataframe\">\n",
       "  <thead>\n",
       "    <tr style=\"text-align: right;\">\n",
       "      <th></th>\n",
       "      <th>model</th>\n",
       "      <th>year</th>\n",
       "      <th>price</th>\n",
       "      <th>mileage</th>\n",
       "      <th>tax</th>\n",
       "      <th>mpg</th>\n",
       "      <th>engineSize</th>\n",
       "      <th>company</th>\n",
       "      <th>Manual</th>\n",
       "      <th>Semi-Auto</th>\n",
       "      <th>Diesel</th>\n",
       "      <th>Petrol</th>\n",
       "    </tr>\n",
       "  </thead>\n",
       "  <tbody>\n",
       "    <tr>\n",
       "      <th>0</th>\n",
       "      <td>84</td>\n",
       "      <td>12</td>\n",
       "      <td>1.316125</td>\n",
       "      <td>-0.453634</td>\n",
       "      <td>0.581782</td>\n",
       "      <td>-0.066129</td>\n",
       "      <td>2.0</td>\n",
       "      <td>10</td>\n",
       "      <td>0</td>\n",
       "      <td>0</td>\n",
       "      <td>1</td>\n",
       "      <td>0</td>\n",
       "    </tr>\n",
       "    <tr>\n",
       "      <th>1</th>\n",
       "      <td>84</td>\n",
       "      <td>12</td>\n",
       "      <td>1.580379</td>\n",
       "      <td>-0.907973</td>\n",
       "      <td>0.581782</td>\n",
       "      <td>-0.066129</td>\n",
       "      <td>2.0</td>\n",
       "      <td>10</td>\n",
       "      <td>0</td>\n",
       "      <td>0</td>\n",
       "      <td>1</td>\n",
       "      <td>0</td>\n",
       "    </tr>\n",
       "    <tr>\n",
       "      <th>2</th>\n",
       "      <td>84</td>\n",
       "      <td>12</td>\n",
       "      <td>0.614442</td>\n",
       "      <td>-0.769269</td>\n",
       "      <td>0.581782</td>\n",
       "      <td>-0.026136</td>\n",
       "      <td>2.0</td>\n",
       "      <td>10</td>\n",
       "      <td>1</td>\n",
       "      <td>0</td>\n",
       "      <td>1</td>\n",
       "      <td>0</td>\n",
       "    </tr>\n",
       "    <tr>\n",
       "      <th>3</th>\n",
       "      <td>84</td>\n",
       "      <td>12</td>\n",
       "      <td>2.507864</td>\n",
       "      <td>-0.895183</td>\n",
       "      <td>0.581782</td>\n",
       "      <td>-0.920980</td>\n",
       "      <td>2.0</td>\n",
       "      <td>10</td>\n",
       "      <td>0</td>\n",
       "      <td>0</td>\n",
       "      <td>0</td>\n",
       "      <td>1</td>\n",
       "    </tr>\n",
       "    <tr>\n",
       "      <th>4</th>\n",
       "      <td>84</td>\n",
       "      <td>12</td>\n",
       "      <td>1.021418</td>\n",
       "      <td>-0.813721</td>\n",
       "      <td>0.657290</td>\n",
       "      <td>-0.556044</td>\n",
       "      <td>1.5</td>\n",
       "      <td>10</td>\n",
       "      <td>0</td>\n",
       "      <td>1</td>\n",
       "      <td>0</td>\n",
       "      <td>1</td>\n",
       "    </tr>\n",
       "    <tr>\n",
       "      <th>...</th>\n",
       "      <td>...</td>\n",
       "      <td>...</td>\n",
       "      <td>...</td>\n",
       "      <td>...</td>\n",
       "      <td>...</td>\n",
       "      <td>...</td>\n",
       "      <td>...</td>\n",
       "      <td>...</td>\n",
       "      <td>...</td>\n",
       "      <td>...</td>\n",
       "      <td>...</td>\n",
       "      <td>...</td>\n",
       "    </tr>\n",
       "    <tr>\n",
       "      <th>101526</th>\n",
       "      <td>7</td>\n",
       "      <td>13</td>\n",
       "      <td>0.193292</td>\n",
       "      <td>-0.934430</td>\n",
       "      <td>0.581782</td>\n",
       "      <td>-0.066129</td>\n",
       "      <td>1.0</td>\n",
       "      <td>0</td>\n",
       "      <td>1</td>\n",
       "      <td>0</td>\n",
       "      <td>0</td>\n",
       "      <td>1</td>\n",
       "    </tr>\n",
       "    <tr>\n",
       "      <th>101527</th>\n",
       "      <td>7</td>\n",
       "      <td>13</td>\n",
       "      <td>0.193292</td>\n",
       "      <td>-1.033644</td>\n",
       "      <td>0.657290</td>\n",
       "      <td>-0.066129</td>\n",
       "      <td>1.0</td>\n",
       "      <td>0</td>\n",
       "      <td>1</td>\n",
       "      <td>0</td>\n",
       "      <td>0</td>\n",
       "      <td>1</td>\n",
       "    </tr>\n",
       "    <tr>\n",
       "      <th>101528</th>\n",
       "      <td>7</td>\n",
       "      <td>13</td>\n",
       "      <td>0.221359</td>\n",
       "      <td>-1.100224</td>\n",
       "      <td>0.657290</td>\n",
       "      <td>-0.066129</td>\n",
       "      <td>1.0</td>\n",
       "      <td>0</td>\n",
       "      <td>1</td>\n",
       "      <td>0</td>\n",
       "      <td>0</td>\n",
       "      <td>1</td>\n",
       "    </tr>\n",
       "    <tr>\n",
       "      <th>101529</th>\n",
       "      <td>71</td>\n",
       "      <td>10</td>\n",
       "      <td>0.544134</td>\n",
       "      <td>-0.709352</td>\n",
       "      <td>0.657290</td>\n",
       "      <td>-0.151115</td>\n",
       "      <td>1.4</td>\n",
       "      <td>0</td>\n",
       "      <td>0</td>\n",
       "      <td>0</td>\n",
       "      <td>0</td>\n",
       "      <td>1</td>\n",
       "    </tr>\n",
       "    <tr>\n",
       "      <th>101530</th>\n",
       "      <td>71</td>\n",
       "      <td>9</td>\n",
       "      <td>0.052955</td>\n",
       "      <td>-0.553285</td>\n",
       "      <td>0.657290</td>\n",
       "      <td>-0.151115</td>\n",
       "      <td>1.4</td>\n",
       "      <td>0</td>\n",
       "      <td>1</td>\n",
       "      <td>0</td>\n",
       "      <td>0</td>\n",
       "      <td>1</td>\n",
       "    </tr>\n",
       "  </tbody>\n",
       "</table>\n",
       "<p>101531 rows × 12 columns</p>\n",
       "</div>"
      ],
      "text/plain": [
       "        model  year     price   mileage       tax       mpg  engineSize  \\\n",
       "0          84    12  1.316125 -0.453634  0.581782 -0.066129         2.0   \n",
       "1          84    12  1.580379 -0.907973  0.581782 -0.066129         2.0   \n",
       "2          84    12  0.614442 -0.769269  0.581782 -0.026136         2.0   \n",
       "3          84    12  2.507864 -0.895183  0.581782 -0.920980         2.0   \n",
       "4          84    12  1.021418 -0.813721  0.657290 -0.556044         1.5   \n",
       "...       ...   ...       ...       ...       ...       ...         ...   \n",
       "101526      7    13  0.193292 -0.934430  0.581782 -0.066129         1.0   \n",
       "101527      7    13  0.193292 -1.033644  0.657290 -0.066129         1.0   \n",
       "101528      7    13  0.221359 -1.100224  0.657290 -0.066129         1.0   \n",
       "101529     71    10  0.544134 -0.709352  0.657290 -0.151115         1.4   \n",
       "101530     71     9  0.052955 -0.553285  0.657290 -0.151115         1.4   \n",
       "\n",
       "        company  Manual  Semi-Auto  Diesel  Petrol  \n",
       "0            10       0          0       1       0  \n",
       "1            10       0          0       1       0  \n",
       "2            10       1          0       1       0  \n",
       "3            10       0          0       0       1  \n",
       "4            10       0          1       0       1  \n",
       "...         ...     ...        ...     ...     ...  \n",
       "101526        0       1          0       0       1  \n",
       "101527        0       1          0       0       1  \n",
       "101528        0       1          0       0       1  \n",
       "101529        0       0          0       0       1  \n",
       "101530        0       1          0       0       1  \n",
       "\n",
       "[101531 rows x 12 columns]"
      ]
     },
     "execution_count": 4,
     "metadata": {},
     "output_type": "execute_result"
    }
   ],
   "source": [
    "data"
   ]
  },
  {
   "cell_type": "markdown",
   "id": "9d95276b",
   "metadata": {},
   "source": [
    "# Feature Selection"
   ]
  },
  {
   "cell_type": "code",
   "execution_count": 5,
   "id": "1dcb6c15",
   "metadata": {},
   "outputs": [
    {
     "name": "stderr",
     "output_type": "stream",
     "text": [
      "[Parallel(n_jobs=1)]: Using backend SequentialBackend with 1 concurrent workers.\n",
      "[Parallel(n_jobs=1)]: Done  11 out of  11 | elapsed:    0.9s finished\n",
      "Features: 10/9[Parallel(n_jobs=1)]: Using backend SequentialBackend with 1 concurrent workers.\n",
      "[Parallel(n_jobs=1)]: Done  10 out of  10 | elapsed:    0.8s finished\n",
      "Features: 9/9"
     ]
    },
    {
     "name": "stdout",
     "output_type": "stream",
     "text": [
      "['year', 'mileage', 'tax', 'engineSize', 'company', 'Manual', 'Semi-Auto', 'Diesel', 'Petrol']\n"
     ]
    },
    {
     "name": "stderr",
     "output_type": "stream",
     "text": [
      "/var/folders/xr/88q546v54h3gbyt_kn30lbk80000gn/T/ipykernel_19198/2078098638.py:15: SettingWithCopyWarning: \n",
      "A value is trying to be set on a copy of a slice from a DataFrame.\n",
      "Try using .loc[row_indexer,col_indexer] = value instead\n",
      "\n",
      "See the caveats in the documentation: https://pandas.pydata.org/pandas-docs/stable/user_guide/indexing.html#returning-a-view-versus-a-copy\n",
      "  new_data['price'] = data['price']\n"
     ]
    },
    {
     "data": {
      "text/html": [
       "<div>\n",
       "<style scoped>\n",
       "    .dataframe tbody tr th:only-of-type {\n",
       "        vertical-align: middle;\n",
       "    }\n",
       "\n",
       "    .dataframe tbody tr th {\n",
       "        vertical-align: top;\n",
       "    }\n",
       "\n",
       "    .dataframe thead th {\n",
       "        text-align: right;\n",
       "    }\n",
       "</style>\n",
       "<table border=\"1\" class=\"dataframe\">\n",
       "  <thead>\n",
       "    <tr style=\"text-align: right;\">\n",
       "      <th></th>\n",
       "      <th>year</th>\n",
       "      <th>mileage</th>\n",
       "      <th>tax</th>\n",
       "      <th>engineSize</th>\n",
       "      <th>company</th>\n",
       "      <th>Manual</th>\n",
       "      <th>Semi-Auto</th>\n",
       "      <th>Diesel</th>\n",
       "      <th>Petrol</th>\n",
       "      <th>price</th>\n",
       "    </tr>\n",
       "  </thead>\n",
       "  <tbody>\n",
       "    <tr>\n",
       "      <th>0</th>\n",
       "      <td>12</td>\n",
       "      <td>-0.453634</td>\n",
       "      <td>0.581782</td>\n",
       "      <td>2.0</td>\n",
       "      <td>10</td>\n",
       "      <td>0</td>\n",
       "      <td>0</td>\n",
       "      <td>1</td>\n",
       "      <td>0</td>\n",
       "      <td>1.316125</td>\n",
       "    </tr>\n",
       "    <tr>\n",
       "      <th>1</th>\n",
       "      <td>12</td>\n",
       "      <td>-0.907973</td>\n",
       "      <td>0.581782</td>\n",
       "      <td>2.0</td>\n",
       "      <td>10</td>\n",
       "      <td>0</td>\n",
       "      <td>0</td>\n",
       "      <td>1</td>\n",
       "      <td>0</td>\n",
       "      <td>1.580379</td>\n",
       "    </tr>\n",
       "    <tr>\n",
       "      <th>2</th>\n",
       "      <td>12</td>\n",
       "      <td>-0.769269</td>\n",
       "      <td>0.581782</td>\n",
       "      <td>2.0</td>\n",
       "      <td>10</td>\n",
       "      <td>1</td>\n",
       "      <td>0</td>\n",
       "      <td>1</td>\n",
       "      <td>0</td>\n",
       "      <td>0.614442</td>\n",
       "    </tr>\n",
       "    <tr>\n",
       "      <th>3</th>\n",
       "      <td>12</td>\n",
       "      <td>-0.895183</td>\n",
       "      <td>0.581782</td>\n",
       "      <td>2.0</td>\n",
       "      <td>10</td>\n",
       "      <td>0</td>\n",
       "      <td>0</td>\n",
       "      <td>0</td>\n",
       "      <td>1</td>\n",
       "      <td>2.507864</td>\n",
       "    </tr>\n",
       "    <tr>\n",
       "      <th>4</th>\n",
       "      <td>12</td>\n",
       "      <td>-0.813721</td>\n",
       "      <td>0.657290</td>\n",
       "      <td>1.5</td>\n",
       "      <td>10</td>\n",
       "      <td>0</td>\n",
       "      <td>1</td>\n",
       "      <td>0</td>\n",
       "      <td>1</td>\n",
       "      <td>1.021418</td>\n",
       "    </tr>\n",
       "  </tbody>\n",
       "</table>\n",
       "</div>"
      ],
      "text/plain": [
       "   year   mileage       tax  engineSize  company  Manual  Semi-Auto  Diesel  \\\n",
       "0    12 -0.453634  0.581782         2.0       10       0          0       1   \n",
       "1    12 -0.907973  0.581782         2.0       10       0          0       1   \n",
       "2    12 -0.769269  0.581782         2.0       10       1          0       1   \n",
       "3    12 -0.895183  0.581782         2.0       10       0          0       0   \n",
       "4    12 -0.813721  0.657290         1.5       10       0          1       0   \n",
       "\n",
       "   Petrol     price  \n",
       "0       0  1.316125  \n",
       "1       0  1.580379  \n",
       "2       0  0.614442  \n",
       "3       1  2.507864  \n",
       "4       1  1.021418  "
      ]
     },
     "execution_count": 5,
     "metadata": {},
     "output_type": "execute_result"
    }
   ],
   "source": [
    "Y =data[\"price\"]\n",
    "X =data.drop([\"price\"] ,axis=\"columns\")# all colume but do not price only one \n",
    "from mlxtend.feature_selection import SequentialFeatureSelector as sfs\n",
    "from sklearn import linear_model\n",
    "forest = linear_model.LinearRegression()\n",
    "#model=forest\n",
    "model=forest\n",
    "model = sfs(model, k_features=9, forward=False, verbose=1, scoring='neg_mean_squared_error')\n",
    "model.fit(X, Y )\n",
    "#Show contain \n",
    "feat_names = list(model.k_feature_names_)\n",
    "print(feat_names)\n",
    "#///// ceate new table \n",
    "new_data = data[feat_names]\n",
    "new_data['price'] = data['price']\n",
    "new_data.head()"
   ]
  },
  {
   "cell_type": "markdown",
   "id": "4ee1ac6f",
   "metadata": {},
   "source": [
    "# split the data"
   ]
  },
  {
   "cell_type": "code",
   "execution_count": 6,
   "id": "d876665a",
   "metadata": {},
   "outputs": [
    {
     "name": "stdout",
     "output_type": "stream",
     "text": [
      "data is  (101531, 10)\n",
      "X is  (101531, 9)\n",
      "X_train is  (86301, 9)\n",
      "y_train is  (86301,)\n",
      "X_test is  (15230, 9)\n",
      "y_test is  (15230,)\n"
     ]
    }
   ],
   "source": [
    "from sklearn.model_selection import train_test_split\n",
    "y =new_data[\"price\"]\n",
    "X =new_data.drop([\"price\"] ,axis=\"columns\")# all colume but do not price only one\n",
    "X_train, X_test, y_train, y_test = train_test_split(X, y, test_size=0.15, random_state=42)\n",
    "print(\"data is \",new_data.shape)\n",
    "print(\"X is \",X.shape)\n",
    "print(\"X_train is \",X_train.shape)\n",
    "print(\"y_train is \",y_train.shape)\n",
    "print(\"X_test is \",X_test.shape)\n",
    "print(\"y_test is \",y_test.shape)"
   ]
  },
  {
   "cell_type": "markdown",
   "id": "056e5ada",
   "metadata": {},
   "source": [
    "# Regression for car prices"
   ]
  },
  {
   "cell_type": "markdown",
   "id": "37c516c4",
   "metadata": {},
   "source": [
    "Test on 11 Modle in Regression "
   ]
  },
  {
   "cell_type": "code",
   "execution_count": 8,
   "id": "a3d4e014",
   "metadata": {},
   "outputs": [
    {
     "data": {
      "text/plain": [
       "LinearRegression()"
      ]
     },
     "execution_count": 8,
     "metadata": {},
     "output_type": "execute_result"
    }
   ],
   "source": [
    "\n",
    "#model\n",
    "model=linear_model.LinearRegression()\n",
    "model.fit(X_train, y_train)"
   ]
  },
  {
   "cell_type": "code",
   "execution_count": 11,
   "id": "a499e924",
   "metadata": {},
   "outputs": [
    {
     "name": "stdout",
     "output_type": "stream",
     "text": [
      "Linear model Train Score is :  0.7720392837602683\n",
      "Linear model Test Score is  :  0.7716442245868418\n",
      "----------------------------------------------------\n"
     ]
    }
   ],
   "source": [
    "#Calculating Details\n",
    "print('Linear model Train Score is : ' , model.score(X_train, y_train))\n",
    "print('Linear model Test Score is  : ' , model.score(X_test, y_test))\n",
    "print('----------------------------------------------------')\n",
    "#LinearRegression()\n",
    "#Linear model Train Score is :  0.7770122603426886\n",
    "#Linear model Test Score is  :  0.7755272563233604"
   ]
  },
  {
   "cell_type": "markdown",
   "id": "b319c5ea",
   "metadata": {},
   "source": [
    "after try some models i found that the beast model is RandomForestRegressor"
   ]
  },
  {
   "cell_type": "code",
   "execution_count": 12,
   "id": "f3fd9abe",
   "metadata": {},
   "outputs": [
    {
     "name": "stdout",
     "output_type": "stream",
     "text": [
      "Predicted Value for Linear Regression is : \n",
      " [ 1.435  0.192 -0.963 -0.067  0.526  1.596 -0.838  1.529 -0.332 -0.417]\n",
      "real Value for Linear Regression is : \n",
      " [ 1.302  0.46  -0.936 -0.51   0.6    2.409 -1.14   1.201 -0.087 -0.089]\n"
     ]
    }
   ],
   "source": [
    "y_pred = model.predict(X_test)\n",
    "yt_pred = model.predict(X_train)\n",
    "print('Predicted Value for Linear Regression is : \\n' ,np.around(y_pred[:10],3))\n",
    "print('real Value for Linear Regression is : \\n' ,np.around(np.array(y_test[:10]),3))\n",
    "#----------------------------------------------------"
   ]
  },
  {
   "cell_type": "markdown",
   "id": "c12370e1",
   "metadata": {},
   "source": [
    "lets try some example"
   ]
  },
  {
   "cell_type": "code",
   "execution_count": 13,
   "id": "8eaf3663",
   "metadata": {},
   "outputs": [
    {
     "name": "stdout",
     "output_type": "stream",
     "text": [
      "Mean Absolute Error Value is :  0.3663091655471483\n",
      "Mean Squared Error Value is  :  0.2248301419970584\n",
      "Median Squared Error Value is :  0.2922701466910368\n"
     ]
    }
   ],
   "source": [
    "from sklearn.metrics import mean_absolute_error \n",
    "from sklearn.metrics import mean_squared_error \n",
    "from sklearn.metrics import median_absolute_error\n",
    "#Calculating Mean Absolute Error\n",
    "MAEValue = mean_absolute_error(y_test, y_pred, multioutput='uniform_average') # it can be raw_values\n",
    "print('Mean Absolute Error Value is : ', MAEValue)\n",
    "#----------------------------------------------------\n",
    "#Calculating Mean Squared Error (the average of the squares of the errors)\n",
    "MSEValue = mean_squared_error(y_test, y_pred, multioutput='uniform_average') # it can be raw_values\n",
    "print('Mean Squared Error Value is  : ', MSEValue)\n",
    "#----------------------------------------------------\n",
    "#Calculating Median Squared Error\n",
    "MdSEValue = median_absolute_error(y_test, y_pred)\n",
    "print('Median Squared Error Value is : ', MdSEValue )"
   ]
  },
  {
   "cell_type": "markdown",
   "id": "d12b52cb",
   "metadata": {},
   "source": [
    "good values for the cost funtion"
   ]
  },
  {
   "cell_type": "markdown",
   "id": "d2bf176c",
   "metadata": {},
   "source": [
    "# show train and test data in the same time"
   ]
  },
  {
   "cell_type": "code",
   "execution_count": 14,
   "id": "c5654b3f",
   "metadata": {},
   "outputs": [
    {
     "data": {
      "image/png": "[encoded data removed]",
      "text/plain": [
       "<Figure size 720x432 with 1 Axes>"
      ]
     },
     "metadata": {
      "needs_background": "light"
     },
     "output_type": "display_data"
    }
   ],
   "source": [
    "plt.figure(figsize=(10,6))\n",
    "plt.scatter(yt_pred,yt_pred - y_train,c = 'black', marker = 'o', s = 35, alpha = 0.5,label = 'Train data')\n",
    "plt.scatter(y_pred,y_pred - y_test, c = 'c', marker = 'o', s = 35, alpha = 0.7,label = 'Test data')\n",
    "plt.xlabel('Predicted values')\n",
    "plt.ylabel('Tailings')\n",
    "plt.legend(loc = 'upper left')\n",
    "plt.show()"
   ]
  },
  {
   "cell_type": "code",
   "execution_count": null,
   "id": "94785182",
   "metadata": {},
   "outputs": [],
   "source": []
  }
 ],
 "metadata": {
  "kernelspec": {
   "display_name": "Python 3 (ipykernel)",
   "language": "python",
   "name": "python3"
  },
  "language_info": {
   "codemirror_mode": {
    "name": "ipython",
    "version": 3
   },
   "file_extension": ".py",
   "mimetype": "text/x-python",
   "name": "python",
   "nbconvert_exporter": "python",
   "pygments_lexer": "ipython3",
   "version": "3.9.12"
  }
 },
 "nbformat": 4,
 "nbformat_minor": 5
}
