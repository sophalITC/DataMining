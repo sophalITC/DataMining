{
 "cells": [
  {
   "cell_type": "markdown",
   "id": "5d7a0578",
   "metadata": {},
   "source": [
    "# <center style=\"font-family: Times New Roman, serif;\">data_structure</center>\n",
    "<p style=\"font-family: Times New Roman, serif; text-align:center;\">February 10, 2022</p>\n",
    "<h3 style=\"font-family: Times New Roman, serif; font-weight:bold;font-style: italic;\">Author:&nbsp Huon Sophy</h3>\n",
    "<h3 style=\"font-family: Times New Roman, serif;\">0.0.1&nbsp&nbsp Data Structure</h3>\n",
    "<p style=\"font-family: Times New Roman, serif;\">\n",
    "    1.&nbsp list [ …..],(contained diferent data types), order, changable, allow duplicate value\n",
    "</p>\n",
    "<p style=\"font-family: Times New Roman, serif;\">\n",
    "    2.&nbsp tuple (……), (contained different tada type), order, Unchange, allow duplicate valu # index\n",
    "(start 0)\n",
    "</p>\n",
    "<p style=\"font-family: Times New Roman, serif;\">\n",
    "    3.&nbsp tuple (……), (contained different tada type), order, Unchange, allow duplicate valu # index\n",
    "(start 0)\n",
    "</p>\n",
    "<p style=\"font-family: Times New Roman, serif;\">\n",
    "    4.&nbsp Dictionary in {key:value} pairs, ordered, changeable and do not allow duplicates.\n",
    "</p>\n",
    "<h3 style=\"font-family: Times New Roman, serif;\">List</h3>"
   ]
  },
  {
   "cell_type": "code",
   "execution_count": 63,
   "id": "e3230258",
   "metadata": {},
   "outputs": [
    {
     "name": "stdout",
     "output_type": "stream",
     "text": [
      "['Cambodia', ' Thailand', ' Vieatnam', ' Laos', ' Malaysia', ' Japan']\n"
     ]
    }
   ],
   "source": [
    "country= ['Cambodia', \" Thailand\", \" Vieatnam\", \" Laos\", \" Malaysia\", \" Japan\"]\n",
    "print(country)"
   ]
  },
  {
   "cell_type": "code",
   "execution_count": 2,
   "id": "b2e0afa2",
   "metadata": {},
   "outputs": [
    {
     "name": "stdout",
     "output_type": "stream",
     "text": [
      "['Thailand', 'Vietname', 'Laos']\n"
     ]
    }
   ],
   "source": [
    "print(country[1:4])"
   ]
  },
  {
   "cell_type": "code",
   "execution_count": 3,
   "id": "98ea5d6b",
   "metadata": {},
   "outputs": [
    {
     "name": "stdout",
     "output_type": "stream",
     "text": [
      "6\n"
     ]
    }
   ],
   "source": [
    "print(len(country))"
   ]
  },
  {
   "cell_type": "code",
   "execution_count": 4,
   "id": "85d7e2a8",
   "metadata": {},
   "outputs": [
    {
     "name": "stdout",
     "output_type": "stream",
     "text": [
      "Japan\n"
     ]
    }
   ],
   "source": [
    "print(country[-1])"
   ]
  },
  {
   "cell_type": "code",
   "execution_count": 5,
   "id": "b2ea0e14",
   "metadata": {},
   "outputs": [
    {
     "name": "stdout",
     "output_type": "stream",
     "text": [
      "Thailand\n"
     ]
    }
   ],
   "source": [
    "print(country[-5])"
   ]
  },
  {
   "cell_type": "code",
   "execution_count": 7,
   "id": "297a54ab",
   "metadata": {},
   "outputs": [
    {
     "name": "stdout",
     "output_type": "stream",
     "text": [
      "['Laos', 'Malaysia', 'Japan']\n"
     ]
    }
   ],
   "source": [
    "print(country[3:])"
   ]
  },
  {
   "cell_type": "code",
   "execution_count": 8,
   "id": "628be200",
   "metadata": {},
   "outputs": [
    {
     "name": "stdout",
     "output_type": "stream",
     "text": [
      "['Cambodia', 'French', ' England', 'Laos', 'Malaysia', 'Japan']\n"
     ]
    }
   ],
   "source": [
    "country[1:3]=[\"French\", \" England\"]\n",
    "print(country)"
   ]
  },
  {
   "cell_type": "code",
   "execution_count": 9,
   "id": "7f0cf96a",
   "metadata": {},
   "outputs": [
    {
     "name": "stdout",
     "output_type": "stream",
     "text": [
      "['Cambodia', 'French', ' England', 'Laos', 'Cambodia', 'Japan']\n"
     ]
    }
   ],
   "source": [
    "country[4]=\"Cambodia\"\n",
    "print(country)"
   ]
  },
  {
   "cell_type": "code",
   "execution_count": 10,
   "id": "b57713af",
   "metadata": {},
   "outputs": [
    {
     "name": "stdout",
     "output_type": "stream",
     "text": [
      "['Cambodia', 'French', ' England', 'Laos', 'Cambodia', 'Japan', 'Russia']\n"
     ]
    }
   ],
   "source": [
    "country.append(\"Russia\")\n",
    "print(country)"
   ]
  },
  {
   "cell_type": "code",
   "execution_count": 11,
   "id": "322108d9",
   "metadata": {},
   "outputs": [
    {
     "name": "stdout",
     "output_type": "stream",
     "text": [
      "['Cambodia', 'French', 'Swiss', ' England', 'Laos', 'Cambodia', 'Japan', 'Russia']\n"
     ]
    }
   ],
   "source": [
    "country.insert(2,\"Swiss\")\n",
    "print(country)"
   ]
  },
  {
   "cell_type": "code",
   "execution_count": 12,
   "id": "5e7c6961",
   "metadata": {},
   "outputs": [
    {
     "name": "stdout",
     "output_type": "stream",
     "text": [
      "['Cambodia', 'French', 'Swiss', ' England', 'Laos', 'Cambodia', 'Japan', 'Russia', 'Mango', ' Cherry', 'potato']\n"
     ]
    }
   ],
   "source": [
    "#extend concate two list (conbine 2 lists)\n",
    "fruit=[\"Mango\", \" Cherry\", \"potato\"]\n",
    "country.extend(fruit)\n",
    "print(country)"
   ]
  },
  {
   "cell_type": "code",
   "execution_count": 13,
   "id": "ad986416",
   "metadata": {},
   "outputs": [
    {
     "name": "stdout",
     "output_type": "stream",
     "text": [
      "['Cambodia', 'French', 'Swiss', ' England', 'Laos', 'Cambodia', 'Japan', 'Russia', 'Mango', ' Cherry', 'potato']\n"
     ]
    }
   ],
   "source": [
    "country[5]= \"Cambodia\"\n",
    "print(country)"
   ]
  },
  {
   "cell_type": "code",
   "execution_count": 14,
   "id": "4f61ae77",
   "metadata": {},
   "outputs": [
    {
     "name": "stdout",
     "output_type": "stream",
     "text": [
      "['Cambodia', 'French', 'Swiss', ' England', 'Laos', 'Cambodia', 'Japan', 'Russia', ' Cherry', 'potato']\n"
     ]
    }
   ],
   "source": [
    "#removed item from list: remove, pop(), del()\n",
    "country.remove(\"Mango\")\n",
    "print(country)"
   ]
  },
  {
   "cell_type": "code",
   "execution_count": 15,
   "id": "886f338c",
   "metadata": {},
   "outputs": [
    {
     "name": "stdout",
     "output_type": "stream",
     "text": [
      "['Cambodia', 'French', 'Swiss', ' England', 'Laos', 'Japan', 'Russia', ' Cherry', 'potato']\n"
     ]
    }
   ],
   "source": [
    "country.pop(5) #index\n",
    "print(country)"
   ]
  },
  {
   "cell_type": "code",
   "execution_count": 16,
   "id": "b42fd017",
   "metadata": {},
   "outputs": [
    {
     "name": "stdout",
     "output_type": "stream",
     "text": [
      "['Cambodia', 'French', 'Swiss', ' England', 'Laos', 'Japan', 'Russia', ' Cherry']\n"
     ]
    }
   ],
   "source": [
    "del country[8]\n",
    "print(country)"
   ]
  },
  {
   "cell_type": "code",
   "execution_count": 17,
   "id": "b6a17abd",
   "metadata": {},
   "outputs": [
    {
     "name": "stdout",
     "output_type": "stream",
     "text": [
      "['Cambodia', ' England', 'Laos', 'Japan', 'Russia']\n"
     ]
    }
   ],
   "source": [
    "#indentation\n",
    "newlist=[]\n",
    "for x in country:\n",
    "    if \"a\" in x:\n",
    "        newlist.append(x)\n",
    "print(newlist)"
   ]
  },
  {
   "cell_type": "code",
   "execution_count": 18,
   "id": "d8c81e89",
   "metadata": {},
   "outputs": [
    {
     "name": "stdout",
     "output_type": "stream",
     "text": [
      "[' Cherry', ' England', 'Cambodia', 'French', 'Japan', 'Laos', 'Russia', 'Swiss']\n"
     ]
    }
   ],
   "source": [
    "#sort\n",
    "country.sort()\n",
    "print(country)"
   ]
  },
  {
   "cell_type": "code",
   "execution_count": 19,
   "id": "68c42df6",
   "metadata": {},
   "outputs": [
    {
     "name": "stdout",
     "output_type": "stream",
     "text": [
      "[45, 78, 1, 45, 67, 9, 3]\n",
      "[1, 3, 9, 45, 45, 67, 78]\n"
     ]
    }
   ],
   "source": [
    "num=[45,78,1,45,67,9,3]\n",
    "print(num)\n",
    "num.sort()\n",
    "print(num)"
   ]
  },
  {
   "cell_type": "code",
   "execution_count": 20,
   "id": "42dc3201",
   "metadata": {},
   "outputs": [
    {
     "name": "stdout",
     "output_type": "stream",
     "text": [
      "red Apple\n",
      "red Banana\n",
      "red Dorian\n",
      "big Apple\n",
      "big Banana\n",
      "big Dorian\n",
      "tasty Apple\n",
      "tasty Banana\n",
      "tasty Dorian\n"
     ]
    }
   ],
   "source": [
    "adj=[\"red\", \"big\", \"tasty\"]\n",
    "fruit=[\"Apple\", \"Banana\", \"Dorian\"]\n",
    "\n",
    "for i in adj: #red #big #tasty\n",
    "    for j in fruit:\n",
    "        print(i,j) #re Apple, red Banana, red Durian #big Apple, big Banana #big Durian #tasty Apple #tasty Banana #tasty Dorian\n",
    "        \n",
    "def nested_loop():\n",
    "    for i in range(2,4):\n",
    "        for j in range(1,11):\n",
    "            print(\"   {}  X  {}   =  {} \".format(i,j,i*j))\n",
    "        print(\"_\"*30)"
   ]
  },
  {
   "cell_type": "code",
   "execution_count": 22,
   "id": "330704a3",
   "metadata": {},
   "outputs": [
    {
     "name": "stdout",
     "output_type": "stream",
     "text": [
      "red Apple\n",
      "red Banana\n",
      "red Dorian\n",
      "big Apple\n",
      "big Banana\n",
      "big Dorian\n",
      "tasty Apple\n",
      "tasty Banana\n",
      "tasty Dorian\n"
     ]
    }
   ],
   "source": [
    "adj=[\"red\", \"big\",\"tasty\"]\n",
    "fruit=[\"Apple\", \"Banana\", \"Dorian\"]\n",
    "\n",
    "for i in adj: #red #big #tasty\n",
    "    for j in fruit:\n",
    "        print(i,j) #re Apple, red Banana, red Durian #big Apple, big Banana #big Durian #tasty Apple #tasty Banana #tasty Dorian\n",
    "\n",
    "def nested_loop():\n",
    "    for i in range(2,4):\n",
    "        for j in range(1,11):\n",
    "            print(f\"{i} X {j:6}\")\n",
    "        print(\"_\"*30)"
   ]
  },
  {
   "cell_type": "code",
   "execution_count": 23,
   "id": "fc5b440f",
   "metadata": {},
   "outputs": [
    {
     "name": "stdout",
     "output_type": "stream",
     "text": [
      "[1, 2, 3, 4, 5]\n",
      "[1, 2, 3, 4, 5]\n",
      "[3, 1, 4, 2, 5]\n"
     ]
    }
   ],
   "source": [
    "li = [3,1,4,2,5]\n",
    "li.sort()\n",
    "print(li) #[1,2,3,4,5]\n",
    "\n",
    "li = [3,1,4,2,5]\n",
    "print(sorted(li)) #[1,2,3,4,5]\n",
    "print(li) #[3,1,4,2,5]"
   ]
  },
  {
   "cell_type": "markdown",
   "id": "3647172c",
   "metadata": {},
   "source": [
    "<h3 style=\"font-family: Times New Roman, serif;\">0.0.2&nbsp&nbsp Set</h3>"
   ]
  },
  {
   "cell_type": "code",
   "execution_count": 24,
   "id": "c54a2591",
   "metadata": {},
   "outputs": [
    {
     "data": {
      "text/plain": [
       "{'7 habbit', 9, 'Follow your heart', 'Main Kampf', 'Think and grow rich'}"
      ]
     },
     "execution_count": 24,
     "metadata": {},
     "output_type": "execute_result"
    }
   ],
   "source": [
    "book={\"Main Kampf\", \"Think and grow rich\", \"Follow your heart\", \"7 habbit\", 9}\n",
    "book"
   ]
  },
  {
   "cell_type": "code",
   "execution_count": 25,
   "id": "bb758b0a",
   "metadata": {},
   "outputs": [
    {
     "name": "stdout",
     "output_type": "stream",
     "text": [
      "Think and grow rich\n",
      "Main Kampf\n",
      "7 habbit\n",
      "9\n",
      "Follow your heart\n"
     ]
    }
   ],
   "source": [
    "#loop\n",
    "for i in book:\n",
    "    print(i)"
   ]
  },
  {
   "cell_type": "code",
   "execution_count": 26,
   "id": "5b8889a6",
   "metadata": {},
   "outputs": [
    {
     "data": {
      "text/plain": [
       "{'7 habbit',\n",
       " 9,\n",
       " 'Cambodia',\n",
       " 'Follow your heart',\n",
       " 'Main Kampf',\n",
       " 'Think and grow rich'}"
      ]
     },
     "execution_count": 26,
     "metadata": {},
     "output_type": "execute_result"
    }
   ],
   "source": [
    "book.add(\"Cambodia\")\n",
    "book"
   ]
  },
  {
   "cell_type": "markdown",
   "id": "72519a3b",
   "metadata": {},
   "source": [
    "<h3 style=\"font-family: Times New Roman, serif;\">0.0.3&nbsp&nbsp tuple()</h3>\n",
    "<p style=\"font-family: Times New Roman, serif;\">\n",
    "    tuple (…),contain differrent tatype, order, unchangeable, allow dublicated item\n",
    "</p>"
   ]
  },
  {
   "cell_type": "code",
   "execution_count": 27,
   "id": "39ac49e7",
   "metadata": {},
   "outputs": [
    {
     "name": "stdout",
     "output_type": "stream",
     "text": [
      "Cambodia\n",
      "Brunei\n",
      "Brunei\n"
     ]
    }
   ],
   "source": [
    "cou=(\"Cambodia\",\"Thailand\",\"Brunei\",34,67.901,\"Brunei\")\n",
    "print(cou[0])\n",
    "print(cou[2])\n",
    "print(cou[5])"
   ]
  },
  {
   "cell_type": "code",
   "execution_count": 28,
   "id": "6845b5b6",
   "metadata": {},
   "outputs": [
    {
     "name": "stdout",
     "output_type": "stream",
     "text": [
      "('Cambodia', 'Thailand', 'Brunei', 23, 67.901, 'Brunei')\n"
     ]
    }
   ],
   "source": [
    "#update tuple\n",
    "count1=list(cou)#convert from tuple to list\n",
    "count1[3]=23 #change value\n",
    "cou=tuple(count1)\n",
    "print(cou)"
   ]
  },
  {
   "cell_type": "code",
   "execution_count": 29,
   "id": "e86d9d6c",
   "metadata": {},
   "outputs": [
    {
     "name": "stdout",
     "output_type": "stream",
     "text": [
      "('Brunei', 'Cambodia', 'Japan', 'Lao')\n"
     ]
    }
   ],
   "source": [
    "x=('Brunei', 'Cambodia', 'Japan', 'Lao')\n",
    "print(x)"
   ]
  },
  {
   "cell_type": "code",
   "execution_count": 30,
   "id": "a72077ee",
   "metadata": {},
   "outputs": [],
   "source": [
    "#unpack\n",
    "(Lotus,Romdul,Sakura,Champa) = x"
   ]
  },
  {
   "cell_type": "code",
   "execution_count": 31,
   "id": "9df241f4",
   "metadata": {},
   "outputs": [
    {
     "name": "stdout",
     "output_type": "stream",
     "text": [
      "Brunei\n"
     ]
    }
   ],
   "source": [
    "print(Lotus)"
   ]
  },
  {
   "cell_type": "code",
   "execution_count": 32,
   "id": "af6b6538",
   "metadata": {},
   "outputs": [
    {
     "name": "stdout",
     "output_type": "stream",
     "text": [
      "('y', 's', 't', 1, 5, 8)\n"
     ]
    }
   ],
   "source": [
    "a=(\"y\",\"s\",\"t\")\n",
    "b=(1,5,8)\n",
    "c=a+b\n",
    "print(c)"
   ]
  },
  {
   "cell_type": "code",
   "execution_count": 33,
   "id": "a700e8d2",
   "metadata": {},
   "outputs": [
    {
     "name": "stdout",
     "output_type": "stream",
     "text": [
      "('Brunei', 'Cambodia', 'Japan', 'Lao', 'Brunei', 'Cambodia', 'Japan', 'Lao')\n"
     ]
    }
   ],
   "source": [
    "x=('Brunei', 'Cambodia', 'Japan', 'Lao')\n",
    "y=x*2\n",
    "print(y)"
   ]
  },
  {
   "cell_type": "code",
   "execution_count": 34,
   "id": "9aa49cbe",
   "metadata": {},
   "outputs": [
    {
     "name": "stdout",
     "output_type": "stream",
     "text": [
      "(3, 6, 8, 3, 6, 8)\n"
     ]
    }
   ],
   "source": [
    "d=(3,6,8)\n",
    "f=d*2\n",
    "print(f)\n"
   ]
  },
  {
   "cell_type": "markdown",
   "id": "a6434fd0",
   "metadata": {},
   "source": [
    "<h3 style=\"font-family: Times New Roman, serif;\">0.0.4&nbsp&nbsp Dictionary {key:value}\n",
    "</h3>\n",
    "<p style=\"font-family: Times New Roman, serif;\">\n",
    "    dictionary {ky:value}, order, changable , and do not allow for dublicated key\n",
    "</p>"
   ]
  },
  {
   "cell_type": "code",
   "execution_count": 36,
   "id": "87990c42",
   "metadata": {},
   "outputs": [],
   "source": [
    "dict={\n",
    "    \"Hi\":\"    \",\n",
    "    \"Cambodia\":\"   \",\n",
    "    \"Love\":\"   \",\n",
    "    \"Age\":28}"
   ]
  },
  {
   "cell_type": "code",
   "execution_count": 38,
   "id": "c079ebd7",
   "metadata": {},
   "outputs": [
    {
     "name": "stdout",
     "output_type": "stream",
     "text": [
      "    \n"
     ]
    }
   ],
   "source": [
    "print(dict[\"Hi\"])"
   ]
  },
  {
   "cell_type": "code",
   "execution_count": 39,
   "id": "e0d086cf",
   "metadata": {},
   "outputs": [
    {
     "name": "stdout",
     "output_type": "stream",
     "text": [
      "Hi\n",
      "Cambodia\n",
      "Love\n",
      "Age\n"
     ]
    }
   ],
   "source": [
    "for x in dict:\n",
    "    print(x)"
   ]
  },
  {
   "cell_type": "code",
   "execution_count": 40,
   "id": "88900083",
   "metadata": {},
   "outputs": [
    {
     "name": "stdout",
     "output_type": "stream",
     "text": [
      "28\n"
     ]
    }
   ],
   "source": [
    "print(dict[\"Age\"])"
   ]
  },
  {
   "cell_type": "code",
   "execution_count": 41,
   "id": "d4301dcb",
   "metadata": {},
   "outputs": [
    {
     "name": "stdout",
     "output_type": "stream",
     "text": [
      "dict_keys(['Hi', 'Cambodia', 'Love', 'Age'])\n"
     ]
    }
   ],
   "source": [
    "l=dict.keys()\n",
    "print(l)"
   ]
  },
  {
   "cell_type": "code",
   "execution_count": 42,
   "id": "61d40985",
   "metadata": {},
   "outputs": [
    {
     "data": {
      "text/plain": [
       "{'Hi': '    ', 'Cambodia': '   ', 'Love': '   ', 'Age': 38}"
      ]
     },
     "execution_count": 42,
     "metadata": {},
     "output_type": "execute_result"
    }
   ],
   "source": [
    "dict[\"Age\"]=38\n",
    "dict"
   ]
  },
  {
   "cell_type": "code",
   "execution_count": 48,
   "id": "311be943",
   "metadata": {},
   "outputs": [],
   "source": [
    "dict.update({\"age\":48})"
   ]
  },
  {
   "cell_type": "code",
   "execution_count": 49,
   "id": "1c90750b",
   "metadata": {},
   "outputs": [
    {
     "data": {
      "text/plain": [
       "{'Hi': '    ',\n",
       " 'Cambodia': '   ',\n",
       " 'Love': '   ',\n",
       " 'Age': 48,\n",
       " 'Job': 'Data Scientist',\n",
       " 'age': 48}"
      ]
     },
     "execution_count": 49,
     "metadata": {},
     "output_type": "execute_result"
    }
   ],
   "source": [
    "dict"
   ]
  },
  {
   "cell_type": "code",
   "execution_count": 50,
   "id": "3dac3cc5",
   "metadata": {},
   "outputs": [
    {
     "data": {
      "text/plain": [
       "{'Hi': '    ',\n",
       " 'Cambodia': '   ',\n",
       " 'Love': '   ',\n",
       " 'Age': 48,\n",
       " 'Job': 'Data Scientist',\n",
       " 'age': 48}"
      ]
     },
     "execution_count": 50,
     "metadata": {},
     "output_type": "execute_result"
    }
   ],
   "source": [
    "dict[\"Job\"]=\"Data Scientist\"\n",
    "dict"
   ]
  },
  {
   "cell_type": "code",
   "execution_count": 51,
   "id": "25468ce1",
   "metadata": {},
   "outputs": [
    {
     "data": {
      "text/plain": [
       "{'Hi': '    ',\n",
       " 'Cambodia': '   ',\n",
       " 'Love': '   ',\n",
       " 'Age': 48,\n",
       " 'Job': 'Data Scientist'}"
      ]
     },
     "execution_count": 51,
     "metadata": {},
     "output_type": "execute_result"
    }
   ],
   "source": [
    "dict.pop(\"age\")\n",
    "dict"
   ]
  },
  {
   "cell_type": "code",
   "execution_count": 53,
   "id": "e80c1a9b",
   "metadata": {},
   "outputs": [
    {
     "name": "stdout",
     "output_type": "stream",
     "text": [
      "You have earned green color, you will get 100\n"
     ]
    }
   ],
   "source": [
    "score={'color':'green','point':100}\n",
    "print('You have earned '+str(score['color'])+\" color, you will get \"+str(score['point']))"
   ]
  },
  {
   "cell_type": "code",
   "execution_count": 58,
   "id": "4deb8253",
   "metadata": {},
   "outputs": [],
   "source": [
    "#nested dictionary\n",
    "#a={key: {key1:value1, key2:value2}}\n",
    "family={\n",
    "    \"kid1\":{\n",
    "        'name':'Dara',\n",
    "        'sex':'M',\n",
    "        'year':1990\n",
    "    },\n",
    "    \"kid2\":{\n",
    "        'name': 'Dary',\n",
    "        \"Sex\" : 'M',\n",
    "        'year': 1995\n",
    "    }\n",
    "}"
   ]
  },
  {
   "cell_type": "code",
   "execution_count": 59,
   "id": "058afd91",
   "metadata": {},
   "outputs": [
    {
     "name": "stdout",
     "output_type": "stream",
     "text": [
      "{'name': 'Dara', 'sex': 'M', 'year': 1990}\n"
     ]
    }
   ],
   "source": [
    "print(family[\"kid1\"])"
   ]
  },
  {
   "cell_type": "markdown",
   "id": "ccff86dc",
   "metadata": {},
   "source": [
    "<h3 style=\"font-family: Times New Roman, serif;\">0.0.5&nbsp&nbsp Thank you!\n",
    "</h3>"
   ]
  }
 ],
 "metadata": {
  "kernelspec": {
   "display_name": "Python 3 (ipykernel)",
   "language": "python",
   "name": "python3"
  },
  "language_info": {
   "codemirror_mode": {
    "name": "ipython",
    "version": 3
   },
   "file_extension": ".py",
   "mimetype": "text/x-python",
   "name": "python",
   "nbconvert_exporter": "python",
   "pygments_lexer": "ipython3",
   "version": "3.9.7"
  }
 },
 "nbformat": 4,
 "nbformat_minor": 5
}
