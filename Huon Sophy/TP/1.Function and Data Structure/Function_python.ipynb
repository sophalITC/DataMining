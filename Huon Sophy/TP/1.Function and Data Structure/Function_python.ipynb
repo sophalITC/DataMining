{
 "cells": [
  {
   "cell_type": "markdown",
   "id": "acbf2404",
   "metadata": {},
   "source": [
    "# <center style=\"font-family: Times New Roman, serif;\">Function_Python</center>\n",
    "<p style=\"font-family: Times New Roman, serif; text-align:center;\">March 1, 2022</p>\n",
    "<p style=\"font-family: Times New Roman, serif; font-weight:bold;font-style: italic;\">Author:&nbsp Huon Sophy</p>\n",
    "<h2 style=\"font-family: Times New Roman, serif;\">1&nbsp&nbsp Function</h2>\n",
    "<p style=\"font-family: Times New Roman, serif;\">\n",
    "    Generally, Python programming is divided the function into three types: 1. Built-in function 2.User-defined function 3. Lambda function\n",
    "</p>\n",
    "<h3 style=\"font-family: Times New Roman, serif;\">1.2&nbsp&nbsp Built-in function</h3>\n",
    "<p style=\"font-family: Times New Roman, serif;\">\n",
    "    In python or many programming languages has defined the built-in function as the function that\n",
    "already defined in the program such as : 1. abs() Returns the absolute value of a number 2. chr()\n",
    "Returns a character from the specified Unicode code. 3. dir() Returns a list of the specified object’s\n",
    "properties and methods 4. help() Executes the built-in help system 5. hex() Converts a number\n",
    "into a hexadecimal value 6. id() Returns the id of an object 7. input() Allowing user input 8. len()\n",
    "Returns the length of an object 9. list() Returns a list 10. map() Returns the specified iterator\n",
    "with the specified function applied to each item 11. max() Returns the largest item in an iterable\n",
    "and so on\n",
    "</p>\n",
    "<h3 style=\"font-family: Times New Roman, serif;\">1.2.1&nbsp&nbsp User-defined function</h3>\n",
    "<p style=\"font-family: Times New Roman, serif;\">\n",
    "    In general term of python function, it can be separated that user-defined can be divided ito (i) non-return function and (ii) return -function\n",
    "</p>\n",
    "<h3 style=\"font-family: Times New Roman, serif;\">1.1&nbsp&nbsp Non-return function (void function)</h3>"
   ]
  },
  {
   "cell_type": "code",
   "execution_count": 9,
   "id": "a1163cd2",
   "metadata": {},
   "outputs": [
    {
     "name": "stdout",
     "output_type": "stream",
     "text": [
      "I linke coding\n",
      "The world is beautiful with coding\n",
      "Python is eating data science\n"
     ]
    }
   ],
   "source": [
    "#non-return function\n",
    "def test():\n",
    "    print(\"I linke coding\")\n",
    "    print(\"The world is beautiful with coding\")\n",
    "    print(\"Python is eating data science\")\n",
    "\n",
    "test()"
   ]
  },
  {
   "cell_type": "code",
   "execution_count": 10,
   "id": "fd489834",
   "metadata": {},
   "outputs": [
    {
     "name": "stdout",
     "output_type": "stream",
     "text": [
      "90\n"
     ]
    }
   ],
   "source": [
    "def test1():\n",
    "    a=40\n",
    "    b=50\n",
    "    print(a+b)\n",
    "\n",
    "test1()"
   ]
  },
  {
   "cell_type": "code",
   "execution_count": 11,
   "id": "03bdc62c",
   "metadata": {},
   "outputs": [
    {
     "name": "stdout",
     "output_type": "stream",
     "text": [
      "Enter weight:10\n",
      "Enter height:5\n",
      "The area of triangle is :  25.0\n",
      "The area of triagle is : 25.0\n"
     ]
    }
   ],
   "source": [
    "#non-return function must be non-return\n",
    "#function traingle_area_cal()\n",
    "#function circle_area_cal()\n",
    "#function rectangle_area_cal()\n",
    "#func1\n",
    "# i++ (increament : i=i+1), i-- (decrement: i=i-1)\n",
    "    \n",
    "def tri_area_cal():\n",
    "    b=float(input(\"Enter weight:\"))\n",
    "    h=float(input(\"Enter height:\"))\n",
    "    area =0.5*b*h\n",
    "    print(\"The area of triangle is : \",area)\n",
    "    print(f\"The area of triagle is : {area}\")\n",
    "\n",
    "def cir_area_cal():\n",
    "    r=float(input(\"Enter R: \"))\n",
    "    area=3.14*r*r\n",
    "    print(f\"The area of circle is : {area}\")\n",
    "\n",
    "def rec_area_cal():\n",
    "    b=float(input(\"Enter weight: \"))\n",
    "    h=float(input(\"Enter height: \"))\n",
    "    area=b*h\n",
    "    print(\"The area of triangle is : \", area)\n",
    "    \n",
    "tri_area_cal()"
   ]
  },
  {
   "cell_type": "markdown",
   "id": "068a7301",
   "metadata": {},
   "source": [
    "<p style=\"font-family: Times New Roman, serif;\">\n",
    "    Write the following program in Python: #welcome to area calculation and temperature coversion\n",
    "1. Rectangle area 2. Circle area 3. Triangle area 4. Celcius to fahrenheit 5. Fahrenheit to celcius\n",
    "select your choice: 1\n",
    "</p>"
   ]
  },
  {
   "cell_type": "code",
   "execution_count": 12,
   "id": "5137f588",
   "metadata": {},
   "outputs": [
    {
     "name": "stdout",
     "output_type": "stream",
     "text": [
      "welcome to area calculation and temperature coversion :\n",
      "1. Rectangle area \n",
      "2. Circle area \n",
      "3. Triangle area \n",
      "4. Celcius to fahrenheit\n",
      "5. Fahrenheit to celciu\n",
      "Select your choice: 1\n",
      "Enter weight:8\n",
      "Enter height:5\n",
      "The area of triangle is :  40.0\n"
     ]
    }
   ],
   "source": [
    "def tri_area_cal():\n",
    "    b=float(input(\"Enter weight:\"))\n",
    "    h=float(input(\"Enter height:\"))\n",
    "    area=0.5*b*h\n",
    "    print(\"The area of triangle is: \",area)\n",
    "    print(\"The area of triagle is: {area}\")\n",
    "    \n",
    "def cir_area_cal():\n",
    "    r=float(input(\"Enter R: \"))\n",
    "    area= 3.14*r*r\n",
    "    print(f\"The area of circle is : {area}\") #f string format (3.6)\n",
    "    \n",
    "def rec_area_cal():\n",
    "    b=float(input(\"Enter weight:\"))\n",
    "    h=float(input(\"Enter height:\"))\n",
    "    area=b*h\n",
    "    print(\"The area of triangle is : \",area)\n",
    "    \n",
    "def ce_to_far():\n",
    "    b=float(input(\"Enter tem_cel:\"))\n",
    "    far=(b * 9/5) + 32\n",
    "    print(f\"Temperature as fahranheit is : {far}\") #f string\n",
    "    #print(\"Temperature as fahranheit is : {}\",.format('far')#string format\n",
    "#def\n",
    "\n",
    "print(\"welcome to area calculation and temperature coversion :\")\n",
    "print(\"1. Rectangle area \")\n",
    "print(\"2. Circle area \")\n",
    "print(\"3. Triangle area \")\n",
    "print(\"4. Celcius to fahrenheit\")\n",
    "print(\"5. Fahrenheit to celciu\")\n",
    "n=int(input(\"Select your choice: \"))\n",
    "if n==1:\n",
    "    rec_area_cal()\n",
    "elif n==2:\n",
    "    cir_area_cal()\n",
    "elif n==3:\n",
    "    tri_area_cal()"
   ]
  },
  {
   "cell_type": "markdown",
   "id": "4f3281f3",
   "metadata": {},
   "source": [
    "<h3 style=\"font-family: Times New Roman, serif;\">1.2.2&nbsp&nbsp return function</h3>"
   ]
  },
  {
   "cell_type": "code",
   "execution_count": 13,
   "id": "9c85086b",
   "metadata": {},
   "outputs": [
    {
     "name": "stdout",
     "output_type": "stream",
     "text": [
      "58\n",
      "27.0\n",
      "Enter Farenheit temperature16\n",
      "16.0 degree farenheit = -8.89 degree celius\n",
      "16.0  degree farenheit =  -8.889  degree celius\n"
     ]
    }
   ],
   "source": [
    "#return function have keyword return\n",
    "#paramednter vs argument\n",
    "def sum_3_num(a, b, c):\n",
    "    return a+b+c\n",
    "\n",
    "#print(sum_3_num(45,6,7)\n",
    "print(sum_3_num(45,6,7))\n",
    "\n",
    "def triangle_area(a,b):\n",
    "    area=0.5 *a*b\n",
    "    return area\n",
    "a=triangle_area(6,9)\n",
    "#print(a)\n",
    "print(a)\n",
    "\n",
    "def far_to_cel(far):\n",
    "    return (far-32)*(5/9)\n",
    "\n",
    "a=float(input(\"Enter Farenheit temperature\"))\n",
    "temp_cel=far_to_cel(a)\n",
    "\n",
    "print(f\"{a} degree farenheit = {temp_cel:.2f} degree celius\")\n",
    "print(a,\" degree farenheit = \", round(temp_cel,3), \" degree celius\")\n",
    "\n",
    "#3 return function : circle area, Multiple of 3 number, Fahrenheit to celcius"
   ]
  },
  {
   "cell_type": "code",
   "execution_count": 14,
   "id": "7541eacd",
   "metadata": {},
   "outputs": [
    {
     "name": "stdout",
     "output_type": "stream",
     "text": [
      "Welcome to temperature coversion program\n",
      "1. Celious to farenheit\n",
      "2. farenheit to celious\n",
      "Choise: 2\n",
      "Enter farenheit degree:30\n",
      "The farenheit degree at 30.0 celious degree is: -1.1111111111111112\n"
     ]
    }
   ],
   "source": [
    "def far_to_cel(far):\n",
    "    return (far-32)*(5/9)\n",
    "def cel_to_far(cel):\n",
    "    return (cel*9/5)+32\n",
    "\n",
    "print(\"Welcome to temperature coversion program\")\n",
    "print(\"1. Celious to farenheit\")\n",
    "print(\"2. farenheit to celious\")\n",
    "n=int(input(\"Choise: \"))\n",
    "if(n==1):\n",
    "    a=float(input(\"Enter celious degree\"))\n",
    "    b=cel_to_far(a)\n",
    "    print(f\"The farnheit degree at {a} celious degree is: {b}\")\n",
    "elif (n==2):\n",
    "    x=float(input(\"Enter farenheit degree:\"))\n",
    "    y=far_to_cel(x)\n",
    "    print(f\"The farenheit degree at {x} celious degree is: {y}\")\n",
    "    "
   ]
  },
  {
   "cell_type": "code",
   "execution_count": 15,
   "id": "41270821",
   "metadata": {},
   "outputs": [
    {
     "name": "stdout",
     "output_type": "stream",
     "text": [
      "Enter your money $: 1000\n",
      "Enter a yearly rate: 10\n",
      "Enter number of years: 5\n",
      "year 1 : $1100.00\n",
      "year 2 : $1210.00\n",
      "year 3 : $1331.00\n",
      "year 4 : $1464.10\n",
      "year 5 : $1610.51\n"
     ]
    }
   ],
   "source": [
    "def invest_fv(pv,rate,year):\n",
    "    for i in range(1, years+1):\n",
    "        pv=pv*(1+rate/100)\n",
    "        print(f\"year {i} : ${pv:.2f}\")\n",
    "        \n",
    "pv=int(input(\"Enter your money $: \"))\n",
    "rate=float(input(\"Enter a yearly rate: \"))\n",
    "years=int(input(\"Enter number of years: \"))\n",
    "\n",
    "invest_fv(pv,rate,years)"
   ]
  },
  {
   "cell_type": "code",
   "execution_count": 18,
   "id": "4dd77370",
   "metadata": {},
   "outputs": [
    {
     "name": "stdout",
     "output_type": "stream",
     "text": [
      "24\n"
     ]
    }
   ],
   "source": [
    "#Recusive function\n",
    "#4!=4*3*2*1\n",
    "#f(n)=f(n-1)*f(n-2)*f(n-3)*...*f(1)\n",
    "def factory(n):\n",
    "    if n<0:\n",
    "        return \"Enter only possitive accepted\"\n",
    "    elif n==0:\n",
    "        return 1\n",
    "    else:\n",
    "        return n*factory(n-1) #4*f(3)=4*3*f(1)=4*3*1*f(0)=4*3*2*1\n",
    "    \n",
    "print(factory(4))"
   ]
  },
  {
   "cell_type": "code",
   "execution_count": 19,
   "id": "ce43a768",
   "metadata": {},
   "outputs": [
    {
     "name": "stdout",
     "output_type": "stream",
     "text": [
      "Enter number: 5\n",
      "5\n",
      "4\n",
      "3\n",
      "2\n",
      "1\n",
      "0\n"
     ]
    }
   ],
   "source": [
    "def countdown_num(n):\n",
    "    if n==0:\n",
    "        return 0\n",
    "    elif n<0: #-10+1\n",
    "        print(n)\n",
    "        return countdown_num(n+1)\n",
    "    else:\n",
    "        print(n)\n",
    "        return countdown_num(n-1)\n",
    "\n",
    "num=int(input(\"Enter number: \"))\n",
    "print(countdown_num(num))"
   ]
  },
  {
   "cell_type": "code",
   "execution_count": 20,
   "id": "5b91ad52",
   "metadata": {},
   "outputs": [
    {
     "name": "stdout",
     "output_type": "stream",
     "text": [
      "125\n"
     ]
    }
   ],
   "source": [
    "#exp_num(5,2): 50= 5*5*2\n",
    "def exp_num(n,m):\n",
    "    if m==0:\n",
    "        return n\n",
    "    else:\n",
    "        return n*exp_num(n,m-1)\n",
    "print(exp_num(5,2))\n",
    "#5*exp(5,1)=5*5*exp(5,0)=5*5*5=125\n"
   ]
  },
  {
   "cell_type": "markdown",
   "id": "e2714611",
   "metadata": {},
   "source": [
    "<h3 style=\"font-family: Times New Roman, serif;\">1.3&nbsp&nbsp Lambda function</h3>"
   ]
  },
  {
   "cell_type": "code",
   "execution_count": 22,
   "id": "4b8ffe17",
   "metadata": {},
   "outputs": [
    {
     "name": "stdout",
     "output_type": "stream",
     "text": [
      "900\n",
      "900\n",
      "15.0\n",
      "93.2\n"
     ]
    }
   ],
   "source": [
    "#lambda argument: expresion\n",
    "def area_rec(w,h):\n",
    "    return w*h\n",
    "\n",
    "x= lambda w, h : w*h\n",
    "far_to_cel = lambda far: ((far-32)*(5/9))\n",
    "cel_to_far = lambda cel: ((cel*9/5) +32)\n",
    "print(area_rec(20,45))\n",
    "print(x(20,45))\n",
    "print(far_to_cel(59))\n",
    "print(cel_to_far(34))"
   ]
  },
  {
   "cell_type": "code",
   "execution_count": 23,
   "id": "12180bf8",
   "metadata": {},
   "outputs": [
    {
     "name": "stdout",
     "output_type": "stream",
     "text": [
      "Welcome to temperature coversion program\n",
      "1. Celious to farenheit\n",
      "2. farenheit to celious\n",
      "Choise: 1\n",
      "Enter celious degree: 29\n",
      "The farenheit degree at 29.0 elious degree is: -1.667\n"
     ]
    }
   ],
   "source": [
    "def far_to_cel(far):\n",
    "    return (far-32)*(5/9)\n",
    "x=lambda far:(far-32)*(5/9)\n",
    "\n",
    "def cel_to_far(cel):\n",
    "    return (cel*9/5) + 32\n",
    "y=lambda cel:(cel*9/5)+32\n",
    "\n",
    "print(\"Welcome to temperature coversion program\")\n",
    "print(\"1. Celious to farenheit\")\n",
    "print(\"2. farenheit to celious\")\n",
    "n=int(input(\"Choise: \"))\n",
    "if(n==1):\n",
    "    a=float(input(\"Enter celious degree: \"))\n",
    "    b=x(a)\n",
    "    print(f\"The farenheit degree at {a} elious degree is: {b:.3f}\")\n",
    "    \n",
    "    #elif (n==2):v"
   ]
  }
 ],
 "metadata": {
  "kernelspec": {
   "display_name": "Python 3 (ipykernel)",
   "language": "python",
   "name": "python3"
  },
  "language_info": {
   "codemirror_mode": {
    "name": "ipython",
    "version": 3
   },
   "file_extension": ".py",
   "mimetype": "text/x-python",
   "name": "python",
   "nbconvert_exporter": "python",
   "pygments_lexer": "ipython3",
   "version": "3.9.7"
  }
 },
 "nbformat": 4,
 "nbformat_minor": 5
}
