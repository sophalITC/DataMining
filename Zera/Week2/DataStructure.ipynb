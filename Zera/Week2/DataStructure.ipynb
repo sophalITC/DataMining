{
  "nbformat": 4,
  "nbformat_minor": 0,
  "metadata": {
    "colab": {
      "name": "DataStructure.ipynb",
      "provenance": []
    },
    "kernelspec": {
      "name": "python3",
      "display_name": "Python 3"
    },
    "language_info": {
      "name": "python"
    }
  },
  "cells": [
    {
      "cell_type": "code",
      "execution_count": 3,
      "metadata": {
        "colab": {
          "base_uri": "https://localhost:8080/"
        },
        "id": "_FfA842zm6Lz",
        "outputId": "08434b29-41e9-4c53-c323-5d5b2441978d"
      },
      "outputs": [
        {
          "output_type": "stream",
          "name": "stdout",
          "text": [
            "['Cambodia', ' Thailand', ' Vieatnam', ' Laos', ' Malaysia', ' Japan']\n"
          ]
        }
      ],
      "source": [
        "country= ['Cambodia', \" Thailand\", \" Vieatnam\", \" Laos\", \" Malaysia\", \" Japan\"]\n",
        "print(country)\n"
      ]
    },
    {
      "cell_type": "code",
      "source": [
        "print(country[1:4])\n"
      ],
      "metadata": {
        "colab": {
          "base_uri": "https://localhost:8080/"
        },
        "id": "WALmhGf9nWwK",
        "outputId": "34275679-a7e9-439e-c3eb-652066a485b6"
      },
      "execution_count": 4,
      "outputs": [
        {
          "output_type": "stream",
          "name": "stdout",
          "text": [
            "[' Thailand', ' Vieatnam', ' Laos']\n"
          ]
        }
      ]
    },
    {
      "cell_type": "code",
      "source": [
        "print(len(country))\n"
      ],
      "metadata": {
        "colab": {
          "base_uri": "https://localhost:8080/"
        },
        "id": "2SLh91CrnauC",
        "outputId": "0ca9b3d5-8202-44cb-ef41-0ecfe28d5d1e"
      },
      "execution_count": 5,
      "outputs": [
        {
          "output_type": "stream",
          "name": "stdout",
          "text": [
            "6\n"
          ]
        }
      ]
    },
    {
      "cell_type": "code",
      "source": [
        "print(country[-1])\n"
      ],
      "metadata": {
        "colab": {
          "base_uri": "https://localhost:8080/"
        },
        "id": "wOIbRebancOs",
        "outputId": "d3e349bb-86a2-47cf-bf43-0f595cc34683"
      },
      "execution_count": 6,
      "outputs": [
        {
          "output_type": "stream",
          "name": "stdout",
          "text": [
            " Japan\n"
          ]
        }
      ]
    },
    {
      "cell_type": "code",
      "source": [
        "print(country[-5])\n"
      ],
      "metadata": {
        "colab": {
          "base_uri": "https://localhost:8080/"
        },
        "id": "qxY9s0GRneCM",
        "outputId": "f474cb92-078b-4493-881b-bcb2efd759c5"
      },
      "execution_count": 7,
      "outputs": [
        {
          "output_type": "stream",
          "name": "stdout",
          "text": [
            " Thailand\n"
          ]
        }
      ]
    },
    {
      "cell_type": "code",
      "source": [
        "print(country[3:])\n"
      ],
      "metadata": {
        "colab": {
          "base_uri": "https://localhost:8080/"
        },
        "id": "Sxs7fEkPnfd2",
        "outputId": "f2c90963-1095-4626-dc69-2e76eec4dfd5"
      },
      "execution_count": 8,
      "outputs": [
        {
          "output_type": "stream",
          "name": "stdout",
          "text": [
            "[' Laos', ' Malaysia', ' Japan']\n"
          ]
        }
      ]
    },
    {
      "cell_type": "code",
      "source": [
        "country[1:3]=[\"French\", \" England\"]\n",
        "print(country)\n"
      ],
      "metadata": {
        "colab": {
          "base_uri": "https://localhost:8080/"
        },
        "id": "gpxncVGUnh7a",
        "outputId": "2d881933-270b-4ffe-8ea0-913d0f1fd195"
      },
      "execution_count": 9,
      "outputs": [
        {
          "output_type": "stream",
          "name": "stdout",
          "text": [
            "['Cambodia', 'French', ' England', ' Laos', ' Malaysia', ' Japan']\n"
          ]
        }
      ]
    },
    {
      "cell_type": "code",
      "source": [
        "country[1:3]=[\"French\", \" England\"]\n",
        "print(country)\n"
      ],
      "metadata": {
        "colab": {
          "base_uri": "https://localhost:8080/"
        },
        "id": "jzrtGLnDnvEr",
        "outputId": "f5a2c231-d1cb-48cc-ea08-a8da173d56b2"
      },
      "execution_count": 10,
      "outputs": [
        {
          "output_type": "stream",
          "name": "stdout",
          "text": [
            "['Cambodia', 'French', ' England', ' Laos', ' Malaysia', ' Japan']\n"
          ]
        }
      ]
    },
    {
      "cell_type": "code",
      "source": [
        "country.append(\"Russia\")\n",
        "print(country)"
      ],
      "metadata": {
        "colab": {
          "base_uri": "https://localhost:8080/"
        },
        "id": "4GVQzarxnwdY",
        "outputId": "33fae2de-a983-4847-b6ca-5c6a287dfdbb"
      },
      "execution_count": 11,
      "outputs": [
        {
          "output_type": "stream",
          "name": "stdout",
          "text": [
            "['Cambodia', 'French', ' England', ' Laos', ' Malaysia', ' Japan', 'Russia']\n"
          ]
        }
      ]
    },
    {
      "cell_type": "code",
      "source": [
        "country.insert(2, \"Swiss\")\n",
        "print(country)\n"
      ],
      "metadata": {
        "colab": {
          "base_uri": "https://localhost:8080/"
        },
        "id": "Z_CefBX-n28m",
        "outputId": "883aea4f-b34a-4787-dc6b-dc1b9d9d1507"
      },
      "execution_count": 12,
      "outputs": [
        {
          "output_type": "stream",
          "name": "stdout",
          "text": [
            "['Cambodia', 'French', 'Swiss', ' England', ' Laos', ' Malaysia', ' Japan', 'Russia']\n"
          ]
        }
      ]
    },
    {
      "cell_type": "code",
      "source": [
        "fruit=[\"Mango\", \" Cherry\", \"potato\"]\n",
        "country.extend(fruit)\n",
        "print(country)"
      ],
      "metadata": {
        "colab": {
          "base_uri": "https://localhost:8080/"
        },
        "id": "r7XvcVRgn6Sp",
        "outputId": "afbbdbee-3234-4b85-e951-d54f7c311fe3"
      },
      "execution_count": 13,
      "outputs": [
        {
          "output_type": "stream",
          "name": "stdout",
          "text": [
            "['Cambodia', 'French', 'Swiss', ' England', ' Laos', ' Malaysia', ' Japan', 'Russia', 'Mango', ' Cherry', 'potato']\n"
          ]
        }
      ]
    },
    {
      "cell_type": "code",
      "source": [
        "country[5]= \"Cambodia\"\n",
        "print(country)\n"
      ],
      "metadata": {
        "colab": {
          "base_uri": "https://localhost:8080/"
        },
        "id": "pzkUmR0Tn-YY",
        "outputId": "05b0eb28-00e2-45ad-e98b-35de956b5526"
      },
      "execution_count": 14,
      "outputs": [
        {
          "output_type": "stream",
          "name": "stdout",
          "text": [
            "['Cambodia', 'French', 'Swiss', ' England', ' Laos', 'Cambodia', ' Japan', 'Russia', 'Mango', ' Cherry', 'potato']\n"
          ]
        }
      ]
    },
    {
      "cell_type": "code",
      "source": [
        "country.remove(\"Mango\")\n",
        "print(country)"
      ],
      "metadata": {
        "colab": {
          "base_uri": "https://localhost:8080/"
        },
        "id": "mL8jVtf2oAK-",
        "outputId": "4edcfcff-d7ac-41ea-9f3c-c720daccda32"
      },
      "execution_count": 15,
      "outputs": [
        {
          "output_type": "stream",
          "name": "stdout",
          "text": [
            "['Cambodia', 'French', 'Swiss', ' England', ' Laos', 'Cambodia', ' Japan', 'Russia', ' Cherry', 'potato']\n"
          ]
        }
      ]
    },
    {
      "cell_type": "code",
      "source": [
        "country.pop(5)#index\n",
        "print(country)"
      ],
      "metadata": {
        "colab": {
          "base_uri": "https://localhost:8080/"
        },
        "id": "JnEC_Ml9oCHe",
        "outputId": "453c786e-e4e4-47f1-aa30-5f69fcf4e899"
      },
      "execution_count": 17,
      "outputs": [
        {
          "output_type": "stream",
          "name": "stdout",
          "text": [
            "['Cambodia', 'French', 'Swiss', ' England', ' Laos', ' Japan', 'Russia', ' Cherry', 'potato']\n"
          ]
        }
      ]
    },
    {
      "cell_type": "code",
      "source": [
        "del country[8]\n",
        "print(country)\n"
      ],
      "metadata": {
        "colab": {
          "base_uri": "https://localhost:8080/"
        },
        "id": "qtUHD-kHoIeX",
        "outputId": "2efc7bc2-9527-4a2e-a587-a13ae1a39078"
      },
      "execution_count": 18,
      "outputs": [
        {
          "output_type": "stream",
          "name": "stdout",
          "text": [
            "['Cambodia', 'French', 'Swiss', ' England', ' Laos', ' Japan', 'Russia', ' Cherry']\n"
          ]
        }
      ]
    },
    {
      "cell_type": "code",
      "source": [
        "newlist=[]\n",
        "for x in country:\n",
        "    if \"a\" in x:\n",
        "        newlist.append(x)\n",
        "print(newlist)\n"
      ],
      "metadata": {
        "colab": {
          "base_uri": "https://localhost:8080/"
        },
        "id": "MYSwx0sRoKwj",
        "outputId": "805e4579-2567-486e-d71f-9fa8e8dbb407"
      },
      "execution_count": 20,
      "outputs": [
        {
          "output_type": "stream",
          "name": "stdout",
          "text": [
            "['Cambodia', ' England', ' Laos', ' Japan', 'Russia']\n"
          ]
        }
      ]
    },
    {
      "cell_type": "code",
      "source": [
        "country.sort()\n",
        "print(country)"
      ],
      "metadata": {
        "colab": {
          "base_uri": "https://localhost:8080/"
        },
        "id": "q7fB0R_loS0s",
        "outputId": "0b305287-f346-49e0-a3c5-30f937baadfa"
      },
      "execution_count": 21,
      "outputs": [
        {
          "output_type": "stream",
          "name": "stdout",
          "text": [
            "[' Cherry', ' England', ' Japan', ' Laos', 'Cambodia', 'French', 'Russia', 'Swiss']\n"
          ]
        }
      ]
    },
    {
      "cell_type": "code",
      "source": [
        "num=[45,78,1,45,67,9,3]\n",
        "print(num)\n",
        "num.sort()\n",
        "print(num)\n"
      ],
      "metadata": {
        "colab": {
          "base_uri": "https://localhost:8080/"
        },
        "id": "c8R65NkwobHi",
        "outputId": "a51cb203-929e-4b39-b662-b869918235c1"
      },
      "execution_count": 22,
      "outputs": [
        {
          "output_type": "stream",
          "name": "stdout",
          "text": [
            "[45, 78, 1, 45, 67, 9, 3]\n",
            "[1, 3, 9, 45, 45, 67, 78]\n"
          ]
        }
      ]
    },
    {
      "cell_type": "code",
      "source": [
        "adj=[\"red\",\"big\", \"tasty\"]\n",
        "fruit= [ \"Apple\", \"Banana\", \"Dorian\"]\n",
        "for i in adj: #red #big #tasty\n",
        "  for j in fruit:\n",
        "    print(i,j)#red Apple, red Banana, red Durian #Big Apple, big Banaana,␣\n",
        "\n",
        "def nested_loop():\n",
        "  for i in range (2, 4):\n",
        "    for j in range(1,11):\n",
        "      print(\" {} x {} = {} \".format(i,j,i*j))\n",
        "print(\"_\"*30)"
      ],
      "metadata": {
        "colab": {
          "base_uri": "https://localhost:8080/"
        },
        "id": "spFvJOShodEQ",
        "outputId": "d4c2cf85-48c1-4a97-bf91-a5649a94a5c4"
      },
      "execution_count": 23,
      "outputs": [
        {
          "output_type": "stream",
          "name": "stdout",
          "text": [
            "red Apple\n",
            "red Banana\n",
            "red Dorian\n",
            "big Apple\n",
            "big Banana\n",
            "big Dorian\n",
            "tasty Apple\n",
            "tasty Banana\n",
            "tasty Dorian\n",
            "______________________________\n"
          ]
        }
      ]
    },
    {
      "cell_type": "code",
      "source": [
        "li = [3, 1, 4, 2, 5]\n",
        "li.sort()\n",
        "print (li) # [1, 2, 3, 4, 5]\n",
        "li = [3, 1, 4, 2, 5]\n",
        "print (sorted(li)) # [1, 2, 3, 4, 5]\n",
        "print (li) # [3, 1, 4, 2, 5]"
      ],
      "metadata": {
        "colab": {
          "base_uri": "https://localhost:8080/"
        },
        "id": "0G8IsYusosDq",
        "outputId": "c6370967-9053-4288-af39-47a2ac488df5"
      },
      "execution_count": 25,
      "outputs": [
        {
          "output_type": "stream",
          "name": "stdout",
          "text": [
            "[1, 2, 3, 4, 5]\n",
            "[1, 2, 3, 4, 5]\n",
            "[3, 1, 4, 2, 5]\n"
          ]
        }
      ]
    },
    {
      "cell_type": "code",
      "source": [
        "book={\"Mein Kampf\",\"Think and grow rich\", \"Follow your heart\",\"7 habbit\",9}\n",
        "book"
      ],
      "metadata": {
        "colab": {
          "base_uri": "https://localhost:8080/"
        },
        "id": "v2KnOklWpFSn",
        "outputId": "ed3897d5-0b0b-4f22-b85a-439a0a925562"
      },
      "execution_count": 26,
      "outputs": [
        {
          "output_type": "execute_result",
          "data": {
            "text/plain": [
              "{'7 habbit', 9, 'Follow your heart', 'Mein Kampf', 'Think and grow rich'}"
            ]
          },
          "metadata": {},
          "execution_count": 26
        }
      ]
    },
    {
      "cell_type": "code",
      "source": [
        "for i in book:\n",
        "  print(i)\n"
      ],
      "metadata": {
        "colab": {
          "base_uri": "https://localhost:8080/"
        },
        "id": "BT-hcCjipHbq",
        "outputId": "dc30e7ba-3cc1-4b32-fb1b-379938fe6ded"
      },
      "execution_count": 27,
      "outputs": [
        {
          "output_type": "stream",
          "name": "stdout",
          "text": [
            "Follow your heart\n",
            "9\n",
            "Think and grow rich\n",
            "7 habbit\n",
            "Mein Kampf\n"
          ]
        }
      ]
    },
    {
      "cell_type": "code",
      "source": [
        "book.add(\"Cambodia\")\n",
        "book"
      ],
      "metadata": {
        "colab": {
          "base_uri": "https://localhost:8080/"
        },
        "id": "2wRnZTqspJti",
        "outputId": "3b20fc8b-a9f3-4e81-9c97-06a39ceed677"
      },
      "execution_count": 28,
      "outputs": [
        {
          "output_type": "execute_result",
          "data": {
            "text/plain": [
              "{'7 habbit',\n",
              " 9,\n",
              " 'Cambodia',\n",
              " 'Follow your heart',\n",
              " 'Mein Kampf',\n",
              " 'Think and grow rich'}"
            ]
          },
          "metadata": {},
          "execution_count": 28
        }
      ]
    },
    {
      "cell_type": "code",
      "source": [
        "cou=(\"Cambodia\",\"Thailand\",\"Brunei\",34,67.901,\"Brunei\")\n",
        "print(cou[0])\n",
        "print(cou[2])\n",
        "print(cou[5])"
      ],
      "metadata": {
        "colab": {
          "base_uri": "https://localhost:8080/"
        },
        "id": "oboqXYyJpMG5",
        "outputId": "e411ba13-ef80-411e-8549-d9304489529b"
      },
      "execution_count": 29,
      "outputs": [
        {
          "output_type": "stream",
          "name": "stdout",
          "text": [
            "Cambodia\n",
            "Brunei\n",
            "Brunei\n"
          ]
        }
      ]
    },
    {
      "cell_type": "code",
      "source": [
        "count1=list(cou)#convert from tuple to list\n",
        "count1[3]=23 #change value\n",
        "cou=tuple(count1)\n",
        "print(cou)"
      ],
      "metadata": {
        "colab": {
          "base_uri": "https://localhost:8080/"
        },
        "id": "YlWpGXxKotzo",
        "outputId": "1b868524-a484-42f3-cf94-4f34a2885bdb"
      },
      "execution_count": 30,
      "outputs": [
        {
          "output_type": "stream",
          "name": "stdout",
          "text": [
            "('Cambodia', 'Thailand', 'Brunei', 23, 67.901, 'Brunei')\n"
          ]
        }
      ]
    },
    {
      "cell_type": "code",
      "source": [
        "x=('Brunei', 'Cambodia', 'Japan', 'Lao')\n",
        "print(x)"
      ],
      "metadata": {
        "colab": {
          "base_uri": "https://localhost:8080/"
        },
        "id": "Um7GG8rDpRX2",
        "outputId": "6accb852-834e-45d4-fb24-eae4c83d24c2"
      },
      "execution_count": 31,
      "outputs": [
        {
          "output_type": "stream",
          "name": "stdout",
          "text": [
            "('Brunei', 'Cambodia', 'Japan', 'Lao')\n"
          ]
        }
      ]
    },
    {
      "cell_type": "code",
      "source": [
        "(Lotus,Romdul,Sakura,Champa) = x"
      ],
      "metadata": {
        "id": "GFY6m8LrpTPM"
      },
      "execution_count": 32,
      "outputs": []
    },
    {
      "cell_type": "code",
      "source": [
        "print(Lotus)\n"
      ],
      "metadata": {
        "colab": {
          "base_uri": "https://localhost:8080/"
        },
        "id": "UqMRiqATpVi-",
        "outputId": "53e83d32-9a7c-4711-b4f2-bbbbf85406ba"
      },
      "execution_count": 33,
      "outputs": [
        {
          "output_type": "stream",
          "name": "stdout",
          "text": [
            "Brunei\n"
          ]
        }
      ]
    },
    {
      "cell_type": "code",
      "source": [
        "a=(\"y\",\"s\",\"t\")\n",
        "b=(1,5,8)\n",
        "c=a+b\n",
        "print(c)\n"
      ],
      "metadata": {
        "colab": {
          "base_uri": "https://localhost:8080/"
        },
        "id": "_vbA-9iJpYGI",
        "outputId": "6271a3d7-7d4d-45c6-9129-e2926f4abdf4"
      },
      "execution_count": 34,
      "outputs": [
        {
          "output_type": "stream",
          "name": "stdout",
          "text": [
            "('y', 's', 't', 1, 5, 8)\n"
          ]
        }
      ]
    },
    {
      "cell_type": "code",
      "source": [
        "x=('Brunei', 'Cambodia', 'Japan', 'Lao')\n",
        "y=x*2\n",
        "print(y)"
      ],
      "metadata": {
        "colab": {
          "base_uri": "https://localhost:8080/"
        },
        "id": "Kffp2-0xpcOy",
        "outputId": "21ae5fdf-e666-4f86-c9cd-ae7b18104d88"
      },
      "execution_count": 35,
      "outputs": [
        {
          "output_type": "stream",
          "name": "stdout",
          "text": [
            "('Brunei', 'Cambodia', 'Japan', 'Lao', 'Brunei', 'Cambodia', 'Japan', 'Lao')\n"
          ]
        }
      ]
    },
    {
      "cell_type": "code",
      "source": [
        "d=(3,6,8)\n",
        "f=d*2\n",
        "print(f)"
      ],
      "metadata": {
        "colab": {
          "base_uri": "https://localhost:8080/"
        },
        "id": "Nl35fZfRpf_q",
        "outputId": "0c965f6b-b1ac-4548-827d-24c2b3397228"
      },
      "execution_count": 36,
      "outputs": [
        {
          "output_type": "stream",
          "name": "stdout",
          "text": [
            "(3, 6, 8, 3, 6, 8)\n"
          ]
        }
      ]
    }
  ]
}