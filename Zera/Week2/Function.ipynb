{
  "nbformat": 4,
  "nbformat_minor": 0,
  "metadata": {
    "colab": {
      "name": "Function.ipynb",
      "provenance": []
    },
    "kernelspec": {
      "name": "python3",
      "display_name": "Python 3"
    },
    "language_info": {
      "name": "python"
    }
  },
  "cells": [
    {
      "cell_type": "code",
      "execution_count": 1,
      "metadata": {
        "colab": {
          "base_uri": "https://localhost:8080/"
        },
        "id": "lr-DNyJyiNGd",
        "outputId": "c4941987-cc7a-4630-e66a-c461f1ce8e0b"
      },
      "outputs": [
        {
          "output_type": "stream",
          "name": "stdout",
          "text": [
            "I like coding\n",
            "The world is beautiful with coding\n",
            "Python is eating data science\n"
          ]
        }
      ],
      "source": [
        "def test():\n",
        "  print(\"I like coding\")\n",
        "  print(\"The world is beautiful with coding\")\n",
        "  print(\"Python is eating data science\")\n",
        "test()"
      ]
    },
    {
      "cell_type": "code",
      "source": [
        "def test1():\n",
        "  a=40\n",
        "  b=50\n",
        "  print(a+b)\n",
        "test1()\n"
      ],
      "metadata": {
        "colab": {
          "base_uri": "https://localhost:8080/"
        },
        "id": "oyLXUC_hipAc",
        "outputId": "c67c68c8-3eb3-4176-a04e-5bafe154637b"
      },
      "execution_count": 3,
      "outputs": [
        {
          "output_type": "stream",
          "name": "stdout",
          "text": [
            "90\n"
          ]
        }
      ]
    },
    {
      "cell_type": "code",
      "source": [
        "def tri_area_cal():\n",
        "  b=float(input(\"Enter weight:\"))\n",
        "  h=float(input(\"Enter height:\"))\n",
        "  area=0.5*b*h\n",
        "  print(\"The area of triangle is : \",area)\n",
        "  print(f\"The area of triangle is : {area}\")\n",
        "def cir_area_cal():\n",
        "  r=float(input(\" Enter R: \"))\n",
        "  area= 3.14*r*r\n",
        "  print(f\"The area of circle is : {area}\")\n",
        "def rec_area_cal():\n",
        "  b=float(input(\"Enter weight:\"))\n",
        "  h=float(input(\"Enter height:\"))\n",
        "  area=b*h\n",
        "  print(\"The area of triangle is : \",area)\n",
        "tri_area_cal()\n"
      ],
      "metadata": {
        "colab": {
          "base_uri": "https://localhost:8080/"
        },
        "id": "75V2Vz0Mi17t",
        "outputId": "657734c7-14ee-440c-81c1-3b70f21ecdef"
      },
      "execution_count": 4,
      "outputs": [
        {
          "output_type": "stream",
          "name": "stdout",
          "text": [
            "Enter weight:15\n",
            "Enter height:20\n",
            "The area of triangle is :  150.0\n",
            "The area of triangle is : 150.0\n"
          ]
        }
      ]
    },
    {
      "cell_type": "code",
      "source": [
        "def tri_area_cal():\n",
        "  b=float(input(\"Enter weight:\"))\n",
        "  h=float(input(\"Enter height:\"))\n",
        "  area=0.5*b*h\n",
        "  print(\"The area of triangle is : \",area)\n",
        "  print(f\"The area of triangle is : {area}\")\n",
        "def cir_area_cal():\n",
        "  r=float(input(\" Enter R: \"))\n",
        "  area= 3.14*r*r\n",
        "  print(f\"The area of circle is : {area}\")#f string format (3.6 )\n",
        "def rec_area_cal():\n",
        "  b=float(input(\"Enter weight:\"))\n",
        "  h=float(input(\"Enter height:\"))\n",
        "  area=b*h\n",
        "  print(\"The area of triangle is : \",area)\n",
        "def cel_to_far():\n",
        "  b=float(input(\"Enter tem_cel:\"))\n",
        "  far=(b * 9/5) + 32\n",
        "  print(f\"Temperature as fahranheit is : {far}\")#f string\n",
        "#print(\"Temperature as fahranheit is : {}\",.format('far')#string format\n",
        "#def\n",
        "print(\"welcome to area calculation and temperature coversion :\")\n",
        "print(\"1. Rectangle area \")\n",
        "print(\"2. Circle area \")\n",
        "print(\"3. Triangle area \")\n",
        "print(\"4. Celcius to fahrenheit\")\n",
        "print(\"5. Fahrenheit to celciu\")\n",
        "n=int(input(\"select your choice: \"))\n",
        "if n==1:\n",
        "   rec_area_cal()\n",
        "elif n==2:\n",
        "    cir_area_cal()\n",
        "elif n==3:\n",
        "    tri_area_cal()"
      ],
      "metadata": {
        "colab": {
          "base_uri": "https://localhost:8080/"
        },
        "id": "EfFoGHmQjFiX",
        "outputId": "3f0a9e69-9542-44ff-a2b5-4ba287ced560"
      },
      "execution_count": 6,
      "outputs": [
        {
          "output_type": "stream",
          "name": "stdout",
          "text": [
            "welcome to area calculation and temperature coversion :\n",
            "1. Rectangle area \n",
            "2. Circle area \n",
            "3. Triangle area \n",
            "4. Celcius to fahrenheit\n",
            "5. Fahrenheit to celciu\n",
            "select your choice: 2\n",
            " Enter R: 50\n",
            "The area of circle is : 7850.0\n"
          ]
        }
      ]
    },
    {
      "cell_type": "code",
      "source": [
        "#return function have keyword return\n",
        "#paramednter vs argument\n",
        "def sum_3_num(a, b, c):\n",
        "    return a+b+c\n",
        "\n",
        "#print(sum_3_num(45,6,7))\n",
        "def triangle_area(a,b):\n",
        "    area=0.5 *a*b\n",
        "    return area\n",
        "a =triangle_area(6,9)\n",
        "\n",
        "#print(a)\n",
        "def far_to_cel(far):\n",
        "    return (far-32)*(5/9)\n",
        "\n",
        "a=float(input(\"Enter Farenheit temperature: \"))\n",
        "temp_cel=far_to_cel(a)\n",
        "\n",
        "print(f\"{a} degree farenheit = {temp_cel:.2f} degree celius\")\n",
        "print(a,\" degree farenheit = \",round(temp_cel,3), \" degree celius\")"
      ],
      "metadata": {
        "colab": {
          "base_uri": "https://localhost:8080/"
        },
        "id": "7ouIRiFIkUm7",
        "outputId": "81f6a50e-d305-4688-89d6-218eee1df734"
      },
      "execution_count": 12,
      "outputs": [
        {
          "output_type": "stream",
          "name": "stdout",
          "text": [
            "Enter Farenheit temperature: 10\n",
            "10.0 degree farenheit = -12.22 degree celius\n",
            "10.0  degree farenheit =  -12.222  degree celius\n"
          ]
        }
      ]
    },
    {
      "cell_type": "code",
      "source": [
        "def far_to_cel(far):\n",
        "    return (far-32)*(5/9)\n",
        "def cel_to_far(cel):\n",
        "    return (cel*9/5)+32\n",
        "\n",
        "print(\"Welcome to temperature coversion program\")\n",
        "print(\"1. Celious to farenheit\")\n",
        "print(\"2. farenheit to celious\")\n",
        "\n",
        "n=int(input(\"Choise: \"))\n",
        "if(n==1):\n",
        "    a=float(input(\"Enter celious degree: \"))\n",
        "    b=cel_to_far(a)\n",
        "    print(f\"The farenheit degree at {a} celious degree is: {b}\")\n",
        "\n",
        "elif (n==2):\n",
        "    x=float(input(\"Enter farenheit degree:\"))\n",
        "    y=far_to_cel(x)\n",
        "    print(f\"The farenheit degree at {x} celious degree is: {y}\")"
      ],
      "metadata": {
        "colab": {
          "base_uri": "https://localhost:8080/"
        },
        "id": "A5Nzj33bkwkM",
        "outputId": "ee622835-c38f-4f0d-a05c-6f441975bd3e"
      },
      "execution_count": 13,
      "outputs": [
        {
          "output_type": "stream",
          "name": "stdout",
          "text": [
            "Welcome to temperature coversion program\n",
            "1. Celious to farenheit\n",
            "2. farenheit to celious\n",
            "Choise: 2\n",
            "Enter farenheit degree:100\n",
            "The farenheit degree at 100.0 celious degree is: 37.77777777777778\n"
          ]
        }
      ]
    },
    {
      "cell_type": "code",
      "source": [
        "def invest_fv(pv,rate,years):\n",
        "    for i in range(1,years+1):\n",
        "        pv=pv*(1+rate/100)\n",
        "        print(f\"year {i} : ${pv:.2f}\")\n",
        "pv=int(input(\"Enter your money $: \"))\n",
        "rate=float(input(\"Enter a yearly rate: \"))\n",
        "years=int(input(\"Enter number of yearts: \"))\n",
        "\n",
        "invest_fv(pv,rate,years)"
      ],
      "metadata": {
        "colab": {
          "base_uri": "https://localhost:8080/"
        },
        "id": "k-vHinFQlIfk",
        "outputId": "63288423-c4c9-4b7b-81a6-092a46ab56cd"
      },
      "execution_count": 14,
      "outputs": [
        {
          "output_type": "stream",
          "name": "stdout",
          "text": [
            "Enter your money $: 100\n",
            "Enter a yearly rate: 20\n",
            "Enter number of yearts: 5\n",
            "year 1 : $120.00\n",
            "year 2 : $144.00\n",
            "year 3 : $172.80\n",
            "year 4 : $207.36\n",
            "year 5 : $248.83\n"
          ]
        }
      ]
    },
    {
      "cell_type": "code",
      "source": [
        "def factory(n):\n",
        "    if n<0:\n",
        "        return \"Error: only possitive accepted\"\n",
        "    elif n==0:\n",
        "        return 1\n",
        "    else:\n",
        "        return n *factory(n-1)\n",
        "print(factory(4))\n"
      ],
      "metadata": {
        "colab": {
          "base_uri": "https://localhost:8080/"
        },
        "id": "qJmaUlUalUgd",
        "outputId": "96d76030-7def-4acf-f295-f237d7849f9f"
      },
      "execution_count": 15,
      "outputs": [
        {
          "output_type": "stream",
          "name": "stdout",
          "text": [
            "24\n"
          ]
        }
      ]
    },
    {
      "cell_type": "code",
      "source": [
        "def countdown_num(n):\n",
        "    if n==0:\n",
        "        return 0\n",
        "    elif n<0: #-10+1\n",
        "        print(n)\n",
        "        return countdown_num(n+1)\n",
        "    else:\n",
        "        print(n)\n",
        "        return countdown_num(n-1)\n",
        "num=int(input(\"Enter number: \"))\n",
        "print(countdown_num(num))"
      ],
      "metadata": {
        "colab": {
          "base_uri": "https://localhost:8080/"
        },
        "id": "3Y_FVY0elpzB",
        "outputId": "05afbc9f-868c-49ec-cc0d-75994a5a15a2"
      },
      "execution_count": 16,
      "outputs": [
        {
          "output_type": "stream",
          "name": "stdout",
          "text": [
            "Enter number: 100\n",
            "100\n",
            "99\n",
            "98\n",
            "97\n",
            "96\n",
            "95\n",
            "94\n",
            "93\n",
            "92\n",
            "91\n",
            "90\n",
            "89\n",
            "88\n",
            "87\n",
            "86\n",
            "85\n",
            "84\n",
            "83\n",
            "82\n",
            "81\n",
            "80\n",
            "79\n",
            "78\n",
            "77\n",
            "76\n",
            "75\n",
            "74\n",
            "73\n",
            "72\n",
            "71\n",
            "70\n",
            "69\n",
            "68\n",
            "67\n",
            "66\n",
            "65\n",
            "64\n",
            "63\n",
            "62\n",
            "61\n",
            "60\n",
            "59\n",
            "58\n",
            "57\n",
            "56\n",
            "55\n",
            "54\n",
            "53\n",
            "52\n",
            "51\n",
            "50\n",
            "49\n",
            "48\n",
            "47\n",
            "46\n",
            "45\n",
            "44\n",
            "43\n",
            "42\n",
            "41\n",
            "40\n",
            "39\n",
            "38\n",
            "37\n",
            "36\n",
            "35\n",
            "34\n",
            "33\n",
            "32\n",
            "31\n",
            "30\n",
            "29\n",
            "28\n",
            "27\n",
            "26\n",
            "25\n",
            "24\n",
            "23\n",
            "22\n",
            "21\n",
            "20\n",
            "19\n",
            "18\n",
            "17\n",
            "16\n",
            "15\n",
            "14\n",
            "13\n",
            "12\n",
            "11\n",
            "10\n",
            "9\n",
            "8\n",
            "7\n",
            "6\n",
            "5\n",
            "4\n",
            "3\n",
            "2\n",
            "1\n",
            "0\n"
          ]
        }
      ]
    },
    {
      "cell_type": "code",
      "source": [
        "def exp_num(n,m):\n",
        "    if m==0:\n",
        "        return n\n",
        "    else:\n",
        "        return n*exp_num(n,m-1)\n",
        "print(exp_num(5,2))\n"
      ],
      "metadata": {
        "colab": {
          "base_uri": "https://localhost:8080/"
        },
        "id": "SvgU9QoIlxro",
        "outputId": "064011d9-f246-47ef-d436-01d9ddc3a3f6"
      },
      "execution_count": 17,
      "outputs": [
        {
          "output_type": "stream",
          "name": "stdout",
          "text": [
            "125\n"
          ]
        }
      ]
    },
    {
      "cell_type": "code",
      "source": [
        "def area_rec(w,h):\n",
        "    return w*h\n",
        "x = lambda w , h : w*h\n",
        "far_to_cel = lambda far: ((far-32)*(5/9))\n",
        "cel_to_far = lambda cel: ((cel * 9/5) + 32)\n",
        "print(area_rec(20,45))\n",
        "print(x(20,45))\n",
        "print(far_to_cel(59))\n",
        "print(cel_to_far(34))"
      ],
      "metadata": {
        "colab": {
          "base_uri": "https://localhost:8080/"
        },
        "id": "SyqEgp0jl2iR",
        "outputId": "1a693d1b-c2f2-448d-a92e-af6df29b6069"
      },
      "execution_count": 18,
      "outputs": [
        {
          "output_type": "stream",
          "name": "stdout",
          "text": [
            "900\n",
            "900\n",
            "15.0\n",
            "93.2\n"
          ]
        }
      ]
    },
    {
      "cell_type": "code",
      "source": [
        "#def far_to_cel(far):\n",
        "# return (far-32)*(5/9)\n",
        "x=lambda far:(far-32)*(5/9)\n",
        "#def cel_to_far(cel):\n",
        "# return (cel*9/5)+32\n",
        "y=lambda cel:(cel*9/5)+32\n",
        "print(\"Welcome to temperature coversion program\")\n",
        "print(\"1. Celious to farenheit\")\n",
        "print(\"2. farenheit to celious\")\n",
        "n=int(input(\"Choice: \"))\n",
        "if(n==1):\n",
        "    a=float(input(\"Enter celious degree: \"))\n",
        "    b=x(a)\n",
        "    print(f\"The farenheit degree at {a} celious degree is: {b:.3f} \")\n",
        "#elif (n==2):v"
      ],
      "metadata": {
        "colab": {
          "base_uri": "https://localhost:8080/"
        },
        "id": "0LsaTR5Ml6Wh",
        "outputId": "8df3c59b-81d5-4944-8965-95c74bed1eab"
      },
      "execution_count": 24,
      "outputs": [
        {
          "output_type": "stream",
          "name": "stdout",
          "text": [
            "Welcome to temperature coversion program\n",
            "1. Celious to farenheit\n",
            "2. farenheit to celious\n",
            "Choice: 1\n",
            "Enter celious degree: 100\n",
            "The farenheit degree at 100.0 celious degree is: 37.778 \n"
          ]
        }
      ]
    }
  ]
}