{
 "cells": [
  {
   "cell_type": "markdown",
   "id": "c4a17041",
   "metadata": {},
   "source": [
    "## Data Structure\n",
    "# List\n",
    "[ ] contains different data types, order, changable, allow duplicated value"
   ]
  },
  {
   "cell_type": "code",
   "execution_count": 1,
   "id": "8626e095",
   "metadata": {},
   "outputs": [
    {
     "name": "stdout",
     "output_type": "stream",
     "text": [
      "['Cambodia', 'Thailand', 'Vietnam', 'Laos', 'Malaysia', 'Japan']\n"
     ]
    }
   ],
   "source": [
    "country = ['Cambodia', 'Thailand', 'Vietnam', 'Laos', 'Malaysia', 'Japan']\n",
    "print(country)"
   ]
  },
  {
   "cell_type": "code",
   "execution_count": 4,
   "id": "deaa2b1e",
   "metadata": {},
   "outputs": [
    {
     "name": "stdout",
     "output_type": "stream",
     "text": [
      "['Thailand', 'Vietnam', 'Laos']\n"
     ]
    }
   ],
   "source": [
    "print(country[1 : 4])"
   ]
  },
  {
   "cell_type": "code",
   "execution_count": 3,
   "id": "4dbd440c",
   "metadata": {},
   "outputs": [
    {
     "name": "stdout",
     "output_type": "stream",
     "text": [
      "6\n"
     ]
    }
   ],
   "source": [
    "print(len(country))"
   ]
  },
  {
   "cell_type": "code",
   "execution_count": 5,
   "id": "c5dc6841",
   "metadata": {},
   "outputs": [
    {
     "name": "stdout",
     "output_type": "stream",
     "text": [
      "Japan\n"
     ]
    }
   ],
   "source": [
    "print(country[-1])"
   ]
  },
  {
   "cell_type": "code",
   "execution_count": 6,
   "id": "2a0b7a62",
   "metadata": {},
   "outputs": [
    {
     "name": "stdout",
     "output_type": "stream",
     "text": [
      "Thailand\n"
     ]
    }
   ],
   "source": [
    "print(country[-5])"
   ]
  },
  {
   "cell_type": "code",
   "execution_count": 7,
   "id": "b6c8a41c",
   "metadata": {},
   "outputs": [
    {
     "name": "stdout",
     "output_type": "stream",
     "text": [
      "['Laos', 'Malaysia', 'Japan']\n"
     ]
    }
   ],
   "source": [
    "print(country[3:])"
   ]
  },
  {
   "cell_type": "code",
   "execution_count": 8,
   "id": "f1233d92",
   "metadata": {},
   "outputs": [],
   "source": [
    "country[1:3] = ['French', 'England']"
   ]
  },
  {
   "cell_type": "code",
   "execution_count": 9,
   "id": "2449138d",
   "metadata": {},
   "outputs": [
    {
     "name": "stdout",
     "output_type": "stream",
     "text": [
      "['Cambodia', 'French', 'England', 'Laos', 'Malaysia', 'Japan']\n"
     ]
    }
   ],
   "source": [
    "print(country)"
   ]
  },
  {
   "cell_type": "code",
   "execution_count": 10,
   "id": "aeff1c40",
   "metadata": {},
   "outputs": [],
   "source": [
    "country[4] = 'Cambodia'"
   ]
  },
  {
   "cell_type": "code",
   "execution_count": 11,
   "id": "58e2e721",
   "metadata": {},
   "outputs": [
    {
     "name": "stdout",
     "output_type": "stream",
     "text": [
      "['Cambodia', 'French', 'England', 'Laos', 'Cambodia', 'Japan']\n"
     ]
    }
   ],
   "source": [
    "print(country)"
   ]
  },
  {
   "cell_type": "code",
   "execution_count": 12,
   "id": "c517b697",
   "metadata": {},
   "outputs": [
    {
     "name": "stdout",
     "output_type": "stream",
     "text": [
      "['Cambodia', 'French', 'England', 'Laos', 'Cambodia', 'Japan', 'Russia']\n"
     ]
    }
   ],
   "source": [
    "country.append('Russia')\n",
    "print(country)"
   ]
  },
  {
   "cell_type": "code",
   "execution_count": 13,
   "id": "656342f8",
   "metadata": {},
   "outputs": [
    {
     "name": "stdout",
     "output_type": "stream",
     "text": [
      "['Cambodia', 'French', 'Swiss', 'England', 'Laos', 'Cambodia', 'Japan', 'Russia']\n"
     ]
    }
   ],
   "source": [
    "country.insert(2, \"Swiss\")\n",
    "print(country)"
   ]
  },
  {
   "cell_type": "code",
   "execution_count": 16,
   "id": "c42984e3",
   "metadata": {},
   "outputs": [
    {
     "name": "stdout",
     "output_type": "stream",
     "text": [
      "['Cambodia', 'French', 'Swiss', 'England', 'Laos', 'Cambodia', 'Japan', 'Russia', 'Mango', 'Cherry', 'Potato', 'Mango', 'Cherry', 'Potato', 'Mango', 'Cherry', 'Potato']\n"
     ]
    }
   ],
   "source": [
    "fruit = ['Mango', 'Cherry', 'Potato']\n",
    "country.extend(fruit)\n",
    "print(country)"
   ]
  },
  {
   "cell_type": "code",
   "execution_count": 17,
   "id": "1a34e0ee",
   "metadata": {},
   "outputs": [
    {
     "name": "stdout",
     "output_type": "stream",
     "text": [
      "['Cambodia', 'French', 'Swiss', 'England', 'Laos', 'Cambodia', 'Japan', 'Russia', 'Mango', 'Cherry', 'Potato', 'Mango', 'Cherry', 'Potato', 'Mango', 'Cherry', 'Potato']\n"
     ]
    }
   ],
   "source": [
    "country[5] = 'Cambodia'\n",
    "print(country)"
   ]
  },
  {
   "cell_type": "code",
   "execution_count": 18,
   "id": "6180eec4",
   "metadata": {},
   "outputs": [
    {
     "name": "stdout",
     "output_type": "stream",
     "text": [
      "['Cambodia', 'French', 'Swiss', 'England', 'Laos', 'Cambodia', 'Japan', 'Russia', 'Cherry', 'Potato', 'Mango', 'Cherry', 'Potato', 'Mango', 'Cherry', 'Potato']\n"
     ]
    }
   ],
   "source": [
    "country.remove(\"Mango\")\n",
    "print(country)"
   ]
  },
  {
   "cell_type": "code",
   "execution_count": 19,
   "id": "b65758fd",
   "metadata": {},
   "outputs": [
    {
     "name": "stdout",
     "output_type": "stream",
     "text": [
      "['Cambodia', 'French', 'Swiss', 'England', 'Laos', 'Japan', 'Russia', 'Cherry', 'Potato', 'Mango', 'Cherry', 'Potato', 'Mango', 'Cherry', 'Potato']\n"
     ]
    }
   ],
   "source": [
    "country.pop(5)\n",
    "print(country)"
   ]
  },
  {
   "cell_type": "code",
   "execution_count": 20,
   "id": "956417b1",
   "metadata": {},
   "outputs": [
    {
     "name": "stdout",
     "output_type": "stream",
     "text": [
      "['Cambodia', 'French', 'Swiss', 'England', 'Laos', 'Japan', 'Russia', 'Cherry', 'Mango', 'Cherry', 'Potato', 'Mango', 'Cherry', 'Potato']\n"
     ]
    }
   ],
   "source": [
    "del country[8]\n",
    "print(country)"
   ]
  },
  {
   "cell_type": "code",
   "execution_count": 21,
   "id": "527a11b1",
   "metadata": {},
   "outputs": [
    {
     "name": "stdout",
     "output_type": "stream",
     "text": [
      "['Cambodia', 'England', 'Laos', 'Japan', 'Russia', 'Mango', 'Potato', 'Mango', 'Potato']\n"
     ]
    }
   ],
   "source": [
    "#identation\n",
    "newList = []\n",
    "for x in country:\n",
    "    if \"a\" in x:\n",
    "        newList.append(x)\n",
    "print(newList)"
   ]
  },
  {
   "cell_type": "code",
   "execution_count": 22,
   "id": "b587f3b2",
   "metadata": {},
   "outputs": [
    {
     "name": "stdout",
     "output_type": "stream",
     "text": [
      "['Cambodia', 'Cherry', 'Cherry', 'Cherry', 'England', 'French', 'Japan', 'Laos', 'Mango', 'Mango', 'Potato', 'Potato', 'Russia', 'Swiss']\n"
     ]
    }
   ],
   "source": [
    "country.sort()\n",
    "print(country)"
   ]
  },
  {
   "cell_type": "code",
   "execution_count": 23,
   "id": "a210b0e1",
   "metadata": {},
   "outputs": [
    {
     "name": "stdout",
     "output_type": "stream",
     "text": [
      "[45, 78, 1, 45, 67, 9, 3]\n",
      "[1, 3, 9, 45, 45, 67, 78]\n"
     ]
    }
   ],
   "source": [
    "num = [45, 78, 1, 45, 67, 9, 3]\n",
    "print(num)\n",
    "\n",
    "num.sort()\n",
    "print(num)"
   ]
  },
  {
   "cell_type": "code",
   "execution_count": 24,
   "id": "78ef8a9f",
   "metadata": {},
   "outputs": [
    {
     "name": "stdout",
     "output_type": "stream",
     "text": [
      "red Apple\n",
      "red Banana\n",
      "red Dorian\n",
      "big Apple\n",
      "big Banana\n",
      "big Dorian\n",
      "tasty Apple\n",
      "tasty Banana\n",
      "tasty Dorian\n",
      " 2 x 2 = 2\n",
      " 2 x 2 = 4\n",
      " 2 x 2 = 6\n",
      " 2 x 2 = 8\n",
      " 2 x 2 = 10\n",
      " 2 x 2 = 12\n",
      " 2 x 2 = 14\n",
      " 2 x 2 = 16\n",
      " 2 x 2 = 18\n",
      " 2 x 2 = 20\n",
      "______________________________\n",
      " 3 x 3 = 3\n",
      " 3 x 3 = 6\n",
      " 3 x 3 = 9\n",
      " 3 x 3 = 12\n",
      " 3 x 3 = 15\n",
      " 3 x 3 = 18\n",
      " 3 x 3 = 21\n",
      " 3 x 3 = 24\n",
      " 3 x 3 = 27\n",
      " 3 x 3 = 30\n",
      "______________________________\n"
     ]
    }
   ],
   "source": [
    "adj = ['red', 'big', 'tasty']\n",
    "fruit = ['Apple', 'Banana', 'Dorian']\n",
    "\n",
    "for i in adj:\n",
    "    for j in fruit:\n",
    "        print(i, j)\n",
    "\n",
    "def nested_loop():\n",
    "    for i in range(2, 4):\n",
    "        for j in range(1, 11):\n",
    "            print(\" {} x {} = {}\".format(i, i, i*j))\n",
    "        print(\"_\"*30)\n",
    "nested_loop()"
   ]
  },
  {
   "cell_type": "code",
   "execution_count": 25,
   "id": "34a1ae32",
   "metadata": {},
   "outputs": [
    {
     "name": "stdout",
     "output_type": "stream",
     "text": [
      "[1, 2, 3, 4, 5]\n",
      "[1, 2, 3, 4, 5]\n",
      "[3, 1, 4, 2, 5]\n"
     ]
    }
   ],
   "source": [
    "li = [3, 1, 4, 2, 5]\n",
    "li.sort()\n",
    "print(li)\n",
    "\n",
    "li = [3, 1, 4, 2, 5]\n",
    "print(sorted(li))\n",
    "print(li)"
   ]
  },
  {
   "cell_type": "markdown",
   "id": "3d16b353",
   "metadata": {},
   "source": [
    "## Set\n",
    "{...} contained different data type, unorder, unchangable, unindexing "
   ]
  },
  {
   "cell_type": "code",
   "execution_count": 26,
   "id": "1ef4f292",
   "metadata": {},
   "outputs": [
    {
     "data": {
      "text/plain": [
       "{'7 Habbit', 9, 'Follow Your Heart', 'Mein Kampf', 'Think and Grow Rich'}"
      ]
     },
     "execution_count": 26,
     "metadata": {},
     "output_type": "execute_result"
    }
   ],
   "source": [
    "book = {\"Mein Kampf\", \"Think and Grow Rich\", \"Follow Your Heart\", \"7 Habbit\", 9}\n",
    "book"
   ]
  },
  {
   "cell_type": "code",
   "execution_count": 27,
   "id": "f72fd984",
   "metadata": {},
   "outputs": [
    {
     "name": "stdout",
     "output_type": "stream",
     "text": [
      "7 Habbit\n",
      "Think and Grow Rich\n",
      "Follow Your Heart\n",
      "Mein Kampf\n",
      "9\n"
     ]
    }
   ],
   "source": [
    "for i in book: \n",
    "    print(i)"
   ]
  },
  {
   "cell_type": "code",
   "execution_count": 28,
   "id": "840c7f33",
   "metadata": {},
   "outputs": [
    {
     "data": {
      "text/plain": [
       "{'7 Habbit',\n",
       " 9,\n",
       " 'Cambodia',\n",
       " 'Follow Your Heart',\n",
       " 'Mein Kampf',\n",
       " 'Think and Grow Rich'}"
      ]
     },
     "execution_count": 28,
     "metadata": {},
     "output_type": "execute_result"
    }
   ],
   "source": [
    "book.add(\"Cambodia\")\n",
    "book"
   ]
  },
  {
   "cell_type": "markdown",
   "id": "2cd0e6f0",
   "metadata": {},
   "source": [
    "## Tuple\n",
    "(...) contained different data type, order, unchangable, allow duplicated items"
   ]
  },
  {
   "cell_type": "code",
   "execution_count": 30,
   "id": "ff5740d6",
   "metadata": {},
   "outputs": [
    {
     "name": "stdout",
     "output_type": "stream",
     "text": [
      "Cambodia\n",
      "Brunei\n",
      "Brunei\n"
     ]
    }
   ],
   "source": [
    "cou = (\"Cambodia\", \"Thailand\", \"Brunei\", 34, 67.901, \"Brunei\")\n",
    "print(cou[0])\n",
    "print(cou[2])\n",
    "print(cou[5])"
   ]
  },
  {
   "cell_type": "code",
   "execution_count": 31,
   "id": "52d5ee90",
   "metadata": {},
   "outputs": [
    {
     "name": "stdout",
     "output_type": "stream",
     "text": [
      "('Cambodia', 'Thailand', 'Brunei', 34, 67.901, 'Brunei')\n"
     ]
    }
   ],
   "source": [
    "#update tuple\n",
    "count1 = list(cou)\n",
    "print(cou)"
   ]
  },
  {
   "cell_type": "code",
   "execution_count": 32,
   "id": "b163bd46",
   "metadata": {},
   "outputs": [
    {
     "name": "stdout",
     "output_type": "stream",
     "text": [
      "('Brunei', 'Cambodia', 'Japan', 'Lao')\n"
     ]
    }
   ],
   "source": [
    "x = ('Brunei', 'Cambodia', 'Japan', 'Lao')\n",
    "print(x)"
   ]
  },
  {
   "cell_type": "code",
   "execution_count": 34,
   "id": "645a8864",
   "metadata": {},
   "outputs": [
    {
     "name": "stdout",
     "output_type": "stream",
     "text": [
      "Brunei\n"
     ]
    }
   ],
   "source": [
    "#unpack\n",
    "(Lotus,Romdul,Sakura,Champa) = x\n",
    "print(Lotus)"
   ]
  },
  {
   "cell_type": "code",
   "execution_count": 35,
   "id": "e39f8e69",
   "metadata": {},
   "outputs": [
    {
     "name": "stdout",
     "output_type": "stream",
     "text": [
      "('y', 's', 't', 1, 5, 8)\n"
     ]
    }
   ],
   "source": [
    "a = (\"y\",\"s\",\"t\")\n",
    "b = (1,5,8)\n",
    "c = a + b\n",
    "print(c)"
   ]
  },
  {
   "cell_type": "code",
   "execution_count": 36,
   "id": "b9e6912c",
   "metadata": {},
   "outputs": [
    {
     "name": "stdout",
     "output_type": "stream",
     "text": [
      "('Brunei', 'Cambodia', 'Japan', 'Lao', 'Brunei', 'Cambodia', 'Japan', 'Lao')\n"
     ]
    }
   ],
   "source": [
    "x = ('Brunei', 'Cambodia', 'Japan', 'Lao')\n",
    "y = x * 2\n",
    "print(y)"
   ]
  },
  {
   "cell_type": "code",
   "execution_count": 37,
   "id": "206d917c",
   "metadata": {},
   "outputs": [
    {
     "name": "stdout",
     "output_type": "stream",
     "text": [
      "(3, 6, 8, 3, 6, 8)\n"
     ]
    }
   ],
   "source": [
    "d = (3,6,8)\n",
    "f = d * 2\n",
    "print(f)"
   ]
  },
  {
   "cell_type": "markdown",
   "id": "1669c7c8",
   "metadata": {},
   "source": [
    "## Dictionary {key : value}\n",
    "{key : value}, order, changable, and do not allow duplicate"
   ]
  },
  {
   "cell_type": "code",
   "execution_count": 38,
   "id": "2e0f87a1",
   "metadata": {},
   "outputs": [
    {
     "name": "stdout",
     "output_type": "stream",
     "text": [
      " \n"
     ]
    }
   ],
   "source": [
    "dict={\n",
    "    \"Hi\":\" \",\n",
    "    \"Cambodia\":\" \", \n",
    "    \"Love\":\" \", \n",
    "    \"Age\":28}\n",
    "\n",
    "print(dict[\"Hi\"])"
   ]
  },
  {
   "cell_type": "code",
   "execution_count": 39,
   "id": "abea5c9f",
   "metadata": {},
   "outputs": [
    {
     "name": "stdout",
     "output_type": "stream",
     "text": [
      "Hi\n",
      "Cambodia\n",
      "Love\n",
      "Age\n"
     ]
    }
   ],
   "source": [
    "for x in dict: \n",
    "    print(x)"
   ]
  },
  {
   "cell_type": "code",
   "execution_count": 40,
   "id": "db696db5",
   "metadata": {},
   "outputs": [
    {
     "name": "stdout",
     "output_type": "stream",
     "text": [
      "28\n"
     ]
    }
   ],
   "source": [
    "print(dict[\"Age\"])"
   ]
  },
  {
   "cell_type": "code",
   "execution_count": 41,
   "id": "ebd67e8b",
   "metadata": {},
   "outputs": [
    {
     "name": "stdout",
     "output_type": "stream",
     "text": [
      "dict_keys(['Hi', 'Cambodia', 'Love', 'Age'])\n"
     ]
    }
   ],
   "source": [
    "l = dict.keys()\n",
    "print(l)"
   ]
  },
  {
   "cell_type": "code",
   "execution_count": 42,
   "id": "3181ac56",
   "metadata": {},
   "outputs": [
    {
     "data": {
      "text/plain": [
       "{'Hi': ' ', 'Cambodia': ' ', 'Love': ' ', 'Age': 38}"
      ]
     },
     "execution_count": 42,
     "metadata": {},
     "output_type": "execute_result"
    }
   ],
   "source": [
    "dict[\"Age\"] = 38\n",
    "dict"
   ]
  },
  {
   "cell_type": "code",
   "execution_count": 43,
   "id": "34a6b352",
   "metadata": {},
   "outputs": [
    {
     "data": {
      "text/plain": [
       "{'Hi': ' ', 'Cambodia': ' ', 'Love': ' ', 'Age': 38, 'age': 48}"
      ]
     },
     "execution_count": 43,
     "metadata": {},
     "output_type": "execute_result"
    }
   ],
   "source": [
    "dict.update({\"age\" : 48})\n",
    "dict"
   ]
  },
  {
   "cell_type": "code",
   "execution_count": 44,
   "id": "0122df60",
   "metadata": {},
   "outputs": [
    {
     "data": {
      "text/plain": [
       "{'Hi': ' ',\n",
       " 'Cambodia': ' ',\n",
       " 'Love': ' ',\n",
       " 'Age': 38,\n",
       " 'age': 48,\n",
       " 'Job': 'Data Scientist'}"
      ]
     },
     "execution_count": 44,
     "metadata": {},
     "output_type": "execute_result"
    }
   ],
   "source": [
    "dict[\"Job\"] = \"Data Scientist\"\n",
    "dict"
   ]
  },
  {
   "cell_type": "code",
   "execution_count": 45,
   "id": "6751600a",
   "metadata": {},
   "outputs": [
    {
     "data": {
      "text/plain": [
       "{'Hi': ' ', 'Cambodia': ' ', 'Love': ' ', 'Age': 38, 'Job': 'Data Scientist'}"
      ]
     },
     "execution_count": 45,
     "metadata": {},
     "output_type": "execute_result"
    }
   ],
   "source": [
    "dict.pop(\"age\")\n",
    "dict"
   ]
  },
  {
   "cell_type": "code",
   "execution_count": 46,
   "id": "f3ebe02a",
   "metadata": {},
   "outputs": [
    {
     "name": "stdout",
     "output_type": "stream",
     "text": [
      "You have earned green color, you will get 100\n"
     ]
    }
   ],
   "source": [
    "score = { \n",
    "    'color' : 'green',\n",
    "    'point' : 100 }\n",
    "\n",
    "print('You have earned ' + \n",
    "      str(score['color']) + \n",
    "      \" color, you will get \" + \n",
    "      str(score['point']))"
   ]
  },
  {
   "cell_type": "code",
   "execution_count": 47,
   "id": "9a045583",
   "metadata": {},
   "outputs": [
    {
     "name": "stdout",
     "output_type": "stream",
     "text": [
      "{'name': 'Dara', 'sex': 'M', 'year': 1990}\n"
     ]
    }
   ],
   "source": [
    "family={\n",
    "    \"kid1\" : {\n",
    "        'name':'Dara' ,\n",
    "        'sex': 'M',\n",
    "        'year':1990\n",
    "    },\n",
    "    \"Kid2\":{\n",
    "        'name': 'Dary',\n",
    "        \"Sex\" : 'M',\n",
    "        'year':1995\n",
    "    }\n",
    "}\n",
    "print(family[\"kid1\"])"
   ]
  },
  {
   "cell_type": "code",
   "execution_count": null,
   "id": "d26dfc5e",
   "metadata": {},
   "outputs": [],
   "source": []
  }
 ],
 "metadata": {
  "kernelspec": {
   "display_name": "Python 3 (ipykernel)",
   "language": "python",
   "name": "python3"
  },
  "language_info": {
   "codemirror_mode": {
    "name": "ipython",
    "version": 3
   },
   "file_extension": ".py",
   "mimetype": "text/x-python",
   "name": "python",
   "nbconvert_exporter": "python",
   "pygments_lexer": "ipython3",
   "version": "3.9.7"
  }
 },
 "nbformat": 4,
 "nbformat_minor": 5
}
