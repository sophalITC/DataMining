{
  "nbformat": 4,
  "nbformat_minor": 0,
  "metadata": {
    "colab": {
      "name": "Logistic_Regression.ipynb",
      "provenance": [],
      "collapsed_sections": []
    },
    "kernelspec": {
      "name": "python3",
      "display_name": "Python 3"
    },
    "language_info": {
      "name": "python"
    }
  },
  "cells": [
    {
      "cell_type": "code",
      "execution_count": 134,
      "metadata": {
        "id": "q7TJMeX3Cdaq"
      },
      "outputs": [],
      "source": [
        "import torch\n",
        "import torch.nn as nn\n",
        "import numpy as np\n",
        "from sklearn import datasets\n",
        "from sklearn.preprocessing import StandardScaler\n",
        "from sklearn.model_selection import train_test_split\n",
        "from sklearn.metrics import classification_report\n",
        "import matplotlib.pyplot as plt\n",
        "import seaborn as sns\n",
        "import pandas as pd\n",
        "from sklearn.decomposition import PCA"
      ]
    },
    {
      "cell_type": "code",
      "source": [
        "#Preparing for data\n",
        "bc = datasets.load_breast_cancer()\n",
        "X, y = bc.data, bc.target\n",
        "\n",
        "n_samples, n_features = X.shape\n",
        "n_benign = sum(1 for i in y if i == 0)\n",
        "n_malignant = sum(1 for i in y if i == 1)"
      ],
      "metadata": {
        "id": "GyIq_GFPCzno"
      },
      "execution_count": 135,
      "outputs": []
    },
    {
      "cell_type": "code",
      "source": [
        "# x-coordinates of left sides of bars \n",
        "left = [0, 1]\n",
        "  \n",
        "# heights of bars\n",
        "height = [n_benign, n_malignant]\n",
        "  \n",
        "# labels for bars\n",
        "tick_label = ['Benign', 'Malignant']\n",
        "  \n",
        "# plotting a bar chart\n",
        "plt.bar(left, height, tick_label = tick_label,\n",
        "        width = 0.8, color = ['blue', 'red'])\n",
        "  \n",
        "# plot title\n",
        "plt.title('2 Classes of Breast Cancer Tumors')\n",
        "  \n",
        "# function to show the plot\n",
        "plt.show()"
      ],
      "metadata": {
        "colab": {
          "base_uri": "https://localhost:8080/",
          "height": 281
        },
        "id": "v-1dSUJHC7OU",
        "outputId": "442a4f72-c75d-4a17-dc61-4b74908dab2c"
      },
      "execution_count": 136,
      "outputs": [
        {
          "output_type": "display_data",
          "data": {
            "text/plain": [
              "<Figure size 432x288 with 1 Axes>"
            ],
            "image/png": "[encoded data removed]"
          },
          "metadata": {
            "needs_background": "light"
          }
        }
      ]
    },
    {
      "cell_type": "code",
      "source": [
        "X_train, X_test, y_train, y_test = train_test_split(X, y, test_size = 0.2, random_state = 1234)\n",
        "\n",
        "#Scalar\n",
        "sc = StandardScaler()\n",
        "X_train = sc.fit_transform(X_train)\n",
        "X_test = sc.fit_transform(X_test)\n",
        "\n",
        "X_train = torch.from_numpy(X_train.astype(np.float32))\n",
        "X_test = torch.from_numpy(X_test.astype(np.float32))\n",
        "y_train = torch.from_numpy(y_train.astype(np.float32))\n",
        "y_test = torch.from_numpy(y_test.astype(np.float32))\n",
        "\n",
        "y_train = y_train.view(y_train.shape[0], 1)\n",
        "y_test = y_test.view(y_test.shape[0], 1)"
      ],
      "metadata": {
        "id": "6kYjoCN5C6nH"
      },
      "execution_count": 137,
      "outputs": []
    },
    {
      "cell_type": "code",
      "source": [
        "class Logistic_Regression(nn.Module):\n",
        "    def __init__(self, n_input_feature):\n",
        "        super(Logistic_Regression, self).__init__()\n",
        "        self.Linear = nn.Linear(n_input_feature, 1)\n",
        "    def forward(self, x):\n",
        "        y_predicted = torch.sigmoid(self.Linear(x))\n",
        "        return y_predicted\n",
        "\n",
        "model1 = Logistic_Regression(n_features)"
      ],
      "metadata": {
        "id": "7iJ0BULYCtjl"
      },
      "execution_count": 138,
      "outputs": []
    },
    {
      "cell_type": "code",
      "source": [
        "#Initize the optimizer\n",
        "learning_rate = 0.5\n",
        "criterion = nn.BCELoss()\n",
        "optimizer = torch.optim.SGD(model1.parameters(), lr = learning_rate)\n",
        "\n",
        "num_epoch = 10000\n",
        "for epoch in range(num_epoch):\n",
        "    y_predicted = model1(X_train)\n",
        "    loss = criterion(y_predicted, y_train)\n",
        "\n",
        "    #Backward Pass\n",
        "    loss.backward()\n",
        "\n",
        "    #Update\n",
        "    optimizer.step()\n",
        "\n",
        "    #Empty the gradient\n",
        "    optimizer.zero_grad()\n",
        "\n",
        "    if (epoch + 1) % 1000 == 0:\n",
        "        print(f\"epoch: {epoch + 1}, loss = {loss.item():.4f}\")"
      ],
      "metadata": {
        "colab": {
          "base_uri": "https://localhost:8080/"
        },
        "id": "ppUlBNwDCuLa",
        "outputId": "9e078928-31ab-41ae-d48f-a6b4c8bf6a19"
      },
      "execution_count": 139,
      "outputs": [
        {
          "output_type": "stream",
          "name": "stdout",
          "text": [
            "epoch: 1000, loss = 0.0262\n",
            "epoch: 2000, loss = 0.0221\n",
            "epoch: 3000, loss = 0.0199\n",
            "epoch: 4000, loss = 0.0182\n",
            "epoch: 5000, loss = 0.0169\n",
            "epoch: 6000, loss = 0.0158\n",
            "epoch: 7000, loss = 0.0149\n",
            "epoch: 8000, loss = 0.0140\n",
            "epoch: 9000, loss = 0.0133\n",
            "epoch: 10000, loss = 0.0126\n"
          ]
        }
      ]
    },
    {
      "cell_type": "code",
      "source": [
        "with torch.no_grad():\n",
        "    y_predicted = model1(X_test)\n",
        "    y_predicted_cls = y_predicted.round()\n",
        "    acc = y_predicted_cls.eq(y_test).sum() / float(y_test.shape[0])\n",
        "    print(f\"Accuracy = {acc:.4f}\") \n",
        "    report = classification_report(y_test, y_predicted_cls, labels=[0, 1], target_names=[\"Benign\", \"Malignant\"], output_dict=True)"
      ],
      "metadata": {
        "colab": {
          "base_uri": "https://localhost:8080/"
        },
        "id": "wMiIYhbsCpvX",
        "outputId": "ba1e749e-aaa6-4a14-a35f-82de3be52408"
      },
      "execution_count": 140,
      "outputs": [
        {
          "output_type": "stream",
          "name": "stdout",
          "text": [
            "Accuracy = 0.9737\n"
          ]
        }
      ]
    },
    {
      "cell_type": "code",
      "source": [
        "sns.heatmap(pd.DataFrame(report).iloc[:-1, :].T, annot=True)"
      ],
      "metadata": {
        "colab": {
          "base_uri": "https://localhost:8080/",
          "height": 286
        },
        "id": "9OPbWsvvKovk",
        "outputId": "a9da0a86-828e-4dec-9ebc-cf907eb3c46f"
      },
      "execution_count": 141,
      "outputs": [
        {
          "output_type": "execute_result",
          "data": {
            "text/plain": [
              "<matplotlib.axes._subplots.AxesSubplot at 0x7fc3626994d0>"
            ]
          },
          "metadata": {},
          "execution_count": 141
        },
        {
          "output_type": "display_data",
          "data": {
            "text/plain": [
              "<Figure size 432x288 with 2 Axes>"
            ],
            "image/png": "[encoded data removed]"
          },
          "metadata": {
            "needs_background": "light"
          }
        }
      ]
    },
    {
      "cell_type": "code",
      "source": [
        "#Feature Selection using PCA and select only 20\n",
        "pca = PCA(n_components = 2)\n",
        "pca.fit(X)\n",
        "X_transform = X\n",
        "X_transform = pca.transform(X_transform)"
      ],
      "metadata": {
        "id": "cAoUkeiBMPFX"
      },
      "execution_count": 153,
      "outputs": []
    },
    {
      "cell_type": "code",
      "source": [
        "X_train, X_test, y_train, y_test = train_test_split(X_transform, y, test_size = 0.2, random_state = 1234)\n",
        "\n",
        "#Scalar\n",
        "sc = StandardScaler()\n",
        "X_train = sc.fit_transform(X_train)\n",
        "X_test = sc.fit_transform(X_test)\n",
        "\n",
        "X_train = torch.from_numpy(X_train.astype(np.float32))\n",
        "X_test = torch.from_numpy(X_test.astype(np.float32))\n",
        "y_train = torch.from_numpy(y_train.astype(np.float32))\n",
        "y_test = torch.from_numpy(y_test.astype(np.float32))\n",
        "\n",
        "y_train = y_train.view(y_train.shape[0], 1)\n",
        "y_test = y_test.view(y_test.shape[0], 1)"
      ],
      "metadata": {
        "id": "7efFBFSQMn5r"
      },
      "execution_count": 154,
      "outputs": []
    },
    {
      "cell_type": "code",
      "source": [
        "model2 = Logistic_Regression(2)"
      ],
      "metadata": {
        "id": "1vptVgwwMxw4"
      },
      "execution_count": 156,
      "outputs": []
    },
    {
      "cell_type": "code",
      "source": [
        "print(y_train[0])"
      ],
      "metadata": {
        "colab": {
          "base_uri": "https://localhost:8080/"
        },
        "id": "b48mTJXwN68y",
        "outputId": "6f248e9f-2180-4420-a758-414c092bd70f"
      },
      "execution_count": 157,
      "outputs": [
        {
          "output_type": "stream",
          "name": "stdout",
          "text": [
            "tensor([1.])\n"
          ]
        }
      ]
    },
    {
      "cell_type": "code",
      "source": [
        "#Initize the optimizer\n",
        "learning_rate = 0.5\n",
        "criterion = nn.BCELoss()\n",
        "optimizer = torch.optim.SGD(model2.parameters(), lr = learning_rate)\n",
        "\n",
        "num_epoch = 10000\n",
        "for epoch in range(num_epoch):\n",
        "    y_predicted = model2(X_train)\n",
        "    loss = criterion(y_predicted, y_train)\n",
        "\n",
        "    #Backward Pass\n",
        "    loss.backward()\n",
        "\n",
        "    #Update\n",
        "    optimizer.step()\n",
        "\n",
        "    #Empty the gradient\n",
        "    optimizer.zero_grad()\n",
        "\n",
        "    if (epoch + 1) % 1000 == 0:\n",
        "        print(f\"epoch: {epoch + 1}, loss = {loss.item():.4f}\")\n",
        "\n",
        "with torch.no_grad():\n",
        "    y_predicted = model2(X_test)\n",
        "    y_predicted_cls = y_predicted.round()\n",
        "    acc = y_predicted_cls.eq(y_test).sum() / float(y_test.shape[0])\n",
        "    print(f\"Accuracy = {acc:.4f}\") \n",
        "    report = classification_report(y_test, y_predicted_cls, labels=[0, 1], target_names=[\"Benign\", \"Malignant\"], output_dict=True)"
      ],
      "metadata": {
        "colab": {
          "base_uri": "https://localhost:8080/"
        },
        "id": "8MWInB-ZNATy",
        "outputId": "d1f8b0d7-cacf-4ef3-befa-d53cd16a661a"
      },
      "execution_count": 158,
      "outputs": [
        {
          "output_type": "stream",
          "name": "stdout",
          "text": [
            "epoch: 1000, loss = 0.1690\n",
            "epoch: 2000, loss = 0.1670\n",
            "epoch: 3000, loss = 0.1668\n",
            "epoch: 4000, loss = 0.1668\n",
            "epoch: 5000, loss = 0.1667\n",
            "epoch: 6000, loss = 0.1667\n",
            "epoch: 7000, loss = 0.1667\n",
            "epoch: 8000, loss = 0.1667\n",
            "epoch: 9000, loss = 0.1667\n",
            "epoch: 10000, loss = 0.1667\n",
            "Accuracy = 0.9298\n"
          ]
        }
      ]
    },
    {
      "cell_type": "code",
      "source": [
        "sns.heatmap(pd.DataFrame(report).iloc[:-1, :].T, annot=True)"
      ],
      "metadata": {
        "colab": {
          "base_uri": "https://localhost:8080/",
          "height": 282
        },
        "id": "-1Peb3ngNF8F",
        "outputId": "8dc86e18-15c9-4b6c-9091-de32acab33f2"
      },
      "execution_count": 159,
      "outputs": [
        {
          "output_type": "execute_result",
          "data": {
            "text/plain": [
              "<matplotlib.axes._subplots.AxesSubplot at 0x7fc362b76b50>"
            ]
          },
          "metadata": {},
          "execution_count": 159
        },
        {
          "output_type": "display_data",
          "data": {
            "text/plain": [
              "<Figure size 432x288 with 2 Axes>"
            ],
            "image/png": "[encoded data removed]"
          },
          "metadata": {
            "needs_background": "light"
          }
        }
      ]
    }
  ]
}