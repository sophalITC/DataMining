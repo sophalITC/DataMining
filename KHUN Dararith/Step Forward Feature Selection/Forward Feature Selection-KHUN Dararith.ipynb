{
 "cells": [
  {
   "cell_type": "markdown",
   "id": "8fabf72a",
   "metadata": {},
   "source": [
    "### Name: KHUN Dararith\n",
    "### ID: M060813\n",
    "\n",
    "***\n",
    "# <center>Feature Selection Technique</center>\n",
    "***"
   ]
  },
  {
   "cell_type": "markdown",
   "id": "71a55bd2",
   "metadata": {},
   "source": [
    "### What is Feature Selection?\n",
    "Feature selection is the process of reducing the number of input variables when developing a predictive model. It is a process of selecting the most significant and relevant features from a vast set of features in the given dataset."
   ]
  },
  {
   "cell_type": "markdown",
   "id": "88569d01",
   "metadata": {},
   "source": [
    "### Why do we need Feature Selection?\n",
    "Since some features may be irrelevant or less significant to the dependent variable so their unnecessary inclusion to the model leads to:\n",
    "\n",
    "* Increase in complexity of a model and makes it harder to interpret.\n",
    "* Increase in time complexity for a model to get trained.\n",
    "* Result in a dumb model with inaccurate or less reliable predictions.\n",
    "\n",
    "#### Key Benefit:\n",
    "Feature selection helps in finding the smallest set of features which results in:\n",
    "* Training a machine learning algorithm faster.\n",
    "* Reducing the complexity of a model and making it easier to interpret.\n",
    "* Building a sensible model with better prediction power.\n",
    "* Reducing over-fitting by selecting the right set of features."
   ]
  },
  {
   "cell_type": "markdown",
   "id": "b92bc1d2",
   "metadata": {},
   "source": [
    "### Feature Selection Methods/Techniques\n",
    "There are mainly two types of Feature Selection techniques, which are:\n",
    "\n",
    "* Supervised Feature Selection technique\n",
    "  * Supervised Feature selection techniques consider the target variable and can be used for the labelled dataset.\n",
    "* Unsupervised Feature Selection technique\n",
    "  * Unsupervised Feature selection techniques ignore the target variable and can be used for the unlabelled dataset.\n",
    "  \n",
    "***There are mainly three techniques under supervised feature selection:***\n",
    "\n",
    "##### 1. Wrapper Methods\n",
    "* Forward Feature Selection\n",
    "* Backward Feature Selection\n",
    "* Exhausetive Feature Selection\n",
    "* Recursive Feature Selection\n",
    "\n",
    "##### 2. Filter Methods\n",
    "* Information Gain\n",
    "* Chi-square Test\n",
    "* Fisher's Score\n",
    "* Missing Value Ratio\n",
    "\n",
    "##### 3. Embedded Methods\n",
    "* Regularization L1, L2\n",
    "* Random Forest Importance"
   ]
  },
  {
   "cell_type": "markdown",
   "id": "03b033e6",
   "metadata": {},
   "source": [
    "## Forward Selection\n",
    "Forward selection is an iterative process, which begins with an empty set of features. After each iteration, it keeps adding on a feature and evaluates the performance to check whether it is improving the performance or not. The process continues until the addition of a new variable/feature does not improve the performance of the model.\n",
    "\n",
    "***Process Of Wrapper Methods***\n",
    "<center>\n",
    "    <tt>\n",
    "    |Set of Features|>>|Generate subset ⇄ Algorithm|>>|Performance|\n",
    "    </tt>\n",
    "</center>"
   ]
  },
  {
   "cell_type": "markdown",
   "id": "3faccb74",
   "metadata": {},
   "source": [
    "**Steps to perform Forward Feature Selection:**\n",
    "\n",
    "1. Train n model using each feature(n) individually and check the performance\n",
    "2. Choose the variable which gives the best performance\n",
    "3. Repeat the process and add one variable at a time\n",
    "4. Variable producing the highest improvement is retained\n",
    "5. Repeat the entire process until there is no significant improvement in model's performance\n",
    "\n",
    "### Implementation:\n",
    "The dataset is heart.csv file which is from kaggle. It uses for heart disease detection."
   ]
  },
  {
   "cell_type": "code",
   "execution_count": 110,
   "id": "7b4e9a03",
   "metadata": {},
   "outputs": [],
   "source": [
    "#importing the libraries\n",
    "import pandas as pd"
   ]
  },
  {
   "cell_type": "code",
   "execution_count": 111,
   "id": "17d1fdd4",
   "metadata": {},
   "outputs": [],
   "source": [
    "data = pd.read_csv('/Users/dararithkhun/Documents/ITC/M1-Program Semester 1/Machine_Learning/ML_Assignments/Final_Project_M1Semester1/Heart Disease/heart.csv')"
   ]
  },
  {
   "cell_type": "code",
   "execution_count": 112,
   "id": "c38a1c69",
   "metadata": {},
   "outputs": [
    {
     "data": {
      "text/plain": [
       "(303, 14)"
      ]
     },
     "execution_count": 112,
     "metadata": {},
     "output_type": "execute_result"
    }
   ],
   "source": [
    "data.shape"
   ]
  },
  {
   "cell_type": "code",
   "execution_count": 113,
   "id": "7784447e",
   "metadata": {},
   "outputs": [
    {
     "data": {
      "text/html": [
       "<div>\n",
       "<style scoped>\n",
       "    .dataframe tbody tr th:only-of-type {\n",
       "        vertical-align: middle;\n",
       "    }\n",
       "\n",
       "    .dataframe tbody tr th {\n",
       "        vertical-align: top;\n",
       "    }\n",
       "\n",
       "    .dataframe thead th {\n",
       "        text-align: right;\n",
       "    }\n",
       "</style>\n",
       "<table border=\"1\" class=\"dataframe\">\n",
       "  <thead>\n",
       "    <tr style=\"text-align: right;\">\n",
       "      <th></th>\n",
       "      <th>age</th>\n",
       "      <th>sex</th>\n",
       "      <th>cp</th>\n",
       "      <th>trestbps</th>\n",
       "      <th>chol</th>\n",
       "      <th>fbs</th>\n",
       "      <th>restecg</th>\n",
       "      <th>thalach</th>\n",
       "      <th>exang</th>\n",
       "      <th>oldpeak</th>\n",
       "      <th>slope</th>\n",
       "      <th>ca</th>\n",
       "      <th>thal</th>\n",
       "      <th>target</th>\n",
       "    </tr>\n",
       "  </thead>\n",
       "  <tbody>\n",
       "    <tr>\n",
       "      <th>0</th>\n",
       "      <td>63</td>\n",
       "      <td>1</td>\n",
       "      <td>3</td>\n",
       "      <td>145</td>\n",
       "      <td>233</td>\n",
       "      <td>1</td>\n",
       "      <td>0</td>\n",
       "      <td>150</td>\n",
       "      <td>0</td>\n",
       "      <td>2.3</td>\n",
       "      <td>0</td>\n",
       "      <td>0</td>\n",
       "      <td>1</td>\n",
       "      <td>1</td>\n",
       "    </tr>\n",
       "    <tr>\n",
       "      <th>1</th>\n",
       "      <td>37</td>\n",
       "      <td>1</td>\n",
       "      <td>2</td>\n",
       "      <td>130</td>\n",
       "      <td>250</td>\n",
       "      <td>0</td>\n",
       "      <td>1</td>\n",
       "      <td>187</td>\n",
       "      <td>0</td>\n",
       "      <td>3.5</td>\n",
       "      <td>0</td>\n",
       "      <td>0</td>\n",
       "      <td>2</td>\n",
       "      <td>1</td>\n",
       "    </tr>\n",
       "    <tr>\n",
       "      <th>2</th>\n",
       "      <td>41</td>\n",
       "      <td>0</td>\n",
       "      <td>1</td>\n",
       "      <td>130</td>\n",
       "      <td>204</td>\n",
       "      <td>0</td>\n",
       "      <td>0</td>\n",
       "      <td>172</td>\n",
       "      <td>0</td>\n",
       "      <td>1.4</td>\n",
       "      <td>2</td>\n",
       "      <td>0</td>\n",
       "      <td>2</td>\n",
       "      <td>1</td>\n",
       "    </tr>\n",
       "    <tr>\n",
       "      <th>3</th>\n",
       "      <td>56</td>\n",
       "      <td>1</td>\n",
       "      <td>1</td>\n",
       "      <td>120</td>\n",
       "      <td>236</td>\n",
       "      <td>0</td>\n",
       "      <td>1</td>\n",
       "      <td>178</td>\n",
       "      <td>0</td>\n",
       "      <td>0.8</td>\n",
       "      <td>2</td>\n",
       "      <td>0</td>\n",
       "      <td>2</td>\n",
       "      <td>1</td>\n",
       "    </tr>\n",
       "    <tr>\n",
       "      <th>4</th>\n",
       "      <td>57</td>\n",
       "      <td>0</td>\n",
       "      <td>0</td>\n",
       "      <td>120</td>\n",
       "      <td>354</td>\n",
       "      <td>0</td>\n",
       "      <td>1</td>\n",
       "      <td>163</td>\n",
       "      <td>1</td>\n",
       "      <td>0.6</td>\n",
       "      <td>2</td>\n",
       "      <td>0</td>\n",
       "      <td>2</td>\n",
       "      <td>1</td>\n",
       "    </tr>\n",
       "  </tbody>\n",
       "</table>\n",
       "</div>"
      ],
      "text/plain": [
       "   age  sex  cp  trestbps  chol  fbs  restecg  thalach  exang  oldpeak  slope  \\\n",
       "0   63    1   3       145   233    1        0      150      0      2.3      0   \n",
       "1   37    1   2       130   250    0        1      187      0      3.5      0   \n",
       "2   41    0   1       130   204    0        0      172      0      1.4      2   \n",
       "3   56    1   1       120   236    0        1      178      0      0.8      2   \n",
       "4   57    0   0       120   354    0        1      163      1      0.6      2   \n",
       "\n",
       "   ca  thal  target  \n",
       "0   0     1       1  \n",
       "1   0     2       1  \n",
       "2   0     2       1  \n",
       "3   0     2       1  \n",
       "4   0     2       1  "
      ]
     },
     "execution_count": 113,
     "metadata": {},
     "output_type": "execute_result"
    }
   ],
   "source": [
    "data.head()"
   ]
  },
  {
   "cell_type": "code",
   "execution_count": 114,
   "id": "8ef626cb",
   "metadata": {},
   "outputs": [
    {
     "data": {
      "text/plain": [
       "age         0\n",
       "sex         0\n",
       "cp          0\n",
       "trestbps    0\n",
       "chol        0\n",
       "fbs         0\n",
       "restecg     0\n",
       "thalach     0\n",
       "exang       0\n",
       "oldpeak     0\n",
       "slope       0\n",
       "ca          0\n",
       "thal        0\n",
       "target      0\n",
       "dtype: int64"
      ]
     },
     "execution_count": 114,
     "metadata": {},
     "output_type": "execute_result"
    }
   ],
   "source": [
    "#check for missiong values\n",
    "data.isnull().sum()"
   ]
  },
  {
   "cell_type": "code",
   "execution_count": 115,
   "id": "b33935f5",
   "metadata": {},
   "outputs": [],
   "source": [
    "#define training data\n",
    "X = data.drop(['chol', 'target'], axis=1)\n",
    "y = data['target']"
   ]
  },
  {
   "cell_type": "code",
   "execution_count": 116,
   "id": "ee0e73ff",
   "metadata": {},
   "outputs": [
    {
     "data": {
      "text/plain": [
       "((303, 12), (303,))"
      ]
     },
     "execution_count": 116,
     "metadata": {},
     "output_type": "execute_result"
    }
   ],
   "source": [
    "X.shape, y.shape"
   ]
  },
  {
   "cell_type": "code",
   "execution_count": 117,
   "id": "9b71415f",
   "metadata": {},
   "outputs": [],
   "source": [
    "#to install mlxrend library\n",
    "# conda install mlxtend --channel conda-forge"
   ]
  },
  {
   "cell_type": "code",
   "execution_count": 118,
   "id": "b5434bf5",
   "metadata": {},
   "outputs": [],
   "source": [
    "from mlxtend.feature_selection import SequentialFeatureSelector as sfs\n",
    "from sklearn.linear_model import LinearRegression\n",
    "from sklearn.metrics import accuracy_score as acc\n",
    "from sklearn.ensemble import RandomForestClassifier"
   ]
  },
  {
   "cell_type": "code",
   "execution_count": 127,
   "id": "39ebc2e0",
   "metadata": {},
   "outputs": [],
   "source": [
    "#uses of linear regression model\n",
    "linearR = LinearRegression()\n",
    "sfsTest = sfs(linearR, k_features=5, forward=True, verbose=2, scoring='r2')"
   ]
  },
  {
   "cell_type": "code",
   "execution_count": 128,
   "id": "87b994ca",
   "metadata": {},
   "outputs": [
    {
     "name": "stderr",
     "output_type": "stream",
     "text": [
      "[Parallel(n_jobs=1)]: Using backend SequentialBackend with 1 concurrent workers.\n",
      "[Parallel(n_jobs=1)]: Done   1 out of   1 | elapsed:    0.0s remaining:    0.0s\n",
      "[Parallel(n_jobs=1)]: Done  12 out of  12 | elapsed:    0.1s finished\n",
      "\n",
      "[2022-05-25 05:55:17] Features: 1/5 -- score: 0.0449193701526039[Parallel(n_jobs=1)]: Using backend SequentialBackend with 1 concurrent workers.\n",
      "[Parallel(n_jobs=1)]: Done   1 out of   1 | elapsed:    0.0s remaining:    0.0s\n",
      "[Parallel(n_jobs=1)]: Done  11 out of  11 | elapsed:    0.1s finished\n",
      "\n",
      "[2022-05-25 05:55:17] Features: 2/5 -- score: 0.07194095902184601[Parallel(n_jobs=1)]: Using backend SequentialBackend with 1 concurrent workers.\n",
      "[Parallel(n_jobs=1)]: Done   1 out of   1 | elapsed:    0.0s remaining:    0.0s\n",
      "[Parallel(n_jobs=1)]: Done  10 out of  10 | elapsed:    0.1s finished\n",
      "\n",
      "[2022-05-25 05:55:17] Features: 3/5 -- score: 0.08448908286073334[Parallel(n_jobs=1)]: Using backend SequentialBackend with 1 concurrent workers.\n",
      "[Parallel(n_jobs=1)]: Done   1 out of   1 | elapsed:    0.0s remaining:    0.0s\n",
      "[Parallel(n_jobs=1)]: Done   9 out of   9 | elapsed:    0.1s finished\n",
      "\n",
      "[2022-05-25 05:55:17] Features: 4/5 -- score: 0.09120279344311333[Parallel(n_jobs=1)]: Using backend SequentialBackend with 1 concurrent workers.\n",
      "[Parallel(n_jobs=1)]: Done   1 out of   1 | elapsed:    0.0s remaining:    0.0s\n",
      "[Parallel(n_jobs=1)]: Done   8 out of   8 | elapsed:    0.1s finished\n",
      "\n",
      "[2022-05-25 05:55:17] Features: 5/5 -- score: 0.0964781410535328"
     ]
    }
   ],
   "source": [
    "sfsTest = sfsTest.fit(X, y)"
   ]
  },
  {
   "cell_type": "code",
   "execution_count": 129,
   "id": "7d7bfc83",
   "metadata": {},
   "outputs": [
    {
     "name": "stdout",
     "output_type": "stream",
     "text": [
      "['sex', 'restecg', 'exang', 'oldpeak', 'thal']\n"
     ]
    }
   ],
   "source": [
    "feature_names = list(sfsTest.k_feature_names_)\n",
    "print(feature_names)"
   ]
  },
  {
   "cell_type": "code",
   "execution_count": 130,
   "id": "9941aea9",
   "metadata": {},
   "outputs": [
    {
     "name": "stderr",
     "output_type": "stream",
     "text": [
      "/var/folders/5r/z3pfvjgj2cqd27tvwzwd_plh0000gn/T/ipykernel_37856/1416024721.py:3: SettingWithCopyWarning: \n",
      "A value is trying to be set on a copy of a slice from a DataFrame.\n",
      "Try using .loc[row_indexer,col_indexer] = value instead\n",
      "\n",
      "See the caveats in the documentation: https://pandas.pydata.org/pandas-docs/stable/user_guide/indexing.html#returning-a-view-versus-a-copy\n",
      "  new_data['target'] = data['target']\n"
     ]
    },
    {
     "data": {
      "text/html": [
       "<div>\n",
       "<style scoped>\n",
       "    .dataframe tbody tr th:only-of-type {\n",
       "        vertical-align: middle;\n",
       "    }\n",
       "\n",
       "    .dataframe tbody tr th {\n",
       "        vertical-align: top;\n",
       "    }\n",
       "\n",
       "    .dataframe thead th {\n",
       "        text-align: right;\n",
       "    }\n",
       "</style>\n",
       "<table border=\"1\" class=\"dataframe\">\n",
       "  <thead>\n",
       "    <tr style=\"text-align: right;\">\n",
       "      <th></th>\n",
       "      <th>sex</th>\n",
       "      <th>restecg</th>\n",
       "      <th>exang</th>\n",
       "      <th>oldpeak</th>\n",
       "      <th>thal</th>\n",
       "      <th>target</th>\n",
       "    </tr>\n",
       "  </thead>\n",
       "  <tbody>\n",
       "    <tr>\n",
       "      <th>0</th>\n",
       "      <td>1</td>\n",
       "      <td>0</td>\n",
       "      <td>0</td>\n",
       "      <td>2.3</td>\n",
       "      <td>1</td>\n",
       "      <td>1</td>\n",
       "    </tr>\n",
       "    <tr>\n",
       "      <th>1</th>\n",
       "      <td>1</td>\n",
       "      <td>1</td>\n",
       "      <td>0</td>\n",
       "      <td>3.5</td>\n",
       "      <td>2</td>\n",
       "      <td>1</td>\n",
       "    </tr>\n",
       "    <tr>\n",
       "      <th>2</th>\n",
       "      <td>0</td>\n",
       "      <td>0</td>\n",
       "      <td>0</td>\n",
       "      <td>1.4</td>\n",
       "      <td>2</td>\n",
       "      <td>1</td>\n",
       "    </tr>\n",
       "    <tr>\n",
       "      <th>3</th>\n",
       "      <td>1</td>\n",
       "      <td>1</td>\n",
       "      <td>0</td>\n",
       "      <td>0.8</td>\n",
       "      <td>2</td>\n",
       "      <td>1</td>\n",
       "    </tr>\n",
       "    <tr>\n",
       "      <th>4</th>\n",
       "      <td>0</td>\n",
       "      <td>1</td>\n",
       "      <td>1</td>\n",
       "      <td>0.6</td>\n",
       "      <td>2</td>\n",
       "      <td>1</td>\n",
       "    </tr>\n",
       "  </tbody>\n",
       "</table>\n",
       "</div>"
      ],
      "text/plain": [
       "   sex  restecg  exang  oldpeak  thal  target\n",
       "0    1        0      0      2.3     1       1\n",
       "1    1        1      0      3.5     2       1\n",
       "2    0        0      0      1.4     2       1\n",
       "3    1        1      0      0.8     2       1\n",
       "4    0        1      1      0.6     2       1"
      ]
     },
     "execution_count": 130,
     "metadata": {},
     "output_type": "execute_result"
    }
   ],
   "source": [
    "# creating a new dataframe using the above variables and adding the target variable\n",
    "new_data = data[feature_names]\n",
    "new_data['target'] = data['target']\n",
    "\n",
    "# first five rows of the new data\n",
    "new_data.head()"
   ]
  },
  {
   "cell_type": "code",
   "execution_count": 131,
   "id": "a6aed9ba",
   "metadata": {},
   "outputs": [
    {
     "data": {
      "text/plain": [
       "((303, 6), (303, 14))"
      ]
     },
     "execution_count": 131,
     "metadata": {},
     "output_type": "execute_result"
    }
   ],
   "source": [
    "# shape of new and original data\n",
    "new_data.shape, data.shape"
   ]
  },
  {
   "cell_type": "code",
   "execution_count": 132,
   "id": "503e6a5b",
   "metadata": {},
   "outputs": [],
   "source": [
    "#define training data\n",
    "X1 = new_data.drop(['sex', 'target'], axis=1)\n",
    "y1 = new_data['target']"
   ]
  },
  {
   "cell_type": "code",
   "execution_count": 160,
   "id": "4acce199",
   "metadata": {},
   "outputs": [
    {
     "name": "stdout",
     "output_type": "stream",
     "text": [
      "Training accuracy on selected features: 0.888\n"
     ]
    }
   ],
   "source": [
    "# Build full model with selected features\n",
    "clf = RandomForestClassifier(n_estimators=1000, random_state=40, max_depth=8)\n",
    "clf.fit(X1, y1)\n",
    "\n",
    "y_train_pred = clf.predict(X1)\n",
    "print('Training accuracy on selected features: %.3f' % acc(y1, y_train_pred))"
   ]
  },
  {
   "cell_type": "code",
   "execution_count": null,
   "id": "d1ff4b3f",
   "metadata": {},
   "outputs": [],
   "source": []
  }
 ],
 "metadata": {
  "kernelspec": {
   "display_name": "Python 3 (ipykernel)",
   "language": "python",
   "name": "python3"
  },
  "language_info": {
   "codemirror_mode": {
    "name": "ipython",
    "version": 3
   },
   "file_extension": ".py",
   "mimetype": "text/x-python",
   "name": "python",
   "nbconvert_exporter": "python",
   "pygments_lexer": "ipython3",
   "version": "3.9.7"
  }
 },
 "nbformat": 4,
 "nbformat_minor": 5
}
