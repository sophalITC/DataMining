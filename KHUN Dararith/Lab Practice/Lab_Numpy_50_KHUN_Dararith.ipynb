{
 "cells": [
  {
   "cell_type": "markdown",
   "id": "a033673a",
   "metadata": {},
   "source": [
    "### Name: KHUN Dararith\n",
    "### ID: M060813\n",
    "# <center>Numpy_50"
   ]
  },
  {
   "cell_type": "code",
   "execution_count": 9,
   "id": "dec3ff19",
   "metadata": {},
   "outputs": [],
   "source": [
    "#1\n",
    "import numpy as np"
   ]
  },
  {
   "cell_type": "code",
   "execution_count": 11,
   "id": "299668c2",
   "metadata": {},
   "outputs": [
    {
     "name": "stdout",
     "output_type": "stream",
     "text": [
      "blas_mkl_info:\n",
      "    libraries = ['mkl_rt', 'pthread']\n",
      "    library_dirs = ['/usr/local/anaconda3/lib']\n",
      "    define_macros = [('SCIPY_MKL_H', None), ('HAVE_CBLAS', None)]\n",
      "    include_dirs = ['/usr/local/anaconda3/include']\n",
      "blas_opt_info:\n",
      "    libraries = ['mkl_rt', 'pthread']\n",
      "    library_dirs = ['/usr/local/anaconda3/lib']\n",
      "    define_macros = [('SCIPY_MKL_H', None), ('HAVE_CBLAS', None)]\n",
      "    include_dirs = ['/usr/local/anaconda3/include']\n",
      "lapack_mkl_info:\n",
      "    libraries = ['mkl_rt', 'pthread']\n",
      "    library_dirs = ['/usr/local/anaconda3/lib']\n",
      "    define_macros = [('SCIPY_MKL_H', None), ('HAVE_CBLAS', None)]\n",
      "    include_dirs = ['/usr/local/anaconda3/include']\n",
      "lapack_opt_info:\n",
      "    libraries = ['mkl_rt', 'pthread']\n",
      "    library_dirs = ['/usr/local/anaconda3/lib']\n",
      "    define_macros = [('SCIPY_MKL_H', None), ('HAVE_CBLAS', None)]\n",
      "    include_dirs = ['/usr/local/anaconda3/include']\n",
      "1.20.3 None\n"
     ]
    }
   ],
   "source": [
    "#2\n",
    "print(np.__version__, np.show_config())"
   ]
  },
  {
   "cell_type": "code",
   "execution_count": 12,
   "id": "d3997584",
   "metadata": {},
   "outputs": [
    {
     "name": "stdout",
     "output_type": "stream",
     "text": [
      "[0. 0. 0. 0. 0. 0. 0. 0. 0. 0.]\n"
     ]
    }
   ],
   "source": [
    "#3\n",
    "null_vector = np.zeros(10)\n",
    "print(null_vector)"
   ]
  },
  {
   "cell_type": "code",
   "execution_count": 13,
   "id": "52d8bca5",
   "metadata": {},
   "outputs": [
    {
     "name": "stdout",
     "output_type": "stream",
     "text": [
      "Size of array:  7\n",
      "Memory size of array element:  8\n"
     ]
    }
   ],
   "source": [
    "#4\n",
    "arr = np.array([203, 45, 34, 64, 73, 74, 57])\n",
    "print(\"Size of array: \", arr.size)\n",
    "print(\"Memory size of array element: \", arr.itemsize)"
   ]
  },
  {
   "cell_type": "code",
   "execution_count": 14,
   "id": "2c266011",
   "metadata": {},
   "outputs": [
    {
     "name": "stdout",
     "output_type": "stream",
     "text": [
      "add(x1, x2, /, out=None, *, where=True, casting='same_kind', order='K', dtype=None, subok=True[, signature, extobj])\n",
      "\n",
      "Add arguments element-wise.\n",
      "\n",
      "Parameters\n",
      "----------\n",
      "x1, x2 : array_like\n",
      "    The arrays to be added.\n",
      "    If ``x1.shape != x2.shape``, they must be broadcastable to a common\n",
      "    shape (which becomes the shape of the output).\n",
      "out : ndarray, None, or tuple of ndarray and None, optional\n",
      "    A location into which the result is stored. If provided, it must have\n",
      "    a shape that the inputs broadcast to. If not provided or None,\n",
      "    a freshly-allocated array is returned. A tuple (possible only as a\n",
      "    keyword argument) must have length equal to the number of outputs.\n",
      "where : array_like, optional\n",
      "    This condition is broadcast over the input. At locations where the\n",
      "    condition is True, the `out` array will be set to the ufunc result.\n",
      "    Elsewhere, the `out` array will retain its original value.\n",
      "    Note that if an uninitialized `out` array is created via the default\n",
      "    ``out=None``, locations within it where the condition is False will\n",
      "    remain uninitialized.\n",
      "**kwargs\n",
      "    For other keyword-only arguments, see the\n",
      "    :ref:`ufunc docs <ufuncs.kwargs>`.\n",
      "\n",
      "Returns\n",
      "-------\n",
      "add : ndarray or scalar\n",
      "    The sum of `x1` and `x2`, element-wise.\n",
      "    This is a scalar if both `x1` and `x2` are scalars.\n",
      "\n",
      "Notes\n",
      "-----\n",
      "Equivalent to `x1` + `x2` in terms of array broadcasting.\n",
      "\n",
      "Examples\n",
      "--------\n",
      ">>> np.add(1.0, 4.0)\n",
      "5.0\n",
      ">>> x1 = np.arange(9.0).reshape((3, 3))\n",
      ">>> x2 = np.arange(3.0)\n",
      ">>> np.add(x1, x2)\n",
      "array([[  0.,   2.,   4.],\n",
      "       [  3.,   5.,   7.],\n",
      "       [  6.,   8.,  10.]])\n",
      "\n",
      "The ``+`` operator can be used as a shorthand for ``np.add`` on ndarrays.\n",
      "\n",
      ">>> x1 = np.arange(9.0).reshape((3, 3))\n",
      ">>> x2 = np.arange(3.0)\n",
      ">>> x1 + x2\n",
      "array([[ 0.,  2.,  4.],\n",
      "       [ 3.,  5.,  7.],\n",
      "       [ 6.,  8., 10.]])\n",
      "None\n"
     ]
    }
   ],
   "source": [
    "#5\n",
    "print(np.info(np.add))"
   ]
  },
  {
   "cell_type": "code",
   "execution_count": 15,
   "id": "7c485fb9",
   "metadata": {},
   "outputs": [
    {
     "name": "stdout",
     "output_type": "stream",
     "text": [
      "[0. 0. 0. 0. 1. 0. 0. 0. 0. 0.]\n"
     ]
    }
   ],
   "source": [
    "#6\n",
    "n_vector = np.zeros(10)\n",
    "n_vector[4] = 1\n",
    "\n",
    "print(n_vector)"
   ]
  },
  {
   "cell_type": "code",
   "execution_count": 18,
   "id": "aa1ebfff",
   "metadata": {},
   "outputs": [
    {
     "name": "stdout",
     "output_type": "stream",
     "text": [
      "[10 11 12 13 14 15 16 17 18 19 20 21 22 23 24 25 26 27 28 29 30 31 32 33\n",
      " 34 35 36 37 38 39 40 41 42 43 44 45 46 47 48 49]\n"
     ]
    }
   ],
   "source": [
    "#7\n",
    "x = np.arange(10,50)\n",
    "\n",
    "print(x)"
   ]
  },
  {
   "cell_type": "code",
   "execution_count": 20,
   "id": "4df44d2d",
   "metadata": {},
   "outputs": [
    {
     "name": "stdout",
     "output_type": "stream",
     "text": [
      "[203  45  34  64  73  74  57]\n",
      "After revers:  [ 57  74  73  64  34  45 203]\n"
     ]
    }
   ],
   "source": [
    "#8\n",
    "print(arr)\n",
    "print(\"After revers: \", arr[::-1])"
   ]
  },
  {
   "cell_type": "code",
   "execution_count": 22,
   "id": "50abbf92",
   "metadata": {},
   "outputs": [
    {
     "name": "stdout",
     "output_type": "stream",
     "text": [
      "[[0 1 2]\n",
      " [3 4 5]\n",
      " [6 7 8]]\n"
     ]
    }
   ],
   "source": [
    "#9\n",
    "rshape = np.arange(9).reshape((3,3))\n",
    "\n",
    "print(rshape)"
   ]
  },
  {
   "cell_type": "code",
   "execution_count": 27,
   "id": "b57501f0",
   "metadata": {},
   "outputs": [
    {
     "name": "stdout",
     "output_type": "stream",
     "text": [
      "[1 2 4]\n"
     ]
    }
   ],
   "source": [
    "#10\n",
    "testarr = np.array([1,2,0,0,4,0])\n",
    "print(testarr[np.nonzero(testarr)])"
   ]
  },
  {
   "cell_type": "code",
   "execution_count": 28,
   "id": "505d7713",
   "metadata": {},
   "outputs": [
    {
     "name": "stdout",
     "output_type": "stream",
     "text": [
      "[[1 0 0]\n",
      " [0 1 0]\n",
      " [0 0 1]]\n"
     ]
    }
   ],
   "source": [
    "#11\n",
    "print(np.eye(3, dtype = int))"
   ]
  },
  {
   "cell_type": "code",
   "execution_count": 35,
   "id": "eca2da81",
   "metadata": {},
   "outputs": [
    {
     "name": "stdout",
     "output_type": "stream",
     "text": [
      "[[[0.60627525 0.4223522  0.1169931 ]\n",
      "  [0.75059533 0.06631176 0.31419825]\n",
      "  [0.52682158 0.76343525 0.53658398]]\n",
      "\n",
      " [[0.43743158 0.52827521 0.1885153 ]\n",
      "  [0.54794933 0.48049568 0.2479313 ]\n",
      "  [0.48614305 0.9911068  0.31954889]]\n",
      "\n",
      " [[0.30906826 0.02305934 0.9004352 ]\n",
      "  [0.53611631 0.07277421 0.57747852]\n",
      "  [0.54350748 0.12900846 0.62318914]]]\n"
     ]
    }
   ],
   "source": [
    "#12\n",
    "a = np.random.random((3,3,3))\n",
    "print(a)"
   ]
  },
  {
   "cell_type": "code",
   "execution_count": 39,
   "id": "09ea025b",
   "metadata": {},
   "outputs": [
    {
     "name": "stdout",
     "output_type": "stream",
     "text": [
      "Random Matrix:  [[0.8349077  0.73584309 0.95965982 0.37533006 0.65756462 0.84642672\n",
      "  0.84076647 0.73905502 0.49781808 0.66546923]\n",
      " [0.13926021 0.38826638 0.17178466 0.67162265 0.3349326  0.13013012\n",
      "  0.66032814 0.16780235 0.78096203 0.01545839]\n",
      " [0.21498618 0.17339823 0.5577099  0.78009614 0.21468674 0.14827202\n",
      "  0.97845455 0.99048198 0.62849019 0.80531434]\n",
      " [0.48030829 0.25917398 0.06948021 0.54994684 0.29831223 0.63741451\n",
      "  0.31973615 0.5137086  0.39432886 0.53777267]\n",
      " [0.28003696 0.13436854 0.79055774 0.78657815 0.08903867 0.47084961\n",
      "  0.89297602 0.64740137 0.85726456 0.10846993]\n",
      " [0.05883024 0.91516497 0.8437265  0.36409602 0.1115673  0.40364992\n",
      "  0.25173711 0.27714547 0.89255618 0.45329664]\n",
      " [0.88131566 0.2178531  0.31866667 0.97676363 0.50705428 0.07501885\n",
      "  0.64813561 0.90706843 0.30984927 0.96604336]\n",
      " [0.77852944 0.75674141 0.27248767 0.58915239 0.46246427 0.14994782\n",
      "  0.65925174 0.79037388 0.12857138 0.55313437]\n",
      " [0.95765573 0.02665355 0.68816507 0.2217547  0.4220803  0.71318778\n",
      "  0.62227104 0.59917421 0.55679809 0.96100573]\n",
      " [0.54879486 0.12614405 0.16457304 0.60435729 0.907308   0.08799676\n",
      "  0.26299042 0.02697969 0.52547799 0.67571564]]\n",
      "\n",
      "Minimum value:  0.015458390491462248\n",
      "Maximum value:  0.9904819837937473\n"
     ]
    }
   ],
   "source": [
    "#13\n",
    "b = np.random.random((10,10))\n",
    "\n",
    "print(\"Random Matrix: \", b)\n",
    "print(\"\\nMinimum value: \", b.min())\n",
    "print(\"Maximum value: \", b.max())"
   ]
  },
  {
   "cell_type": "code",
   "execution_count": 42,
   "id": "3b583c8e",
   "metadata": {},
   "outputs": [
    {
     "name": "stdout",
     "output_type": "stream",
     "text": [
      "[0.55846036 0.85816822 0.38059966 0.29699066 0.90778321 0.93274135\n",
      " 0.2367476  0.96569943 0.85862897 0.04617109 0.71911435 0.05639526\n",
      " 0.25380366 0.98553369 0.42235537 0.46620555 0.99963629 0.23996305\n",
      " 0.05058572 0.45630045 0.87920533 0.51689306 0.29513875 0.5474979\n",
      " 0.17336828 0.01133095 0.79489275 0.90070466 0.24558281 0.35959563]\n",
      "\n",
      " the mean:  0.5138698015189808\n"
     ]
    }
   ],
   "source": [
    "#14\n",
    "c = np.random.random(30)\n",
    "print(c)\n",
    "print(\"\\n the mean: \", c.mean())"
   ]
  },
  {
   "cell_type": "code",
   "execution_count": 47,
   "id": "addbf66b",
   "metadata": {},
   "outputs": [
    {
     "name": "stdout",
     "output_type": "stream",
     "text": [
      "[[1. 1. 1. 1. 1. 1.]\n",
      " [1. 0. 0. 0. 0. 1.]\n",
      " [1. 0. 0. 0. 0. 1.]\n",
      " [1. 0. 0. 0. 0. 1.]\n",
      " [1. 0. 0. 0. 0. 1.]\n",
      " [1. 1. 1. 1. 1. 1.]]\n"
     ]
    }
   ],
   "source": [
    "#15\n",
    "arr2d = np.ones((6,6))\n",
    "arr2d[1:-1, 1:-1] = 0\n",
    "print(arr2d)"
   ]
  },
  {
   "cell_type": "code",
   "execution_count": 57,
   "id": "36a5aba8",
   "metadata": {},
   "outputs": [
    {
     "name": "stdout",
     "output_type": "stream",
     "text": [
      "[[0. 0. 0. 0. 0.]\n",
      " [0. 1. 1. 1. 0.]\n",
      " [0. 1. 1. 1. 0.]\n",
      " [0. 1. 1. 1. 0.]\n",
      " [0. 0. 0. 0. 0.]]\n"
     ]
    }
   ],
   "source": [
    "#16\n",
    "d = np.ones((3,3))\n",
    "d = np.pad(d, pad_width = 1, mode='constant', constant_values=0)\n",
    "print(d)"
   ]
  },
  {
   "cell_type": "code",
   "execution_count": 60,
   "id": "9691f0c6",
   "metadata": {},
   "outputs": [
    {
     "name": "stdout",
     "output_type": "stream",
     "text": [
      "nan False False nan True False\n"
     ]
    }
   ],
   "source": [
    "#17\n",
    "# print (0 * np.nan,\n",
    "# np.nan == np.nan,\n",
    "# np.inf > np.nan,\n",
    "# np.nan - np.nan,\n",
    "# np.nan in set([np.nan]),\n",
    "# 0.3 == 3*0.1)"
   ]
  },
  {
   "cell_type": "code",
   "execution_count": 90,
   "id": "7db9e299",
   "metadata": {},
   "outputs": [
    {
     "name": "stdout",
     "output_type": "stream",
     "text": [
      "[[0 0 0 0 0]\n",
      " [1 0 0 0 0]\n",
      " [0 2 0 0 0]\n",
      " [0 0 3 0 0]\n",
      " [0 0 0 4 0]]\n"
     ]
    }
   ],
   "source": [
    "#18\n",
    "e = np.diag([1,2,3,4], -1)\n",
    "print(e)"
   ]
  },
  {
   "cell_type": "code",
   "execution_count": 94,
   "id": "9695b492",
   "metadata": {},
   "outputs": [
    {
     "name": "stdout",
     "output_type": "stream",
     "text": [
      "Checkerboard pattern:\n",
      "[[0 1 0 1 0 1 0 1]\n",
      " [1 0 1 0 1 0 1 0]\n",
      " [0 1 0 1 0 1 0 1]\n",
      " [1 0 1 0 1 0 1 0]\n",
      " [0 1 0 1 0 1 0 1]\n",
      " [1 0 1 0 1 0 1 0]\n",
      " [0 1 0 1 0 1 0 1]\n",
      " [1 0 1 0 1 0 1 0]]\n"
     ]
    }
   ],
   "source": [
    "#19\n",
    "print(\"Checkerboard pattern:\")\n",
    "x = np.zeros((8,8),dtype=int)\n",
    "x[1::2,::2] = 1\n",
    "x[::2,1::2] = 1\n",
    "print(x)"
   ]
  },
  {
   "cell_type": "code",
   "execution_count": 95,
   "id": "574bc9f1",
   "metadata": {},
   "outputs": [
    {
     "name": "stdout",
     "output_type": "stream",
     "text": [
      "(1, 5, 4)\n"
     ]
    }
   ],
   "source": [
    "#20\n",
    "print(np.unravel_index(100, (6,7,8)))"
   ]
  },
  {
   "cell_type": "code",
   "execution_count": 104,
   "id": "d2fd111f",
   "metadata": {},
   "outputs": [
    {
     "name": "stdout",
     "output_type": "stream",
     "text": [
      "[[0 1 0 1 0 1 0 1]\n",
      " [1 0 1 0 1 0 1 0]\n",
      " [0 1 0 1 0 1 0 1]\n",
      " [1 0 1 0 1 0 1 0]\n",
      " [0 1 0 1 0 1 0 1]\n",
      " [1 0 1 0 1 0 1 0]\n",
      " [0 1 0 1 0 1 0 1]\n",
      " [1 0 1 0 1 0 1 0]]\n"
     ]
    }
   ],
   "source": [
    "#21\n",
    "arr = np.array([[0,1], [1,0]])\n",
    "f = np.tile(arr,(4,4))\n",
    "print (f)"
   ]
  },
  {
   "cell_type": "code",
   "execution_count": 99,
   "id": "7e09a897",
   "metadata": {},
   "outputs": [
    {
     "name": "stdout",
     "output_type": "stream",
     "text": [
      "[[0.34144257 0.24894319 0.23226637 0.40384459 0.71308063]\n",
      " [0.46050868 0.81938999 0.65899145 0.72947108 0.2990395 ]\n",
      " [0.18703611 0.73402879 0.         0.76962496 0.37062168]\n",
      " [0.54628635 0.40360575 0.6348856  0.60484827 0.20492432]\n",
      " [0.58515955 0.09669777 0.09013134 1.         0.36996566]]\n"
     ]
    }
   ],
   "source": [
    "#22\n",
    "g = np.random.random((5,5))\n",
    "gmax, gmin = g.max(), g.min()\n",
    "g= (g-gmin)/(gmax-gmin)\n",
    "print (g)"
   ]
  },
  {
   "cell_type": "code",
   "execution_count": 102,
   "id": "64154763",
   "metadata": {},
   "outputs": [
    {
     "name": "stderr",
     "output_type": "stream",
     "text": [
      "/var/folders/5r/z3pfvjgj2cqd27tvwzwd_plh0000gn/T/ipykernel_57599/2331718316.py:2: FutureWarning: Passing (type, 1) or '1type' as a synonym of type is deprecated; in a future version of numpy, it will be understood as (type, (1,)) / '(1,)type'.\n",
      "  c = np.dtype([(\"R\", np.ubyte, 1),(\"G\", np.ubyte, 1),(\"B\", np.ubyte, 1),(\"A\", np.ubyte, 1)])\n"
     ]
    }
   ],
   "source": [
    "#23\n",
    "c = np.dtype([(\"R\", np.ubyte, 1),(\"G\", np.ubyte, 1),(\"B\", np.ubyte, 1),(\"A\", np.ubyte, 1)])"
   ]
  },
  {
   "cell_type": "code",
   "execution_count": 105,
   "id": "6d512cbf",
   "metadata": {},
   "outputs": [
    {
     "name": "stdout",
     "output_type": "stream",
     "text": [
      "The production of array: \n",
      " [[0.75008683 0.69816909 1.28733528]\n",
      " [0.62554426 0.34610009 0.79567799]\n",
      " [0.66363108 0.74347857 1.26167999]\n",
      " [0.4235022  0.18284247 0.57417957]\n",
      " [0.51699763 0.65229074 0.96698648]]\n"
     ]
    }
   ],
   "source": [
    "#24\n",
    "g = np.random.random((5,3))\n",
    "h = np.random.random((3,3))\n",
    "i = np.dot(g,h)\n",
    "print(\"The production of array: \\n\", i)"
   ]
  },
  {
   "cell_type": "code",
   "execution_count": 110,
   "id": "a32e49aa",
   "metadata": {},
   "outputs": [
    {
     "name": "stdout",
     "output_type": "stream",
     "text": [
      "[ 0  1  2 -3 -4 -5 -6 -7  8  9 10 11 12 13 14 15 16 17 18 19]\n"
     ]
    }
   ],
   "source": [
    "#25\n",
    "jarr = np.arange(20)\n",
    "jarr[3:8] *=  -1\n",
    "print(jarr)"
   ]
  },
  {
   "cell_type": "code",
   "execution_count": 113,
   "id": "154a4dd7",
   "metadata": {
    "scrolled": true
   },
   "outputs": [],
   "source": [
    "#26\n",
    "#the result is\n",
    "#9\n",
    "#10"
   ]
  },
  {
   "cell_type": "code",
   "execution_count": 114,
   "id": "041cc45a",
   "metadata": {},
   "outputs": [],
   "source": [
    "#27\n",
    "# Z**Z not legal\n",
    "# 2 << Z >> 2 not legal\n",
    "# Z <- Z not legal\n",
    "# 1j*Z not legal\n",
    "# Z/1/1 not legal\n",
    "# Z<Z>Z legal"
   ]
  },
  {
   "cell_type": "code",
   "execution_count": 115,
   "id": "d57819b9",
   "metadata": {},
   "outputs": [],
   "source": [
    "#28\n",
    "#The result is\n",
    "\n",
    "#nan\n",
    "#0\n",
    "#[-9.22337204e+18]"
   ]
  },
  {
   "cell_type": "code",
   "execution_count": 117,
   "id": "cf0435a0",
   "metadata": {},
   "outputs": [
    {
     "name": "stdout",
     "output_type": "stream",
     "text": [
      "[ -6.   7. -13.  -1. -11.  -9.   4.  -8.   9.   6.]\n"
     ]
    }
   ],
   "source": [
    "#29\n",
    "karr = np.random.uniform(-13,+12,10)\n",
    "print (np.copysign(np.ceil(np.abs(karr)), karr))"
   ]
  },
  {
   "cell_type": "code",
   "execution_count": 120,
   "id": "1971286d",
   "metadata": {},
   "outputs": [
    {
     "name": "stdout",
     "output_type": "stream",
     "text": [
      "[5 7 8]\n"
     ]
    }
   ],
   "source": [
    "#30\n",
    "arr1 = [2,5,3,7,5,8]\n",
    "arr2 = [7,4,8,5,1,0,4]\n",
    "\n",
    "print(np.intersect1d(arr1, arr2))"
   ]
  },
  {
   "cell_type": "code",
   "execution_count": 121,
   "id": "61056ffd",
   "metadata": {},
   "outputs": [],
   "source": [
    "#31\n",
    "default = np.seterr(all=\"ignore\")\n",
    "_ = np.seterr(**default)"
   ]
  },
  {
   "cell_type": "code",
   "execution_count": 123,
   "id": "fbea75e1",
   "metadata": {},
   "outputs": [],
   "source": [
    "#32\n",
    "#False"
   ]
  },
  {
   "cell_type": "code",
   "execution_count": 124,
   "id": "50265eb0",
   "metadata": {},
   "outputs": [
    {
     "name": "stdout",
     "output_type": "stream",
     "text": [
      "Yestraday:  2022-03-16\n",
      "Today:  2022-03-17\n",
      "Tomorrow:  2022-03-18\n"
     ]
    }
   ],
   "source": [
    "#33\n",
    "ytd = np.datetime64('today', 'D') - np.timedelta64(1, 'D')\n",
    "print(\"Yestraday: \",ytd)\n",
    "td     = np.datetime64('today', 'D')\n",
    "print(\"Today: \",td)\n",
    "tmr  = np.datetime64('today', 'D') + np.timedelta64(1, 'D')\n",
    "print(\"Tomorrow: \",tmr)"
   ]
  },
  {
   "cell_type": "code",
   "execution_count": 132,
   "id": "bb23da8f",
   "metadata": {},
   "outputs": [
    {
     "name": "stdout",
     "output_type": "stream",
     "text": [
      "['2016-07-01' '2016-07-02' '2016-07-03' '2016-07-04' '2016-07-05'\n",
      " '2016-07-06' '2016-07-07' '2016-07-08' '2016-07-09' '2016-07-10'\n",
      " '2016-07-11' '2016-07-12' '2016-07-13' '2016-07-14' '2016-07-15'\n",
      " '2016-07-16' '2016-07-17' '2016-07-18' '2016-07-19' '2016-07-20'\n",
      " '2016-07-21' '2016-07-22' '2016-07-23' '2016-07-24' '2016-07-25'\n",
      " '2016-07-26' '2016-07-27' '2016-07-28' '2016-07-29' '2016-07-30'\n",
      " '2016-07-31']\n"
     ]
    }
   ],
   "source": [
    "#34\n",
    "print(np.arange('2016-07', '2016-08' ,dtype = 'datetime64[D]'))\n"
   ]
  },
  {
   "cell_type": "code",
   "execution_count": 133,
   "id": "ee0d6ae4",
   "metadata": {},
   "outputs": [
    {
     "data": {
      "text/plain": [
       "array([-1.5, -1.5, -1.5, -1.5, -1.5])"
      ]
     },
     "execution_count": 133,
     "metadata": {},
     "output_type": "execute_result"
    }
   ],
   "source": [
    "#35\n",
    "A = np.ones(5)*1\n",
    "B = np.ones(5)*2\n",
    "C = np.ones(5)*3\n",
    "np.add(A,B,out=B)\n",
    "np.divide(A,2,out=A)\n",
    "np.negative(A,out=A)\n",
    "np.multiply(A,B,out=A)"
   ]
  },
  {
   "cell_type": "code",
   "execution_count": 134,
   "id": "d9d53c60",
   "metadata": {},
   "outputs": [
    {
     "name": "stdout",
     "output_type": "stream",
     "text": [
      "[4. 4. 4. 2. 3.]\n",
      "[4. 4. 4. 2. 3.]\n",
      "[4. 4. 4. 2. 3.]\n",
      "[4 4 4 2 3]\n",
      "[4. 4. 4. 2. 3.]\n"
     ]
    }
   ],
   "source": [
    "#36\n",
    "arr = np.random.uniform(0,5,5)\n",
    "print(arr - arr%1)\n",
    "print(np.floor(arr))\n",
    "print(np.ceil(arr)-1)\n",
    "print(arr.astype(int))\n",
    "print(np.trunc(arr))"
   ]
  },
  {
   "cell_type": "code",
   "execution_count": 151,
   "id": "95ab9a86",
   "metadata": {},
   "outputs": [
    {
     "name": "stdout",
     "output_type": "stream",
     "text": [
      "[[0. 1. 2. 3. 4.]\n",
      " [0. 1. 2. 3. 4.]\n",
      " [0. 1. 2. 3. 4.]\n",
      " [0. 1. 2. 3. 4.]\n",
      " [0. 1. 2. 3. 4.]]\n"
     ]
    }
   ],
   "source": [
    "#37\n",
    "larr = np.zeros((5,5))\n",
    "larr += np.arange(5)\n",
    "print(larr)\n"
   ]
  },
  {
   "cell_type": "code",
   "execution_count": 154,
   "id": "6ee60dd7",
   "metadata": {},
   "outputs": [
    {
     "name": "stdout",
     "output_type": "stream",
     "text": [
      "[0. 1. 2. 3. 4. 5. 6. 7. 8. 9.]\n"
     ]
    }
   ],
   "source": [
    "#38\n",
    "def generator():\n",
    "    for x in range(10):\n",
    "        yield x\n",
    "marr = np.fromiter(generator(),dtype=float,count=-1)\n",
    "print(marr)"
   ]
  },
  {
   "cell_type": "code",
   "execution_count": 168,
   "id": "53d78b7a",
   "metadata": {},
   "outputs": [
    {
     "name": "stdout",
     "output_type": "stream",
     "text": [
      "[0.  0.1 0.2 0.3 0.4 0.5 0.6 0.7 0.8 0.9]\n"
     ]
    }
   ],
   "source": [
    "#39\n",
    "print(np.linspace(0.0, 1.0, num = 10, endpoint = False))"
   ]
  },
  {
   "cell_type": "code",
   "execution_count": 180,
   "id": "81bad761",
   "metadata": {},
   "outputs": [
    {
     "name": "stdout",
     "output_type": "stream",
     "text": [
      "Before sort: \n",
      " [0.66893252 0.44216459 0.24693382 0.85445159 0.12169667 0.22669064\n",
      " 0.12511968 0.61423931 0.29176324 0.45702479]\n",
      "After sort: \n",
      " [0.12169667 0.12511968 0.22669064 0.24693382 0.29176324 0.44216459\n",
      " 0.45702479 0.61423931 0.66893252 0.85445159]\n"
     ]
    }
   ],
   "source": [
    "#40\n",
    "ran = np.random.rand(10)\n",
    "print(\"Before sort: \\n\", ran)\n",
    "\n",
    "print(\"After sort: \\n\",sort(ran))"
   ]
  },
  {
   "cell_type": "code",
   "execution_count": 181,
   "id": "e5572852",
   "metadata": {},
   "outputs": [
    {
     "name": "stdout",
     "output_type": "stream",
     "text": [
      "91\n"
     ]
    }
   ],
   "source": [
    "#41\n",
    "n = np.array([2,4,62,5,6,7,5])\n",
    "print(np.add.reduce(n))"
   ]
  },
  {
   "cell_type": "code",
   "execution_count": 186,
   "id": "e5bb6e57",
   "metadata": {},
   "outputs": [
    {
     "name": "stdout",
     "output_type": "stream",
     "text": [
      "True\n",
      "True\n"
     ]
    }
   ],
   "source": [
    "#42\n",
    "oarr1 = np.array([0,3,6,4,2,5])\n",
    "oarr2 = np.array([0,3,6,4,2,5])\n",
    "equal = np.allclose(oarr1,oarr2)\n",
    "print(equal)\n",
    "equal = np.array_equal(oarr1,oarr2)\n",
    "print(equal)"
   ]
  },
  {
   "cell_type": "code",
   "execution_count": 192,
   "id": "6074b4dd",
   "metadata": {},
   "outputs": [
    {
     "name": "stdout",
     "output_type": "stream",
     "text": [
      "[ 2  5  2 63  6  7  3  7  5  3]\n",
      "testing of writing into array\n"
     ]
    },
    {
     "ename": "ValueError",
     "evalue": "assignment destination is read-only",
     "output_type": "error",
     "traceback": [
      "\u001b[0;31m---------------------------------------------------------------------------\u001b[0m",
      "\u001b[0;31mValueError\u001b[0m                                Traceback (most recent call last)",
      "\u001b[0;32m/var/folders/5r/z3pfvjgj2cqd27tvwzwd_plh0000gn/T/ipykernel_57599/1292973101.py\u001b[0m in \u001b[0;36m<module>\u001b[0;34m\u001b[0m\n\u001b[1;32m      4\u001b[0m \u001b[0mprint\u001b[0m\u001b[0;34m(\u001b[0m\u001b[0mp\u001b[0m\u001b[0;34m)\u001b[0m\u001b[0;34m\u001b[0m\u001b[0;34m\u001b[0m\u001b[0m\n\u001b[1;32m      5\u001b[0m \u001b[0mprint\u001b[0m\u001b[0;34m(\u001b[0m\u001b[0;34m\"testing of writing into array\"\u001b[0m\u001b[0;34m)\u001b[0m\u001b[0;34m\u001b[0m\u001b[0;34m\u001b[0m\u001b[0m\n\u001b[0;32m----> 6\u001b[0;31m \u001b[0mp\u001b[0m\u001b[0;34m[\u001b[0m\u001b[0;36m1\u001b[0m\u001b[0;34m]\u001b[0m \u001b[0;34m=\u001b[0m \u001b[0;36m2\u001b[0m\u001b[0;34m\u001b[0m\u001b[0;34m\u001b[0m\u001b[0m\n\u001b[0m",
      "\u001b[0;31mValueError\u001b[0m: assignment destination is read-only"
     ]
    }
   ],
   "source": [
    "#43\n",
    "p = np.array([2,5,2,63,6,7,3,7,5,3])\n",
    "p.flags.writeable = False\n",
    "print(p)\n",
    "print(\"testing of writing into array\")\n",
    "p[1] = 2"
   ]
  },
  {
   "cell_type": "code",
   "execution_count": 193,
   "id": "596bf9b8",
   "metadata": {},
   "outputs": [
    {
     "name": "stdout",
     "output_type": "stream",
     "text": [
      "[0.84064034 0.84228221 0.54429784 1.26454528 0.57315047 0.74726104\n",
      " 0.43551154 0.7796494  0.83724918 1.31573271]\n",
      "[0.51280034 0.37625173 0.88145852 0.70561156 1.24985552 0.70207469\n",
      " 0.99932171 0.18699566 1.16871224 0.82134778]\n"
     ]
    }
   ],
   "source": [
    "#44\n",
    "arr = np.random.random((10,2))\n",
    "X,Y = arr[:,0], arr[:,1]\n",
    "radius = np.sqrt(X**2 + Y**2)\n",
    "angle = np.arctan2(Y, X)\n",
    "print(radius)\n",
    "print(angle)"
   ]
  },
  {
   "cell_type": "code",
   "execution_count": 218,
   "id": "10785ac8",
   "metadata": {},
   "outputs": [
    {
     "name": "stdout",
     "output_type": "stream",
     "text": [
      "[0.43661929 0.05883977 0.37015162]\n",
      "[0.         0.05883977 0.37015162]\n"
     ]
    }
   ],
   "source": [
    "#45\n",
    "q = np.random.rand(3)\n",
    "print(q)\n",
    "q[q.argmax()] = 0\n",
    "print(q)"
   ]
  },
  {
   "cell_type": "code",
   "execution_count": 219,
   "id": "f689612d",
   "metadata": {},
   "outputs": [
    {
     "name": "stdout",
     "output_type": "stream",
     "text": [
      "[[(0.  , 0.  ) (0.25, 0.  ) (0.5 , 0.  ) (0.75, 0.  ) (1.  , 0.  )]\n",
      " [(0.  , 0.25) (0.25, 0.25) (0.5 , 0.25) (0.75, 0.25) (1.  , 0.25)]\n",
      " [(0.  , 0.5 ) (0.25, 0.5 ) (0.5 , 0.5 ) (0.75, 0.5 ) (1.  , 0.5 )]\n",
      " [(0.  , 0.75) (0.25, 0.75) (0.5 , 0.75) (0.75, 0.75) (1.  , 0.75)]\n",
      " [(0.  , 1.  ) (0.25, 1.  ) (0.5 , 1.  ) (0.75, 1.  ) (1.  , 1.  )]]\n"
     ]
    }
   ],
   "source": [
    "#46\n",
    "r = np.zeros((5,5), [('x',float),('y',float)])\n",
    "r['x'], r['y'] = np.meshgrid(np.linspace(0,1,5), np.linspace(0,1,5))\n",
    "print(r)"
   ]
  },
  {
   "cell_type": "code",
   "execution_count": 220,
   "id": "f2e953a1",
   "metadata": {},
   "outputs": [
    {
     "name": "stdout",
     "output_type": "stream",
     "text": [
      "33961.93294480225\n"
     ]
    }
   ],
   "source": [
    "#47\n",
    "X = np.arange(10)\n",
    "Y = X + 0.5\n",
    "C = 1.0 / np.subtract.outer(X, Y)\n",
    "print(np.linalg.det(C))"
   ]
  },
  {
   "cell_type": "code",
   "execution_count": 221,
   "id": "e7a79334",
   "metadata": {},
   "outputs": [
    {
     "name": "stdout",
     "output_type": "stream",
     "text": [
      "-128\n",
      "127\n",
      "-2147483648\n",
      "2147483647\n",
      "-9223372036854775808\n",
      "9223372036854775807\n",
      "-3.4028235e+38\n",
      "3.4028235e+38\n",
      "1.1920929e-07\n",
      "-1.7976931348623157e+308\n",
      "1.7976931348623157e+308\n",
      "2.220446049250313e-16\n"
     ]
    }
   ],
   "source": [
    "#48\n",
    "for dtype in [np.int8, np.int32, np.int64]:\n",
    "\n",
    "    print(np.iinfo(dtype).min)\n",
    "\n",
    "    print(np.iinfo(dtype).max)\n",
    "\n",
    "for dtype in [np.float32, np.float64]:\n",
    "\n",
    "    print(np.finfo(dtype).min)\n",
    "\n",
    "    print(np.finfo(dtype).max)\n",
    "\n",
    "    print(np.finfo(dtype).eps)"
   ]
  },
  {
   "cell_type": "code",
   "execution_count": 224,
   "id": "95f49c6a",
   "metadata": {},
   "outputs": [
    {
     "name": "stdout",
     "output_type": "stream",
     "text": [
      "[[0. 0. 0. 0. 0. 0. 0. 0. 0. 0. 0. 0.]\n",
      " [0. 0. 0. 0. 0. 0. 0. 0. 0. 0. 0. 0.]\n",
      " [0. 0. 0. 0. 0. 0. 0. 0. 0. 0. 0. 0.]\n",
      " [0. 0. 0. 0. 0. 0. 0. 0. 0. 0. 0. 0.]\n",
      " [0. 0. 0. 0. 0. 0. 0. 0. 0. 0. 0. 0.]\n",
      " [0. 0. 0. 0. 0. 0. 0. 0. 0. 0. 0. 0.]\n",
      " [0. 0. 0. 0. 0. 0. 0. 0. 0. 0. 0. 0.]\n",
      " [0. 0. 0. 0. 0. 0. 0. 0. 0. 0. 0. 0.]\n",
      " [0. 0. 0. 0. 0. 0. 0. 0. 0. 0. 0. 0.]\n",
      " [0. 0. 0. 0. 0. 0. 0. 0. 0. 0. 0. 0.]\n",
      " [0. 0. 0. 0. 0. 0. 0. 0. 0. 0. 0. 0.]\n",
      " [0. 0. 0. 0. 0. 0. 0. 0. 0. 0. 0. 0.]]\n"
     ]
    }
   ],
   "source": [
    "#49\n",
    "np.set_printoptions(threshold = np.inf)\n",
    "s = np.zeros((12,12))\n",
    "print(s)"
   ]
  },
  {
   "cell_type": "code",
   "execution_count": 228,
   "id": "97c4f7fe",
   "metadata": {},
   "outputs": [
    {
     "name": "stdout",
     "output_type": "stream",
     "text": [
      "321\n"
     ]
    }
   ],
   "source": [
    "#50\n",
    "t = np.arange(1003)\n",
    "u = np.random.uniform(0,1050)\n",
    "index = (np.abs(t-u)).argmin()\n",
    "print(t[index])"
   ]
  }
 ],
 "metadata": {
  "kernelspec": {
   "display_name": "Python 3 (ipykernel)",
   "language": "python",
   "name": "python3"
  },
  "language_info": {
   "codemirror_mode": {
    "name": "ipython",
    "version": 3
   },
   "file_extension": ".py",
   "mimetype": "text/x-python",
   "name": "python",
   "nbconvert_exporter": "python",
   "pygments_lexer": "ipython3",
   "version": "3.9.7"
  }
 },
 "nbformat": 4,
 "nbformat_minor": 5
}
