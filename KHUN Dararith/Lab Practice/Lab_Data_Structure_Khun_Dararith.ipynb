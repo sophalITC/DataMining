{
 "cells": [
  {
   "cell_type": "markdown",
   "id": "174cfc06",
   "metadata": {},
   "source": [
    "### Name: KHUN Dararith\n",
    "### ID: m060813\n",
    "\n",
    "## <center>Data_Structure\n",
    "\n",
    "## 0.0.1 Data Structure\n",
    "\n",
    "1. list [ .....],(contained diferent data types), order, changable, allow duplicate value \n",
    "2. tuple (......), (contained different tada type), order, Unchange, allow duplicate valu # index  ",
    "(start 0) \n",
    "3. set {.....}, (contained different tada type), unorder, Unchange,unidex \n",
    "4. Dictionary in {key:value} pairs, ordered, changeable and do not allow duplicates.  ",
    "\n"
   ]
  },
  {
   "cell_type": "markdown",
   "id": "34677b83",
   "metadata": {},
   "source": [
    "### List"
   ]
  },
  {
   "cell_type": "code",
   "execution_count": 13,
   "id": "d063d03b",
   "metadata": {},
   "outputs": [
    {
     "name": "stdout",
     "output_type": "stream",
     "text": [
      "['Cambodia', 'Thailand', 'Vietnam', 'Laos', 'Malaysia', 'Japan']\n"
     ]
    }
   ],
   "source": [
    "country = ['Cambodia', \"Thailand\", \"Vietnam\", \"Laos\", \"Malaysia\", \"Japan\"]\n",
    "print(country)"
   ]
  },
  {
   "cell_type": "code",
   "execution_count": 14,
   "id": "edbab0a3",
   "metadata": {},
   "outputs": [
    {
     "name": "stdout",
     "output_type": "stream",
     "text": [
      "['Thailand', 'Vietnam', 'Laos']\n"
     ]
    }
   ],
   "source": [
    "print(country[1:4]) # 4 not count"
   ]
  },
  {
   "cell_type": "code",
   "execution_count": 15,
   "id": "57329595",
   "metadata": {},
   "outputs": [
    {
     "name": "stdout",
     "output_type": "stream",
     "text": [
      "6\n"
     ]
    }
   ],
   "source": [
    "print(len(country))"
   ]
  },
  {
   "cell_type": "code",
   "execution_count": 16,
   "id": "53626cd4",
   "metadata": {},
   "outputs": [
    {
     "name": "stdout",
     "output_type": "stream",
     "text": [
      "Japan\n"
     ]
    }
   ],
   "source": [
    "print(country[-1])"
   ]
  },
  {
   "cell_type": "code",
   "execution_count": 17,
   "id": "44662048",
   "metadata": {},
   "outputs": [
    {
     "name": "stdout",
     "output_type": "stream",
     "text": [
      "Thailand\n"
     ]
    }
   ],
   "source": [
    "print(country[-5])"
   ]
  },
  {
   "cell_type": "code",
   "execution_count": 18,
   "id": "ae4110f0",
   "metadata": {},
   "outputs": [
    {
     "name": "stdout",
     "output_type": "stream",
     "text": [
      "['Laos', 'Malaysia', 'Japan']\n"
     ]
    }
   ],
   "source": [
    "print(country[3:])"
   ]
  },
  {
   "cell_type": "code",
   "execution_count": 19,
   "id": "b056c359",
   "metadata": {},
   "outputs": [
    {
     "name": "stdout",
     "output_type": "stream",
     "text": [
      "['Cambodia', 'French', 'England', 'Laos', 'Malaysia', 'Japan']\n"
     ]
    }
   ],
   "source": [
    "country[1:3] = [\"French\", \"England\"]\n",
    "print(country)"
   ]
  },
  {
   "cell_type": "code",
   "execution_count": 20,
   "id": "317236c4",
   "metadata": {},
   "outputs": [
    {
     "name": "stdout",
     "output_type": "stream",
     "text": [
      "['Cambodia', 'French', 'England', 'Laos', 'Cambodia', 'Japan']\n"
     ]
    }
   ],
   "source": [
    "country[4] = \"Cambodia\"\n",
    "print(country)"
   ]
  },
  {
   "cell_type": "code",
   "execution_count": 21,
   "id": "5fc3e095",
   "metadata": {},
   "outputs": [
    {
     "name": "stdout",
     "output_type": "stream",
     "text": [
      "['Cambodia', 'French', 'England', 'Laos', 'Cambodia', 'Japan', 'Russia']\n"
     ]
    }
   ],
   "source": [
    "country.append(\"Russia\")\n",
    "print(country)"
   ]
  },
  {
   "cell_type": "code",
   "execution_count": 22,
   "id": "f4a4c564",
   "metadata": {},
   "outputs": [
    {
     "name": "stdout",
     "output_type": "stream",
     "text": [
      "['Cambodia', 'French', 'Swiss', 'England', 'Laos', 'Cambodia', 'Japan', 'Russia']\n"
     ]
    }
   ],
   "source": [
    "country.insert(2, \"Swiss\")\n",
    "print(country)"
   ]
  },
  {
   "cell_type": "code",
   "execution_count": 23,
   "id": "92209472",
   "metadata": {},
   "outputs": [
    {
     "name": "stdout",
     "output_type": "stream",
     "text": [
      "['Cambodia', 'French', 'Swiss', 'England', 'Laos', 'Cambodia', 'Japan', 'Russia', 'Mango', 'Cherry', 'Potato']\n"
     ]
    }
   ],
   "source": [
    "#extend concate two list (conbine 2 lists)\n",
    "fruit = [\"Mango\", \"Cherry\", \"Potato\"]\n",
    "country.extend(fruit)\n",
    "print(country)"
   ]
  },
  {
   "cell_type": "code",
   "execution_count": 24,
   "id": "5d35360e",
   "metadata": {},
   "outputs": [
    {
     "name": "stdout",
     "output_type": "stream",
     "text": [
      "['Cambodia', 'French', 'Swiss', 'England', 'Laos', 'Cambodia', 'Japan', 'Russia', 'Mango', 'Cherry', 'Potato']\n"
     ]
    }
   ],
   "source": [
    "country[5] = \"Cambodia\"\n",
    "print(country)"
   ]
  },
  {
   "cell_type": "code",
   "execution_count": 25,
   "id": "a43ca41b",
   "metadata": {},
   "outputs": [
    {
     "name": "stdout",
     "output_type": "stream",
     "text": [
      "['Cambodia', 'French', 'Swiss', 'England', 'Laos', 'Cambodia', 'Japan', 'Russia', 'Cherry', 'Potato']\n"
     ]
    }
   ],
   "source": [
    "#removed item from list: remove, pop(), del()\n",
    "country.remove(\"Mango\")\n",
    "print(country)"
   ]
  },
  {
   "cell_type": "code",
   "execution_count": 26,
   "id": "a67863f2",
   "metadata": {},
   "outputs": [
    {
     "name": "stdout",
     "output_type": "stream",
     "text": [
      "['Cambodia', 'French', 'Swiss', 'England', 'Laos', 'Japan', 'Russia', 'Cherry', 'Potato']\n"
     ]
    }
   ],
   "source": [
    "country.pop(5) #index\n",
    "print(country)"
   ]
  },
  {
   "cell_type": "code",
   "execution_count": 27,
   "id": "5cd9a61f",
   "metadata": {},
   "outputs": [
    {
     "name": "stdout",
     "output_type": "stream",
     "text": [
      "['Cambodia', 'French', 'Swiss', 'England', 'Laos', 'Japan', 'Russia', 'Cherry']\n"
     ]
    }
   ],
   "source": [
    "del country[8]\n",
    "print(country)"
   ]
  },
  {
   "cell_type": "code",
   "execution_count": 28,
   "id": "f046b39b",
   "metadata": {},
   "outputs": [
    {
     "name": "stdout",
     "output_type": "stream",
     "text": [
      "['Cambodia', 'England', 'Laos', 'Japan', 'Russia']\n"
     ]
    }
   ],
   "source": [
    "#indentation\n",
    "newlist = []\n",
    "for x in country : \n",
    "    if \"a\" in x :\n",
    "        newlist.append(x)\n",
    "print(newlist)"
   ]
  },
  {
   "cell_type": "code",
   "execution_count": 29,
   "id": "b8666cae",
   "metadata": {},
   "outputs": [
    {
     "name": "stdout",
     "output_type": "stream",
     "text": [
      "['Cambodia', 'Cherry', 'England', 'French', 'Japan', 'Laos', 'Russia', 'Swiss']\n"
     ]
    }
   ],
   "source": [
    "#sort\n",
    "country.sort()\n",
    "print(country)"
   ]
  },
  {
   "cell_type": "code",
   "execution_count": 30,
   "id": "53f1ffbc",
   "metadata": {},
   "outputs": [
    {
     "name": "stdout",
     "output_type": "stream",
     "text": [
      "[45, 78, 1, 45, 67, 9, 3]\n",
      "[1, 3, 9, 45, 45, 67, 78]\n"
     ]
    }
   ],
   "source": [
    "num = [45, 78, 1, 45, 67, 9, 3]\n",
    "print(num)\n",
    "num.sort()\n",
    "print(num)"
   ]
  },
  {
   "cell_type": "code",
   "execution_count": 31,
   "id": "3e2aec5d",
   "metadata": {},
   "outputs": [
    {
     "name": "stdout",
     "output_type": "stream",
     "text": [
      "red Apple\n",
      "red Banana\n",
      "red Dorian\n",
      "big Apple\n",
      "big Banana\n",
      "big Dorian\n",
      "tasty Apple\n",
      "tasty Banana\n",
      "tasty Dorian\n"
     ]
    }
   ],
   "source": [
    "adj = [\"red\", \"big\", \"tasty\"]\n",
    "fruit = [\"Apple\", \"Banana\", \"Dorian\"]\n",
    "\n",
    "for i in adj : #red, big, tasty\n",
    "    for j in fruit :\n",
    "        print(i, j)\n",
    "\n",
    "def nested_loop():\n",
    "    for i in range(2, 4) :\n",
    "        for j in range(1, 11) :\n",
    "            print(\"   {}   x    {}    =    {} \".format(i, j, i*j))\n",
    "        print(\"_\"*30)"
   ]
  },
  {
   "cell_type": "code",
   "execution_count": 33,
   "id": "c7e90598",
   "metadata": {},
   "outputs": [
    {
     "name": "stdout",
     "output_type": "stream",
     "text": [
      "red Apple\n",
      "red Banana\n",
      "red Dorian\n",
      "big Apple\n",
      "big Banana\n",
      "big Dorian\n",
      "tasty Apple\n",
      "tasty Banana\n",
      "tasty Dorian\n"
     ]
    }
   ],
   "source": [
    "adj=[\"red\",\"big\", \"tasty\"]\n",
    "fruit= [ \"Apple\", \"Banana\", \"Dorian\"]\n",
    "\n",
    "for i in adj:\n",
    "    for j in fruit:\n",
    "        print(i,j)\n",
    "\n",
    "def nested_loop():\n",
    "    for i in range(2, 4) :\n",
    "        for j in range(1, 11) :\n",
    "            print(\"f{i} x {j:6}\")\n",
    "        print(\"_\"*30)"
   ]
  },
  {
   "cell_type": "code",
   "execution_count": 34,
   "id": "da8d1356",
   "metadata": {},
   "outputs": [
    {
     "name": "stdout",
     "output_type": "stream",
     "text": [
      "[1, 2, 3, 4, 5]\n",
      "[1, 2, 3, 4, 5]\n",
      "[3, 1, 4, 2, 5]\n"
     ]
    }
   ],
   "source": [
    "li = [3, 1, 4, 2, 5]\n",
    "li.sort()\n",
    "print(li)\n",
    "\n",
    "li = [3, 1, 4, 2, 5]\n",
    "print(sorted(li))\n",
    "print(li)"
   ]
  },
  {
   "cell_type": "markdown",
   "id": "a621defa",
   "metadata": {},
   "source": [
    "### 0.0.2 Set\n",
    "\n",
    "set {...}, contained different data type, unorder, unchangeable, unindexing"
   ]
  },
  {
   "cell_type": "code",
   "execution_count": 35,
   "id": "b18b8459",
   "metadata": {},
   "outputs": [
    {
     "data": {
      "text/plain": [
       "{'7 habbit', 9, 'Follow your heart', 'Mein Kampf', 'Think and grow rich'}"
      ]
     },
     "execution_count": 35,
     "metadata": {},
     "output_type": "execute_result"
    }
   ],
   "source": [
    "book={\"Mein Kampf\",\"Think and grow rich\", \"Follow your heart\",\"7 habbit\",9}\n",
    "book"
   ]
  },
  {
   "cell_type": "code",
   "execution_count": 36,
   "id": "ccf0f203",
   "metadata": {},
   "outputs": [
    {
     "name": "stdout",
     "output_type": "stream",
     "text": [
      "Mein Kampf\n",
      "Think and grow rich\n",
      "9\n",
      "Follow your heart\n",
      "7 habbit\n"
     ]
    }
   ],
   "source": [
    "# loop\n",
    "for i in book:\n",
    "    print(i)"
   ]
  },
  {
   "cell_type": "code",
   "execution_count": 37,
   "id": "8e99c2f7",
   "metadata": {},
   "outputs": [
    {
     "data": {
      "text/plain": [
       "{'7 habbit',\n",
       " 9,\n",
       " 'Cambodia',\n",
       " 'Follow your heart',\n",
       " 'Mein Kampf',\n",
       " 'Think and grow rich'}"
      ]
     },
     "execution_count": 37,
     "metadata": {},
     "output_type": "execute_result"
    }
   ],
   "source": [
    "book.add(\"Cambodia\")\n",
    "book"
   ]
  },
  {
   "cell_type": "markdown",
   "id": "2b065d9e",
   "metadata": {},
   "source": [
    "### 0.0.3\n",
    "\n",
    "tuple (...),contain differrent tatype, order, unchangeable, allow dublicated item"
   ]
  },
  {
   "cell_type": "code",
   "execution_count": 38,
   "id": "bc2a7ca5",
   "metadata": {},
   "outputs": [
    {
     "name": "stdout",
     "output_type": "stream",
     "text": [
      "Cambodia\n",
      "Brunei\n",
      "Brunei\n"
     ]
    }
   ],
   "source": [
    "cou=(\"Cambodia\",\"Thailand\",\"Brunei\",34,67.901,\"Brunei\")\n",
    "print(cou[0])\n",
    "print(cou[2])\n",
    "print(cou[5])"
   ]
  },
  {
   "cell_type": "code",
   "execution_count": 39,
   "id": "5a45c0fd",
   "metadata": {},
   "outputs": [
    {
     "name": "stdout",
     "output_type": "stream",
     "text": [
      "('Cambodia', 'Thailand', 'Brunei', 23, 67.901, 'Brunei')\n"
     ]
    }
   ],
   "source": [
    "#update tuple\n",
    "count1=list(cou)#convert from tuple to list\n",
    "count1[3]=23 #change value\n",
    "cou=tuple(count1)\n",
    "print(cou)"
   ]
  },
  {
   "cell_type": "code",
   "execution_count": 40,
   "id": "a91aff30",
   "metadata": {},
   "outputs": [
    {
     "name": "stdout",
     "output_type": "stream",
     "text": [
      "('Brunei', 'Cambodia', 'Japan', 'Lao')\n"
     ]
    }
   ],
   "source": [
    "x=('Brunei', 'Cambodia', 'Japan', 'Lao')\n",
    "print(x)"
   ]
  },
  {
   "cell_type": "code",
   "execution_count": 41,
   "id": "6b2e9b72",
   "metadata": {},
   "outputs": [
    {
     "name": "stdout",
     "output_type": "stream",
     "text": [
      "Brunei\n"
     ]
    }
   ],
   "source": [
    "# unpack\n",
    "(Lotus,Romdul,Sakura,Champa) = x\n",
    "print(Lotus)"
   ]
  },
  {
   "cell_type": "code",
   "execution_count": 42,
   "id": "33438387",
   "metadata": {},
   "outputs": [
    {
     "name": "stdout",
     "output_type": "stream",
     "text": [
      "('y', 's', 't', 1, 5, 8)\n"
     ]
    }
   ],
   "source": [
    "a=(\"y\",\"s\",\"t\")\n",
    "b=(1,5,8)\n",
    "c=a+b\n",
    "print(c)"
   ]
  },
  {
   "cell_type": "code",
   "execution_count": 43,
   "id": "219f0c85",
   "metadata": {},
   "outputs": [
    {
     "name": "stdout",
     "output_type": "stream",
     "text": [
      "('Brunei', 'Cambodia', 'Japan', 'Lao', 'Brunei', 'Cambodia', 'Japan', 'Lao')\n"
     ]
    }
   ],
   "source": [
    "x=('Brunei', 'Cambodia', 'Japan', 'Lao')\n",
    "y=x*2\n",
    "print(y)"
   ]
  },
  {
   "cell_type": "code",
   "execution_count": 44,
   "id": "c51cd20b",
   "metadata": {},
   "outputs": [
    {
     "name": "stdout",
     "output_type": "stream",
     "text": [
      "(3, 6, 8, 3, 6, 8)\n"
     ]
    }
   ],
   "source": [
    "d=(3,6,8)\n",
    "f=d*2\n",
    "print(f)"
   ]
  },
  {
   "cell_type": "markdown",
   "id": "e69dc12e",
   "metadata": {},
   "source": [
    "### 0.0.4\n",
    "\n",
    "Dictionaty{key:value}, order, changable, and do not allow for dublicated key"
   ]
  },
  {
   "cell_type": "code",
   "execution_count": 45,
   "id": "74695a03",
   "metadata": {},
   "outputs": [],
   "source": [
    "dict={ \"Hi\":\" \", \"Cambodia\":\" \", \"Love\":\" \", \"Age\":28}"
   ]
  },
  {
   "cell_type": "code",
   "execution_count": 46,
   "id": "a6a7cb8c",
   "metadata": {},
   "outputs": [
    {
     "name": "stdout",
     "output_type": "stream",
     "text": [
      " \n"
     ]
    }
   ],
   "source": [
    "print(dict[\"Hi\"])"
   ]
  },
  {
   "cell_type": "code",
   "execution_count": 47,
   "id": "f949b6d1",
   "metadata": {},
   "outputs": [
    {
     "name": "stdout",
     "output_type": "stream",
     "text": [
      "Hi\n",
      "Cambodia\n",
      "Love\n",
      "Age\n"
     ]
    }
   ],
   "source": [
    "for x in dict:\n",
    "    print(x)"
   ]
  },
  {
   "cell_type": "code",
   "execution_count": 48,
   "id": "4ecdcf93",
   "metadata": {},
   "outputs": [
    {
     "name": "stdout",
     "output_type": "stream",
     "text": [
      "28\n"
     ]
    }
   ],
   "source": [
    "print(dict[\"Age\"])"
   ]
  },
  {
   "cell_type": "code",
   "execution_count": 49,
   "id": "e75131b6",
   "metadata": {},
   "outputs": [
    {
     "name": "stdout",
     "output_type": "stream",
     "text": [
      "dict_keys(['Hi', 'Cambodia', 'Love', 'Age'])\n"
     ]
    }
   ],
   "source": [
    "l = dict.keys()\n",
    "print(l)"
   ]
  },
  {
   "cell_type": "code",
   "execution_count": 50,
   "id": "f4ff030e",
   "metadata": {},
   "outputs": [
    {
     "data": {
      "text/plain": [
       "{'Hi': ' ', 'Cambodia': ' ', 'Love': ' ', 'Age': 38}"
      ]
     },
     "execution_count": 50,
     "metadata": {},
     "output_type": "execute_result"
    }
   ],
   "source": [
    "dict[\"Age\"] = 38\n",
    "dict"
   ]
  },
  {
   "cell_type": "code",
   "execution_count": 51,
   "id": "2dc84743",
   "metadata": {},
   "outputs": [],
   "source": [
    "dict.update({\"age\":48})"
   ]
  },
  {
   "cell_type": "code",
   "execution_count": 52,
   "id": "864c536e",
   "metadata": {},
   "outputs": [
    {
     "data": {
      "text/plain": [
       "{'Hi': ' ', 'Cambodia': ' ', 'Love': ' ', 'Age': 38, 'age': 48}"
      ]
     },
     "execution_count": 52,
     "metadata": {},
     "output_type": "execute_result"
    }
   ],
   "source": [
    "dict"
   ]
  },
  {
   "cell_type": "code",
   "execution_count": 53,
   "id": "aa531a69",
   "metadata": {},
   "outputs": [
    {
     "data": {
      "text/plain": [
       "{'Hi': ' ',\n",
       " 'Cambodia': ' ',\n",
       " 'Love': ' ',\n",
       " 'Age': 38,\n",
       " 'age': 48,\n",
       " 'Job': 'Data Scientist'}"
      ]
     },
     "execution_count": 53,
     "metadata": {},
     "output_type": "execute_result"
    }
   ],
   "source": [
    "dict[\"Job\"]=\"Data Scientist\"\n",
    "dict"
   ]
  },
  {
   "cell_type": "code",
   "execution_count": 54,
   "id": "0f9189d5",
   "metadata": {},
   "outputs": [
    {
     "data": {
      "text/plain": [
       "{'Hi': ' ', 'Cambodia': ' ', 'Love': ' ', 'Age': 38, 'Job': 'Data Scientist'}"
      ]
     },
     "execution_count": 54,
     "metadata": {},
     "output_type": "execute_result"
    }
   ],
   "source": [
    "dict.pop(\"age\")\n",
    "dict"
   ]
  },
  {
   "cell_type": "code",
   "execution_count": 55,
   "id": "5d3f4f09",
   "metadata": {},
   "outputs": [
    {
     "name": "stdout",
     "output_type": "stream",
     "text": [
      "You have earned green color, you will get 100\n"
     ]
    }
   ],
   "source": [
    "score = {'color':\"green\", 'point':100}\n",
    "print('You have earned '+str(score['color']) +' color, you will get '+str(score['point']))"
   ]
  },
  {
   "cell_type": "code",
   "execution_count": 56,
   "id": "024cbdd0",
   "metadata": {},
   "outputs": [],
   "source": [
    "#nested dictionary\n",
    "#a={key:{key1:value1, key2:value2}}\n",
    "family = {\n",
    "    \"kid1\":{\n",
    "        \"name\": \"Dara\",\n",
    "        \"sex\": 'M',\n",
    "        \"year\": 1990\n",
    "    },\n",
    "    \"kid2\":{\n",
    "        \"name\": \"Dary\",\n",
    "        \"sex\": 'M',\n",
    "        \"year\": 1995\n",
    "    }\n",
    "}"
   ]
  },
  {
   "cell_type": "code",
   "execution_count": 57,
   "id": "e522b6cc",
   "metadata": {},
   "outputs": [
    {
     "name": "stdout",
     "output_type": "stream",
     "text": [
      "{'name': 'Dary', 'sex': 'M', 'year': 1995}\n"
     ]
    }
   ],
   "source": [
    "print(family[\"kid2\"])"
   ]
  },
  {
   "cell_type": "markdown",
   "id": "5abba868",
   "metadata": {},
   "source": [
    "### 0.0.5 Thank You! "
   ]
  },
  {
   "cell_type": "code",
   "execution_count": null,
   "id": "6f8af822",
   "metadata": {},
   "outputs": [],
   "source": []
  }
 ],
 "metadata": {
  "kernelspec": {
   "display_name": "Python 3 (ipykernel)",
   "language": "python",
   "name": "python3"
  },
  "language_info": {
   "codemirror_mode": {
    "name": "ipython",
    "version": 3
   },
   "file_extension": ".py",
   "mimetype": "text/x-python",
   "name": "python",
   "nbconvert_exporter": "python",
   "pygments_lexer": "ipython3",
   "version": "3.9.7"
  }
 },
 "nbformat": 4,
 "nbformat_minor": 5
}
